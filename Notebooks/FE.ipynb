{
 "cells": [
  {
   "cell_type": "code",
   "execution_count": 1,
   "id": "b050453b",
   "metadata": {},
   "outputs": [
    {
     "name": "stderr",
     "output_type": "stream",
     "text": [
      "\u001b[32m\u001b[1m  Activating\u001b[22m\u001b[39m project at `~/.julia/environments/v1.11`\n"
     ]
    }
   ],
   "source": [
    "begin\n",
    "\timport Pkg\n",
    "    Pkg.activate()\n",
    "\t#Ojo, dado que activamos Pkg, ya no estamos en un entorno de notebooks reproducibles.\n",
    "end"
   ]
  },
  {
   "cell_type": "code",
   "execution_count": 4,
   "id": "6d3b7039",
   "metadata": {},
   "outputs": [],
   "source": [
    "begin\n",
    "\tusing DataFrames\n",
    "\tusing Dates\n",
    "\tusing CategoricalArrays\n",
    "\tusing DuckDB\n",
    "\tusing CSV\n",
    "\tusing Statistics, Distributions;\t\n",
    "\n",
    "end"
   ]
  },
  {
   "cell_type": "code",
   "execution_count": 3,
   "id": "09fc2f12",
   "metadata": {},
   "outputs": [
    {
     "data": {
      "text/html": [
       "<div><div style = \"float: left;\"><span>45210×17 DataFrame</span></div><div style = \"float: right;\"><span style = \"font-style: italic;\">45185 rows omitted</span></div><div style = \"clear: both;\"></div></div><div class = \"data-frame\" style = \"overflow-x: scroll;\"><table class = \"data-frame\" style = \"margin-bottom: 6px;\"><thead><tr class = \"header\"><th class = \"rowNumber\" style = \"font-weight: bold; text-align: right;\">Row</th><th style = \"text-align: left;\">age</th><th style = \"text-align: left;\">job</th><th style = \"text-align: left;\">marital</th><th style = \"text-align: left;\">education</th><th style = \"text-align: left;\">default</th><th style = \"text-align: left;\">balance</th><th style = \"text-align: left;\">housing</th><th style = \"text-align: left;\">loan</th><th style = \"text-align: left;\">contact</th><th style = \"text-align: left;\">day</th><th style = \"text-align: left;\">month</th><th style = \"text-align: left;\">durations</th><th style = \"text-align: left;\">campaign</th><th style = \"text-align: left;\">pdays</th><th style = \"text-align: left;\">previous</th><th style = \"text-align: left;\">poutcome</th><th style = \"text-align: left;\">y</th></tr><tr class = \"subheader headerLastRow\"><th class = \"rowNumber\" style = \"font-weight: bold; text-align: right;\"></th><th title = \"Int64\" style = \"text-align: left;\">Int64</th><th title = \"String15\" style = \"text-align: left;\">String15</th><th title = \"String15\" style = \"text-align: left;\">String15</th><th title = \"String15\" style = \"text-align: left;\">String15</th><th title = \"String3\" style = \"text-align: left;\">String3</th><th title = \"Int64\" style = \"text-align: left;\">Int64</th><th title = \"String3\" style = \"text-align: left;\">String3</th><th title = \"String3\" style = \"text-align: left;\">String3</th><th title = \"String15\" style = \"text-align: left;\">String15</th><th title = \"Int64\" style = \"text-align: left;\">Int64</th><th title = \"String3\" style = \"text-align: left;\">String3</th><th title = \"Int64\" style = \"text-align: left;\">Int64</th><th title = \"Int64\" style = \"text-align: left;\">Int64</th><th title = \"Int64\" style = \"text-align: left;\">Int64</th><th title = \"Int64\" style = \"text-align: left;\">Int64</th><th title = \"String7\" style = \"text-align: left;\">String7</th><th title = \"String3\" style = \"text-align: left;\">String3</th></tr></thead><tbody><tr><td class = \"rowNumber\" style = \"font-weight: bold; text-align: right;\">1</td><td style = \"text-align: right;\">58</td><td style = \"text-align: left;\">management</td><td style = \"text-align: left;\">married</td><td style = \"text-align: left;\">tertiary</td><td style = \"text-align: left;\">no</td><td style = \"text-align: right;\">2143</td><td style = \"text-align: left;\">yes</td><td style = \"text-align: left;\">no</td><td style = \"text-align: left;\">unknown</td><td style = \"text-align: right;\">5</td><td style = \"text-align: left;\">may</td><td style = \"text-align: right;\">261</td><td style = \"text-align: right;\">1</td><td style = \"text-align: right;\">-1</td><td style = \"text-align: right;\">0</td><td style = \"text-align: left;\">unknown</td><td style = \"text-align: left;\">no</td></tr><tr><td class = \"rowNumber\" style = \"font-weight: bold; text-align: right;\">2</td><td style = \"text-align: right;\">44</td><td style = \"text-align: left;\">technician</td><td style = \"text-align: left;\">single</td><td style = \"text-align: left;\">secondary</td><td style = \"text-align: left;\">no</td><td style = \"text-align: right;\">29</td><td style = \"text-align: left;\">yes</td><td style = \"text-align: left;\">no</td><td style = \"text-align: left;\">unknown</td><td style = \"text-align: right;\">5</td><td style = \"text-align: left;\">may</td><td style = \"text-align: right;\">151</td><td style = \"text-align: right;\">1</td><td style = \"text-align: right;\">-1</td><td style = \"text-align: right;\">0</td><td style = \"text-align: left;\">unknown</td><td style = \"text-align: left;\">no</td></tr><tr><td class = \"rowNumber\" style = \"font-weight: bold; text-align: right;\">3</td><td style = \"text-align: right;\">33</td><td style = \"text-align: left;\">entrepreneur</td><td style = \"text-align: left;\">married</td><td style = \"text-align: left;\">secondary</td><td style = \"text-align: left;\">no</td><td style = \"text-align: right;\">2</td><td style = \"text-align: left;\">yes</td><td style = \"text-align: left;\">yes</td><td style = \"text-align: left;\">unknown</td><td style = \"text-align: right;\">5</td><td style = \"text-align: left;\">may</td><td style = \"text-align: right;\">76</td><td style = \"text-align: right;\">1</td><td style = \"text-align: right;\">-1</td><td style = \"text-align: right;\">0</td><td style = \"text-align: left;\">unknown</td><td style = \"text-align: left;\">no</td></tr><tr><td class = \"rowNumber\" style = \"font-weight: bold; text-align: right;\">4</td><td style = \"text-align: right;\">47</td><td style = \"text-align: left;\">blue-collar</td><td style = \"text-align: left;\">married</td><td style = \"text-align: left;\">unknown</td><td style = \"text-align: left;\">no</td><td style = \"text-align: right;\">1506</td><td style = \"text-align: left;\">yes</td><td style = \"text-align: left;\">no</td><td style = \"text-align: left;\">unknown</td><td style = \"text-align: right;\">5</td><td style = \"text-align: left;\">may</td><td style = \"text-align: right;\">92</td><td style = \"text-align: right;\">1</td><td style = \"text-align: right;\">-1</td><td style = \"text-align: right;\">0</td><td style = \"text-align: left;\">unknown</td><td style = \"text-align: left;\">no</td></tr><tr><td class = \"rowNumber\" style = \"font-weight: bold; text-align: right;\">5</td><td style = \"text-align: right;\">33</td><td style = \"text-align: left;\">unknown</td><td style = \"text-align: left;\">single</td><td style = \"text-align: left;\">unknown</td><td style = \"text-align: left;\">no</td><td style = \"text-align: right;\">1</td><td style = \"text-align: left;\">no</td><td style = \"text-align: left;\">no</td><td style = \"text-align: left;\">unknown</td><td style = \"text-align: right;\">5</td><td style = \"text-align: left;\">may</td><td style = \"text-align: right;\">198</td><td style = \"text-align: right;\">1</td><td style = \"text-align: right;\">-1</td><td style = \"text-align: right;\">0</td><td style = \"text-align: left;\">unknown</td><td style = \"text-align: left;\">no</td></tr><tr><td class = \"rowNumber\" style = \"font-weight: bold; text-align: right;\">6</td><td style = \"text-align: right;\">35</td><td style = \"text-align: left;\">management</td><td style = \"text-align: left;\">married</td><td style = \"text-align: left;\">tertiary</td><td style = \"text-align: left;\">no</td><td style = \"text-align: right;\">231</td><td style = \"text-align: left;\">yes</td><td style = \"text-align: left;\">no</td><td style = \"text-align: left;\">unknown</td><td style = \"text-align: right;\">5</td><td style = \"text-align: left;\">may</td><td style = \"text-align: right;\">139</td><td style = \"text-align: right;\">1</td><td style = \"text-align: right;\">-1</td><td style = \"text-align: right;\">0</td><td style = \"text-align: left;\">unknown</td><td style = \"text-align: left;\">no</td></tr><tr><td class = \"rowNumber\" style = \"font-weight: bold; text-align: right;\">7</td><td style = \"text-align: right;\">28</td><td style = \"text-align: left;\">management</td><td style = \"text-align: left;\">single</td><td style = \"text-align: left;\">tertiary</td><td style = \"text-align: left;\">no</td><td style = \"text-align: right;\">447</td><td style = \"text-align: left;\">yes</td><td style = \"text-align: left;\">yes</td><td style = \"text-align: left;\">unknown</td><td style = \"text-align: right;\">5</td><td style = \"text-align: left;\">may</td><td style = \"text-align: right;\">217</td><td style = \"text-align: right;\">1</td><td style = \"text-align: right;\">-1</td><td style = \"text-align: right;\">0</td><td style = \"text-align: left;\">unknown</td><td style = \"text-align: left;\">no</td></tr><tr><td class = \"rowNumber\" style = \"font-weight: bold; text-align: right;\">8</td><td style = \"text-align: right;\">42</td><td style = \"text-align: left;\">entrepreneur</td><td style = \"text-align: left;\">divorced</td><td style = \"text-align: left;\">tertiary</td><td style = \"text-align: left;\">yes</td><td style = \"text-align: right;\">2</td><td style = \"text-align: left;\">yes</td><td style = \"text-align: left;\">no</td><td style = \"text-align: left;\">unknown</td><td style = \"text-align: right;\">5</td><td style = \"text-align: left;\">may</td><td style = \"text-align: right;\">380</td><td style = \"text-align: right;\">1</td><td style = \"text-align: right;\">-1</td><td style = \"text-align: right;\">0</td><td style = \"text-align: left;\">unknown</td><td style = \"text-align: left;\">no</td></tr><tr><td class = \"rowNumber\" style = \"font-weight: bold; text-align: right;\">9</td><td style = \"text-align: right;\">58</td><td style = \"text-align: left;\">retired</td><td style = \"text-align: left;\">married</td><td style = \"text-align: left;\">primary</td><td style = \"text-align: left;\">no</td><td style = \"text-align: right;\">121</td><td style = \"text-align: left;\">yes</td><td style = \"text-align: left;\">no</td><td style = \"text-align: left;\">unknown</td><td style = \"text-align: right;\">5</td><td style = \"text-align: left;\">may</td><td style = \"text-align: right;\">50</td><td style = \"text-align: right;\">1</td><td style = \"text-align: right;\">-1</td><td style = \"text-align: right;\">0</td><td style = \"text-align: left;\">unknown</td><td style = \"text-align: left;\">no</td></tr><tr><td class = \"rowNumber\" style = \"font-weight: bold; text-align: right;\">10</td><td style = \"text-align: right;\">43</td><td style = \"text-align: left;\">technician</td><td style = \"text-align: left;\">single</td><td style = \"text-align: left;\">secondary</td><td style = \"text-align: left;\">no</td><td style = \"text-align: right;\">593</td><td style = \"text-align: left;\">yes</td><td style = \"text-align: left;\">no</td><td style = \"text-align: left;\">unknown</td><td style = \"text-align: right;\">5</td><td style = \"text-align: left;\">may</td><td style = \"text-align: right;\">55</td><td style = \"text-align: right;\">1</td><td style = \"text-align: right;\">-1</td><td style = \"text-align: right;\">0</td><td style = \"text-align: left;\">unknown</td><td style = \"text-align: left;\">no</td></tr><tr><td class = \"rowNumber\" style = \"font-weight: bold; text-align: right;\">11</td><td style = \"text-align: right;\">41</td><td style = \"text-align: left;\">admin.</td><td style = \"text-align: left;\">divorced</td><td style = \"text-align: left;\">secondary</td><td style = \"text-align: left;\">no</td><td style = \"text-align: right;\">270</td><td style = \"text-align: left;\">yes</td><td style = \"text-align: left;\">no</td><td style = \"text-align: left;\">unknown</td><td style = \"text-align: right;\">5</td><td style = \"text-align: left;\">may</td><td style = \"text-align: right;\">222</td><td style = \"text-align: right;\">1</td><td style = \"text-align: right;\">-1</td><td style = \"text-align: right;\">0</td><td style = \"text-align: left;\">unknown</td><td style = \"text-align: left;\">no</td></tr><tr><td class = \"rowNumber\" style = \"font-weight: bold; text-align: right;\">12</td><td style = \"text-align: right;\">29</td><td style = \"text-align: left;\">admin.</td><td style = \"text-align: left;\">single</td><td style = \"text-align: left;\">secondary</td><td style = \"text-align: left;\">no</td><td style = \"text-align: right;\">390</td><td style = \"text-align: left;\">yes</td><td style = \"text-align: left;\">no</td><td style = \"text-align: left;\">unknown</td><td style = \"text-align: right;\">5</td><td style = \"text-align: left;\">may</td><td style = \"text-align: right;\">137</td><td style = \"text-align: right;\">1</td><td style = \"text-align: right;\">-1</td><td style = \"text-align: right;\">0</td><td style = \"text-align: left;\">unknown</td><td style = \"text-align: left;\">no</td></tr><tr><td class = \"rowNumber\" style = \"font-weight: bold; text-align: right;\">13</td><td style = \"text-align: right;\">53</td><td style = \"text-align: left;\">technician</td><td style = \"text-align: left;\">married</td><td style = \"text-align: left;\">secondary</td><td style = \"text-align: left;\">no</td><td style = \"text-align: right;\">6</td><td style = \"text-align: left;\">yes</td><td style = \"text-align: left;\">no</td><td style = \"text-align: left;\">unknown</td><td style = \"text-align: right;\">5</td><td style = \"text-align: left;\">may</td><td style = \"text-align: right;\">517</td><td style = \"text-align: right;\">1</td><td style = \"text-align: right;\">-1</td><td style = \"text-align: right;\">0</td><td style = \"text-align: left;\">unknown</td><td style = \"text-align: left;\">no</td></tr><tr><td style = \"text-align: right;\">&vellip;</td><td style = \"text-align: right;\">&vellip;</td><td style = \"text-align: right;\">&vellip;</td><td style = \"text-align: right;\">&vellip;</td><td style = \"text-align: right;\">&vellip;</td><td style = \"text-align: right;\">&vellip;</td><td style = \"text-align: right;\">&vellip;</td><td style = \"text-align: right;\">&vellip;</td><td style = \"text-align: right;\">&vellip;</td><td style = \"text-align: right;\">&vellip;</td><td style = \"text-align: right;\">&vellip;</td><td style = \"text-align: right;\">&vellip;</td><td style = \"text-align: right;\">&vellip;</td><td style = \"text-align: right;\">&vellip;</td><td style = \"text-align: right;\">&vellip;</td><td style = \"text-align: right;\">&vellip;</td><td style = \"text-align: right;\">&vellip;</td><td style = \"text-align: right;\">&vellip;</td></tr><tr><td class = \"rowNumber\" style = \"font-weight: bold; text-align: right;\">45199</td><td style = \"text-align: right;\">37</td><td style = \"text-align: left;\">management</td><td style = \"text-align: left;\">married</td><td style = \"text-align: left;\">tertiary</td><td style = \"text-align: left;\">no</td><td style = \"text-align: right;\">1428</td><td style = \"text-align: left;\">no</td><td style = \"text-align: left;\">no</td><td style = \"text-align: left;\">cellular</td><td style = \"text-align: right;\">16</td><td style = \"text-align: left;\">nov</td><td style = \"text-align: right;\">333</td><td style = \"text-align: right;\">2</td><td style = \"text-align: right;\">-1</td><td style = \"text-align: right;\">0</td><td style = \"text-align: left;\">unknown</td><td style = \"text-align: left;\">no</td></tr><tr><td class = \"rowNumber\" style = \"font-weight: bold; text-align: right;\">45200</td><td style = \"text-align: right;\">34</td><td style = \"text-align: left;\">blue-collar</td><td style = \"text-align: left;\">single</td><td style = \"text-align: left;\">secondary</td><td style = \"text-align: left;\">no</td><td style = \"text-align: right;\">1475</td><td style = \"text-align: left;\">yes</td><td style = \"text-align: left;\">no</td><td style = \"text-align: left;\">cellular</td><td style = \"text-align: right;\">16</td><td style = \"text-align: left;\">nov</td><td style = \"text-align: right;\">1166</td><td style = \"text-align: right;\">3</td><td style = \"text-align: right;\">530</td><td style = \"text-align: right;\">12</td><td style = \"text-align: left;\">other</td><td style = \"text-align: left;\">no</td></tr><tr><td class = \"rowNumber\" style = \"font-weight: bold; text-align: right;\">45201</td><td style = \"text-align: right;\">38</td><td style = \"text-align: left;\">technician</td><td style = \"text-align: left;\">married</td><td style = \"text-align: left;\">secondary</td><td style = \"text-align: left;\">no</td><td style = \"text-align: right;\">557</td><td style = \"text-align: left;\">yes</td><td style = \"text-align: left;\">no</td><td style = \"text-align: left;\">cellular</td><td style = \"text-align: right;\">16</td><td style = \"text-align: left;\">nov</td><td style = \"text-align: right;\">1556</td><td style = \"text-align: right;\">4</td><td style = \"text-align: right;\">-1</td><td style = \"text-align: right;\">0</td><td style = \"text-align: left;\">unknown</td><td style = \"text-align: left;\">yes</td></tr><tr><td class = \"rowNumber\" style = \"font-weight: bold; text-align: right;\">45202</td><td style = \"text-align: right;\">53</td><td style = \"text-align: left;\">management</td><td style = \"text-align: left;\">married</td><td style = \"text-align: left;\">tertiary</td><td style = \"text-align: left;\">no</td><td style = \"text-align: right;\">583</td><td style = \"text-align: left;\">no</td><td style = \"text-align: left;\">no</td><td style = \"text-align: left;\">cellular</td><td style = \"text-align: right;\">17</td><td style = \"text-align: left;\">nov</td><td style = \"text-align: right;\">226</td><td style = \"text-align: right;\">1</td><td style = \"text-align: right;\">184</td><td style = \"text-align: right;\">4</td><td style = \"text-align: left;\">success</td><td style = \"text-align: left;\">yes</td></tr><tr><td class = \"rowNumber\" style = \"font-weight: bold; text-align: right;\">45203</td><td style = \"text-align: right;\">34</td><td style = \"text-align: left;\">admin.</td><td style = \"text-align: left;\">single</td><td style = \"text-align: left;\">secondary</td><td style = \"text-align: left;\">no</td><td style = \"text-align: right;\">557</td><td style = \"text-align: left;\">no</td><td style = \"text-align: left;\">no</td><td style = \"text-align: left;\">cellular</td><td style = \"text-align: right;\">17</td><td style = \"text-align: left;\">nov</td><td style = \"text-align: right;\">224</td><td style = \"text-align: right;\">1</td><td style = \"text-align: right;\">-1</td><td style = \"text-align: right;\">0</td><td style = \"text-align: left;\">unknown</td><td style = \"text-align: left;\">yes</td></tr><tr><td class = \"rowNumber\" style = \"font-weight: bold; text-align: right;\">45204</td><td style = \"text-align: right;\">23</td><td style = \"text-align: left;\">student</td><td style = \"text-align: left;\">single</td><td style = \"text-align: left;\">tertiary</td><td style = \"text-align: left;\">no</td><td style = \"text-align: right;\">113</td><td style = \"text-align: left;\">no</td><td style = \"text-align: left;\">no</td><td style = \"text-align: left;\">cellular</td><td style = \"text-align: right;\">17</td><td style = \"text-align: left;\">nov</td><td style = \"text-align: right;\">266</td><td style = \"text-align: right;\">1</td><td style = \"text-align: right;\">-1</td><td style = \"text-align: right;\">0</td><td style = \"text-align: left;\">unknown</td><td style = \"text-align: left;\">yes</td></tr><tr><td class = \"rowNumber\" style = \"font-weight: bold; text-align: right;\">45205</td><td style = \"text-align: right;\">73</td><td style = \"text-align: left;\">retired</td><td style = \"text-align: left;\">married</td><td style = \"text-align: left;\">secondary</td><td style = \"text-align: left;\">no</td><td style = \"text-align: right;\">2850</td><td style = \"text-align: left;\">no</td><td style = \"text-align: left;\">no</td><td style = \"text-align: left;\">cellular</td><td style = \"text-align: right;\">17</td><td style = \"text-align: left;\">nov</td><td style = \"text-align: right;\">300</td><td style = \"text-align: right;\">1</td><td style = \"text-align: right;\">40</td><td style = \"text-align: right;\">8</td><td style = \"text-align: left;\">failure</td><td style = \"text-align: left;\">yes</td></tr><tr><td class = \"rowNumber\" style = \"font-weight: bold; text-align: right;\">45206</td><td style = \"text-align: right;\">25</td><td style = \"text-align: left;\">technician</td><td style = \"text-align: left;\">single</td><td style = \"text-align: left;\">secondary</td><td style = \"text-align: left;\">no</td><td style = \"text-align: right;\">505</td><td style = \"text-align: left;\">no</td><td style = \"text-align: left;\">yes</td><td style = \"text-align: left;\">cellular</td><td style = \"text-align: right;\">17</td><td style = \"text-align: left;\">nov</td><td style = \"text-align: right;\">386</td><td style = \"text-align: right;\">2</td><td style = \"text-align: right;\">-1</td><td style = \"text-align: right;\">0</td><td style = \"text-align: left;\">unknown</td><td style = \"text-align: left;\">yes</td></tr><tr><td class = \"rowNumber\" style = \"font-weight: bold; text-align: right;\">45207</td><td style = \"text-align: right;\">51</td><td style = \"text-align: left;\">technician</td><td style = \"text-align: left;\">married</td><td style = \"text-align: left;\">tertiary</td><td style = \"text-align: left;\">no</td><td style = \"text-align: right;\">825</td><td style = \"text-align: left;\">no</td><td style = \"text-align: left;\">no</td><td style = \"text-align: left;\">cellular</td><td style = \"text-align: right;\">17</td><td style = \"text-align: left;\">nov</td><td style = \"text-align: right;\">977</td><td style = \"text-align: right;\">3</td><td style = \"text-align: right;\">-1</td><td style = \"text-align: right;\">0</td><td style = \"text-align: left;\">unknown</td><td style = \"text-align: left;\">yes</td></tr><tr><td class = \"rowNumber\" style = \"font-weight: bold; text-align: right;\">45208</td><td style = \"text-align: right;\">71</td><td style = \"text-align: left;\">retired</td><td style = \"text-align: left;\">divorced</td><td style = \"text-align: left;\">primary</td><td style = \"text-align: left;\">no</td><td style = \"text-align: right;\">1729</td><td style = \"text-align: left;\">no</td><td style = \"text-align: left;\">no</td><td style = \"text-align: left;\">cellular</td><td style = \"text-align: right;\">17</td><td style = \"text-align: left;\">nov</td><td style = \"text-align: right;\">456</td><td style = \"text-align: right;\">2</td><td style = \"text-align: right;\">-1</td><td style = \"text-align: right;\">0</td><td style = \"text-align: left;\">unknown</td><td style = \"text-align: left;\">yes</td></tr><tr><td class = \"rowNumber\" style = \"font-weight: bold; text-align: right;\">45209</td><td style = \"text-align: right;\">72</td><td style = \"text-align: left;\">retired</td><td style = \"text-align: left;\">married</td><td style = \"text-align: left;\">secondary</td><td style = \"text-align: left;\">no</td><td style = \"text-align: right;\">5715</td><td style = \"text-align: left;\">no</td><td style = \"text-align: left;\">no</td><td style = \"text-align: left;\">cellular</td><td style = \"text-align: right;\">17</td><td style = \"text-align: left;\">nov</td><td style = \"text-align: right;\">1127</td><td style = \"text-align: right;\">5</td><td style = \"text-align: right;\">184</td><td style = \"text-align: right;\">3</td><td style = \"text-align: left;\">success</td><td style = \"text-align: left;\">yes</td></tr><tr><td class = \"rowNumber\" style = \"font-weight: bold; text-align: right;\">45210</td><td style = \"text-align: right;\">57</td><td style = \"text-align: left;\">blue-collar</td><td style = \"text-align: left;\">married</td><td style = \"text-align: left;\">secondary</td><td style = \"text-align: left;\">no</td><td style = \"text-align: right;\">668</td><td style = \"text-align: left;\">no</td><td style = \"text-align: left;\">no</td><td style = \"text-align: left;\">telephone</td><td style = \"text-align: right;\">17</td><td style = \"text-align: left;\">nov</td><td style = \"text-align: right;\">508</td><td style = \"text-align: right;\">4</td><td style = \"text-align: right;\">-1</td><td style = \"text-align: right;\">0</td><td style = \"text-align: left;\">unknown</td><td style = \"text-align: left;\">no</td></tr></tbody></table></div>"
      ],
      "text/latex": [
       "\\begin{tabular}{r|cccccccccc}\n",
       "\t& age & job & marital & education & default & balance & housing & loan & contact & \\\\\n",
       "\t\\hline\n",
       "\t& Int64 & String15 & String15 & String15 & String3 & Int64 & String3 & String3 & String15 & \\\\\n",
       "\t\\hline\n",
       "\t1 & 58 & management & married & tertiary & no & 2143 & yes & no & unknown & $\\dots$ \\\\\n",
       "\t2 & 44 & technician & single & secondary & no & 29 & yes & no & unknown & $\\dots$ \\\\\n",
       "\t3 & 33 & entrepreneur & married & secondary & no & 2 & yes & yes & unknown & $\\dots$ \\\\\n",
       "\t4 & 47 & blue-collar & married & unknown & no & 1506 & yes & no & unknown & $\\dots$ \\\\\n",
       "\t5 & 33 & unknown & single & unknown & no & 1 & no & no & unknown & $\\dots$ \\\\\n",
       "\t6 & 35 & management & married & tertiary & no & 231 & yes & no & unknown & $\\dots$ \\\\\n",
       "\t7 & 28 & management & single & tertiary & no & 447 & yes & yes & unknown & $\\dots$ \\\\\n",
       "\t8 & 42 & entrepreneur & divorced & tertiary & yes & 2 & yes & no & unknown & $\\dots$ \\\\\n",
       "\t9 & 58 & retired & married & primary & no & 121 & yes & no & unknown & $\\dots$ \\\\\n",
       "\t10 & 43 & technician & single & secondary & no & 593 & yes & no & unknown & $\\dots$ \\\\\n",
       "\t11 & 41 & admin. & divorced & secondary & no & 270 & yes & no & unknown & $\\dots$ \\\\\n",
       "\t12 & 29 & admin. & single & secondary & no & 390 & yes & no & unknown & $\\dots$ \\\\\n",
       "\t13 & 53 & technician & married & secondary & no & 6 & yes & no & unknown & $\\dots$ \\\\\n",
       "\t14 & 58 & technician & married & unknown & no & 71 & yes & no & unknown & $\\dots$ \\\\\n",
       "\t15 & 57 & services & married & secondary & no & 162 & yes & no & unknown & $\\dots$ \\\\\n",
       "\t16 & 51 & retired & married & primary & no & 229 & yes & no & unknown & $\\dots$ \\\\\n",
       "\t17 & 45 & admin. & single & unknown & no & 13 & yes & no & unknown & $\\dots$ \\\\\n",
       "\t18 & 57 & blue-collar & married & primary & no & 52 & yes & no & unknown & $\\dots$ \\\\\n",
       "\t19 & 60 & retired & married & primary & no & 60 & yes & no & unknown & $\\dots$ \\\\\n",
       "\t20 & 33 & services & married & secondary & no & 0 & yes & no & unknown & $\\dots$ \\\\\n",
       "\t21 & 28 & blue-collar & married & secondary & no & 723 & yes & yes & unknown & $\\dots$ \\\\\n",
       "\t22 & 56 & management & married & tertiary & no & 779 & yes & no & unknown & $\\dots$ \\\\\n",
       "\t23 & 32 & blue-collar & single & primary & no & 23 & yes & yes & unknown & $\\dots$ \\\\\n",
       "\t24 & 25 & services & married & secondary & no & 50 & yes & no & unknown & $\\dots$ \\\\\n",
       "\t$\\dots$ & $\\dots$ & $\\dots$ & $\\dots$ & $\\dots$ & $\\dots$ & $\\dots$ & $\\dots$ & $\\dots$ & $\\dots$ &  \\\\\n",
       "\\end{tabular}\n"
      ],
      "text/plain": [
       "\u001b[1m45210×17 DataFrame\u001b[0m\n",
       "\u001b[1m   Row \u001b[0m│\u001b[1m age   \u001b[0m\u001b[1m job          \u001b[0m\u001b[1m marital  \u001b[0m\u001b[1m education \u001b[0m\u001b[1m default \u001b[0m\u001b[1m balance \u001b[0m\u001b[1m housing \u001b[0m\u001b[1m \u001b[0m ⋯\n",
       "       │\u001b[90m Int64 \u001b[0m\u001b[90m String15     \u001b[0m\u001b[90m String15 \u001b[0m\u001b[90m String15  \u001b[0m\u001b[90m String3 \u001b[0m\u001b[90m Int64   \u001b[0m\u001b[90m String3 \u001b[0m\u001b[90m \u001b[0m ⋯\n",
       "───────┼────────────────────────────────────────────────────────────────────────\n",
       "     1 │    58  management    married   tertiary   no          2143  yes       ⋯\n",
       "     2 │    44  technician    single    secondary  no            29  yes\n",
       "     3 │    33  entrepreneur  married   secondary  no             2  yes\n",
       "     4 │    47  blue-collar   married   unknown    no          1506  yes\n",
       "     5 │    33  unknown       single    unknown    no             1  no        ⋯\n",
       "     6 │    35  management    married   tertiary   no           231  yes\n",
       "     7 │    28  management    single    tertiary   no           447  yes\n",
       "     8 │    42  entrepreneur  divorced  tertiary   yes            2  yes\n",
       "   ⋮   │   ⋮         ⋮           ⋮          ⋮         ⋮        ⋮        ⋮      ⋱\n",
       " 45204 │    23  student       single    tertiary   no           113  no        ⋯\n",
       " 45205 │    73  retired       married   secondary  no          2850  no\n",
       " 45206 │    25  technician    single    secondary  no           505  no\n",
       " 45207 │    51  technician    married   tertiary   no           825  no\n",
       " 45208 │    71  retired       divorced  primary    no          1729  no        ⋯\n",
       " 45209 │    72  retired       married   secondary  no          5715  no\n",
       " 45210 │    57  blue-collar   married   secondary  no           668  no\n",
       "\u001b[36m                                               10 columns and 45195 rows omitted\u001b[0m"
      ]
     },
     "metadata": {},
     "output_type": "display_data"
    }
   ],
   "source": [
    "begin\n",
    "    data = CSV.read(\"../dataset/bank-full.csv\", DataFrame)\n",
    "end"
   ]
  },
  {
   "cell_type": "markdown",
   "id": "5fa1933b",
   "metadata": {},
   "source": [
    "\n",
    "---"
   ]
  },
  {
   "cell_type": "markdown",
   "id": "624241f5",
   "metadata": {},
   "source": [
    "# Feature Engineering"
   ]
  },
  {
   "cell_type": "code",
   "execution_count": 5,
   "id": "dbeecf02",
   "metadata": {},
   "outputs": [
    {
     "name": "stdout",
     "output_type": "stream",
     "text": [
      "🦆 Initializing DuckDB...\n",
      "DuckDB connection established.\n",
      "✅ Exported 45210 rows to table 'banking_data'\n"
     ]
    }
   ],
   "source": [
    "# Create DuckDB connection\n",
    "\n",
    "println(\"🦆 Initializing DuckDB...\")\n",
    "db = DuckDB.DB()\n",
    "conn = DuckDB.connect(db)\n",
    "println(\"DuckDB connection established.\")\n",
    "\n",
    "# Export base data to DuckDB\n",
    "DuckDB.register_table(conn, data, \"banking_data\")\n",
    "println(\"✅ Exported $(nrow(data)) rows to table 'banking_data'\")"
   ]
  },
  {
   "cell_type": "code",
   "execution_count": null,
   "id": "34727296",
   "metadata": {},
   "outputs": [],
   "source": []
  }
 ],
 "metadata": {
  "kernelspec": {
   "display_name": "Julia 1.11.3",
   "language": "julia",
   "name": "julia-1.11"
  },
  "language_info": {
   "file_extension": ".jl",
   "mimetype": "application/julia",
   "name": "julia",
   "version": "1.11.3"
  }
 },
 "nbformat": 4,
 "nbformat_minor": 5
}
