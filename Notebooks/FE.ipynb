{
 "cells": [
  {
   "cell_type": "code",
   "execution_count": 1,
   "id": "b050453b",
   "metadata": {},
   "outputs": [
    {
     "name": "stderr",
     "output_type": "stream",
     "text": [
      "\u001b[32m\u001b[1m  Activating\u001b[22m\u001b[39m project at `~/.julia/environments/v1.11`\n"
     ]
    }
   ],
   "source": [
    "begin\n",
    "\timport Pkg\n",
    "    Pkg.activate()\n",
    "\t#Ojo, dado que activamos Pkg, ya no estamos en un entorno de notebooks reproducibles.\n",
    "end"
   ]
  },
  {
   "cell_type": "code",
   "execution_count": 2,
   "id": "6d3b7039",
   "metadata": {},
   "outputs": [],
   "source": [
    "begin\n",
    "\tusing DataFrames\n",
    "\tusing Dates\n",
    "\tusing CategoricalArrays\n",
    "\tusing DuckDB\n",
    "\tusing CSV\n",
    "\tusing MLJ, MLJBase\n",
    "\tusing MLJModels\n",
    "\tusing Statistics, Distributions;\t\n",
    "\n",
    "end"
   ]
  },
  {
   "cell_type": "code",
   "execution_count": 3,
   "id": "09fc2f12",
   "metadata": {},
   "outputs": [
    {
     "data": {
      "text/html": [
       "<div><div style = \"float: left;\"><span>45210×17 DataFrame</span></div><div style = \"float: right;\"><span style = \"font-style: italic;\">45185 rows omitted</span></div><div style = \"clear: both;\"></div></div><div class = \"data-frame\" style = \"overflow-x: scroll;\"><table class = \"data-frame\" style = \"margin-bottom: 6px;\"><thead><tr class = \"header\"><th class = \"rowNumber\" style = \"font-weight: bold; text-align: right;\">Row</th><th style = \"text-align: left;\">age</th><th style = \"text-align: left;\">job</th><th style = \"text-align: left;\">marital</th><th style = \"text-align: left;\">education</th><th style = \"text-align: left;\">default</th><th style = \"text-align: left;\">balance</th><th style = \"text-align: left;\">housing</th><th style = \"text-align: left;\">loan</th><th style = \"text-align: left;\">contact</th><th style = \"text-align: left;\">day</th><th style = \"text-align: left;\">month</th><th style = \"text-align: left;\">durations</th><th style = \"text-align: left;\">campaign</th><th style = \"text-align: left;\">pdays</th><th style = \"text-align: left;\">previous</th><th style = \"text-align: left;\">poutcome</th><th style = \"text-align: left;\">y</th></tr><tr class = \"subheader headerLastRow\"><th class = \"rowNumber\" style = \"font-weight: bold; text-align: right;\"></th><th title = \"Int64\" style = \"text-align: left;\">Int64</th><th title = \"String15\" style = \"text-align: left;\">String15</th><th title = \"String15\" style = \"text-align: left;\">String15</th><th title = \"String15\" style = \"text-align: left;\">String15</th><th title = \"String3\" style = \"text-align: left;\">String3</th><th title = \"Int64\" style = \"text-align: left;\">Int64</th><th title = \"String3\" style = \"text-align: left;\">String3</th><th title = \"String3\" style = \"text-align: left;\">String3</th><th title = \"String15\" style = \"text-align: left;\">String15</th><th title = \"Int64\" style = \"text-align: left;\">Int64</th><th title = \"String3\" style = \"text-align: left;\">String3</th><th title = \"Int64\" style = \"text-align: left;\">Int64</th><th title = \"Int64\" style = \"text-align: left;\">Int64</th><th title = \"Int64\" style = \"text-align: left;\">Int64</th><th title = \"Int64\" style = \"text-align: left;\">Int64</th><th title = \"String7\" style = \"text-align: left;\">String7</th><th title = \"String3\" style = \"text-align: left;\">String3</th></tr></thead><tbody><tr><td class = \"rowNumber\" style = \"font-weight: bold; text-align: right;\">1</td><td style = \"text-align: right;\">58</td><td style = \"text-align: left;\">management</td><td style = \"text-align: left;\">married</td><td style = \"text-align: left;\">tertiary</td><td style = \"text-align: left;\">no</td><td style = \"text-align: right;\">2143</td><td style = \"text-align: left;\">yes</td><td style = \"text-align: left;\">no</td><td style = \"text-align: left;\">unknown</td><td style = \"text-align: right;\">5</td><td style = \"text-align: left;\">may</td><td style = \"text-align: right;\">261</td><td style = \"text-align: right;\">1</td><td style = \"text-align: right;\">-1</td><td style = \"text-align: right;\">0</td><td style = \"text-align: left;\">unknown</td><td style = \"text-align: left;\">no</td></tr><tr><td class = \"rowNumber\" style = \"font-weight: bold; text-align: right;\">2</td><td style = \"text-align: right;\">44</td><td style = \"text-align: left;\">technician</td><td style = \"text-align: left;\">single</td><td style = \"text-align: left;\">secondary</td><td style = \"text-align: left;\">no</td><td style = \"text-align: right;\">29</td><td style = \"text-align: left;\">yes</td><td style = \"text-align: left;\">no</td><td style = \"text-align: left;\">unknown</td><td style = \"text-align: right;\">5</td><td style = \"text-align: left;\">may</td><td style = \"text-align: right;\">151</td><td style = \"text-align: right;\">1</td><td style = \"text-align: right;\">-1</td><td style = \"text-align: right;\">0</td><td style = \"text-align: left;\">unknown</td><td style = \"text-align: left;\">no</td></tr><tr><td class = \"rowNumber\" style = \"font-weight: bold; text-align: right;\">3</td><td style = \"text-align: right;\">33</td><td style = \"text-align: left;\">entrepreneur</td><td style = \"text-align: left;\">married</td><td style = \"text-align: left;\">secondary</td><td style = \"text-align: left;\">no</td><td style = \"text-align: right;\">2</td><td style = \"text-align: left;\">yes</td><td style = \"text-align: left;\">yes</td><td style = \"text-align: left;\">unknown</td><td style = \"text-align: right;\">5</td><td style = \"text-align: left;\">may</td><td style = \"text-align: right;\">76</td><td style = \"text-align: right;\">1</td><td style = \"text-align: right;\">-1</td><td style = \"text-align: right;\">0</td><td style = \"text-align: left;\">unknown</td><td style = \"text-align: left;\">no</td></tr><tr><td class = \"rowNumber\" style = \"font-weight: bold; text-align: right;\">4</td><td style = \"text-align: right;\">47</td><td style = \"text-align: left;\">blue-collar</td><td style = \"text-align: left;\">married</td><td style = \"text-align: left;\">unknown</td><td style = \"text-align: left;\">no</td><td style = \"text-align: right;\">1506</td><td style = \"text-align: left;\">yes</td><td style = \"text-align: left;\">no</td><td style = \"text-align: left;\">unknown</td><td style = \"text-align: right;\">5</td><td style = \"text-align: left;\">may</td><td style = \"text-align: right;\">92</td><td style = \"text-align: right;\">1</td><td style = \"text-align: right;\">-1</td><td style = \"text-align: right;\">0</td><td style = \"text-align: left;\">unknown</td><td style = \"text-align: left;\">no</td></tr><tr><td class = \"rowNumber\" style = \"font-weight: bold; text-align: right;\">5</td><td style = \"text-align: right;\">33</td><td style = \"text-align: left;\">unknown</td><td style = \"text-align: left;\">single</td><td style = \"text-align: left;\">unknown</td><td style = \"text-align: left;\">no</td><td style = \"text-align: right;\">1</td><td style = \"text-align: left;\">no</td><td style = \"text-align: left;\">no</td><td style = \"text-align: left;\">unknown</td><td style = \"text-align: right;\">5</td><td style = \"text-align: left;\">may</td><td style = \"text-align: right;\">198</td><td style = \"text-align: right;\">1</td><td style = \"text-align: right;\">-1</td><td style = \"text-align: right;\">0</td><td style = \"text-align: left;\">unknown</td><td style = \"text-align: left;\">no</td></tr><tr><td class = \"rowNumber\" style = \"font-weight: bold; text-align: right;\">6</td><td style = \"text-align: right;\">35</td><td style = \"text-align: left;\">management</td><td style = \"text-align: left;\">married</td><td style = \"text-align: left;\">tertiary</td><td style = \"text-align: left;\">no</td><td style = \"text-align: right;\">231</td><td style = \"text-align: left;\">yes</td><td style = \"text-align: left;\">no</td><td style = \"text-align: left;\">unknown</td><td style = \"text-align: right;\">5</td><td style = \"text-align: left;\">may</td><td style = \"text-align: right;\">139</td><td style = \"text-align: right;\">1</td><td style = \"text-align: right;\">-1</td><td style = \"text-align: right;\">0</td><td style = \"text-align: left;\">unknown</td><td style = \"text-align: left;\">no</td></tr><tr><td class = \"rowNumber\" style = \"font-weight: bold; text-align: right;\">7</td><td style = \"text-align: right;\">28</td><td style = \"text-align: left;\">management</td><td style = \"text-align: left;\">single</td><td style = \"text-align: left;\">tertiary</td><td style = \"text-align: left;\">no</td><td style = \"text-align: right;\">447</td><td style = \"text-align: left;\">yes</td><td style = \"text-align: left;\">yes</td><td style = \"text-align: left;\">unknown</td><td style = \"text-align: right;\">5</td><td style = \"text-align: left;\">may</td><td style = \"text-align: right;\">217</td><td style = \"text-align: right;\">1</td><td style = \"text-align: right;\">-1</td><td style = \"text-align: right;\">0</td><td style = \"text-align: left;\">unknown</td><td style = \"text-align: left;\">no</td></tr><tr><td class = \"rowNumber\" style = \"font-weight: bold; text-align: right;\">8</td><td style = \"text-align: right;\">42</td><td style = \"text-align: left;\">entrepreneur</td><td style = \"text-align: left;\">divorced</td><td style = \"text-align: left;\">tertiary</td><td style = \"text-align: left;\">yes</td><td style = \"text-align: right;\">2</td><td style = \"text-align: left;\">yes</td><td style = \"text-align: left;\">no</td><td style = \"text-align: left;\">unknown</td><td style = \"text-align: right;\">5</td><td style = \"text-align: left;\">may</td><td style = \"text-align: right;\">380</td><td style = \"text-align: right;\">1</td><td style = \"text-align: right;\">-1</td><td style = \"text-align: right;\">0</td><td style = \"text-align: left;\">unknown</td><td style = \"text-align: left;\">no</td></tr><tr><td class = \"rowNumber\" style = \"font-weight: bold; text-align: right;\">9</td><td style = \"text-align: right;\">58</td><td style = \"text-align: left;\">retired</td><td style = \"text-align: left;\">married</td><td style = \"text-align: left;\">primary</td><td style = \"text-align: left;\">no</td><td style = \"text-align: right;\">121</td><td style = \"text-align: left;\">yes</td><td style = \"text-align: left;\">no</td><td style = \"text-align: left;\">unknown</td><td style = \"text-align: right;\">5</td><td style = \"text-align: left;\">may</td><td style = \"text-align: right;\">50</td><td style = \"text-align: right;\">1</td><td style = \"text-align: right;\">-1</td><td style = \"text-align: right;\">0</td><td style = \"text-align: left;\">unknown</td><td style = \"text-align: left;\">no</td></tr><tr><td class = \"rowNumber\" style = \"font-weight: bold; text-align: right;\">10</td><td style = \"text-align: right;\">43</td><td style = \"text-align: left;\">technician</td><td style = \"text-align: left;\">single</td><td style = \"text-align: left;\">secondary</td><td style = \"text-align: left;\">no</td><td style = \"text-align: right;\">593</td><td style = \"text-align: left;\">yes</td><td style = \"text-align: left;\">no</td><td style = \"text-align: left;\">unknown</td><td style = \"text-align: right;\">5</td><td style = \"text-align: left;\">may</td><td style = \"text-align: right;\">55</td><td style = \"text-align: right;\">1</td><td style = \"text-align: right;\">-1</td><td style = \"text-align: right;\">0</td><td style = \"text-align: left;\">unknown</td><td style = \"text-align: left;\">no</td></tr><tr><td class = \"rowNumber\" style = \"font-weight: bold; text-align: right;\">11</td><td style = \"text-align: right;\">41</td><td style = \"text-align: left;\">admin.</td><td style = \"text-align: left;\">divorced</td><td style = \"text-align: left;\">secondary</td><td style = \"text-align: left;\">no</td><td style = \"text-align: right;\">270</td><td style = \"text-align: left;\">yes</td><td style = \"text-align: left;\">no</td><td style = \"text-align: left;\">unknown</td><td style = \"text-align: right;\">5</td><td style = \"text-align: left;\">may</td><td style = \"text-align: right;\">222</td><td style = \"text-align: right;\">1</td><td style = \"text-align: right;\">-1</td><td style = \"text-align: right;\">0</td><td style = \"text-align: left;\">unknown</td><td style = \"text-align: left;\">no</td></tr><tr><td class = \"rowNumber\" style = \"font-weight: bold; text-align: right;\">12</td><td style = \"text-align: right;\">29</td><td style = \"text-align: left;\">admin.</td><td style = \"text-align: left;\">single</td><td style = \"text-align: left;\">secondary</td><td style = \"text-align: left;\">no</td><td style = \"text-align: right;\">390</td><td style = \"text-align: left;\">yes</td><td style = \"text-align: left;\">no</td><td style = \"text-align: left;\">unknown</td><td style = \"text-align: right;\">5</td><td style = \"text-align: left;\">may</td><td style = \"text-align: right;\">137</td><td style = \"text-align: right;\">1</td><td style = \"text-align: right;\">-1</td><td style = \"text-align: right;\">0</td><td style = \"text-align: left;\">unknown</td><td style = \"text-align: left;\">no</td></tr><tr><td class = \"rowNumber\" style = \"font-weight: bold; text-align: right;\">13</td><td style = \"text-align: right;\">53</td><td style = \"text-align: left;\">technician</td><td style = \"text-align: left;\">married</td><td style = \"text-align: left;\">secondary</td><td style = \"text-align: left;\">no</td><td style = \"text-align: right;\">6</td><td style = \"text-align: left;\">yes</td><td style = \"text-align: left;\">no</td><td style = \"text-align: left;\">unknown</td><td style = \"text-align: right;\">5</td><td style = \"text-align: left;\">may</td><td style = \"text-align: right;\">517</td><td style = \"text-align: right;\">1</td><td style = \"text-align: right;\">-1</td><td style = \"text-align: right;\">0</td><td style = \"text-align: left;\">unknown</td><td style = \"text-align: left;\">no</td></tr><tr><td style = \"text-align: right;\">&vellip;</td><td style = \"text-align: right;\">&vellip;</td><td style = \"text-align: right;\">&vellip;</td><td style = \"text-align: right;\">&vellip;</td><td style = \"text-align: right;\">&vellip;</td><td style = \"text-align: right;\">&vellip;</td><td style = \"text-align: right;\">&vellip;</td><td style = \"text-align: right;\">&vellip;</td><td style = \"text-align: right;\">&vellip;</td><td style = \"text-align: right;\">&vellip;</td><td style = \"text-align: right;\">&vellip;</td><td style = \"text-align: right;\">&vellip;</td><td style = \"text-align: right;\">&vellip;</td><td style = \"text-align: right;\">&vellip;</td><td style = \"text-align: right;\">&vellip;</td><td style = \"text-align: right;\">&vellip;</td><td style = \"text-align: right;\">&vellip;</td><td style = \"text-align: right;\">&vellip;</td></tr><tr><td class = \"rowNumber\" style = \"font-weight: bold; text-align: right;\">45199</td><td style = \"text-align: right;\">37</td><td style = \"text-align: left;\">management</td><td style = \"text-align: left;\">married</td><td style = \"text-align: left;\">tertiary</td><td style = \"text-align: left;\">no</td><td style = \"text-align: right;\">1428</td><td style = \"text-align: left;\">no</td><td style = \"text-align: left;\">no</td><td style = \"text-align: left;\">cellular</td><td style = \"text-align: right;\">16</td><td style = \"text-align: left;\">nov</td><td style = \"text-align: right;\">333</td><td style = \"text-align: right;\">2</td><td style = \"text-align: right;\">-1</td><td style = \"text-align: right;\">0</td><td style = \"text-align: left;\">unknown</td><td style = \"text-align: left;\">no</td></tr><tr><td class = \"rowNumber\" style = \"font-weight: bold; text-align: right;\">45200</td><td style = \"text-align: right;\">34</td><td style = \"text-align: left;\">blue-collar</td><td style = \"text-align: left;\">single</td><td style = \"text-align: left;\">secondary</td><td style = \"text-align: left;\">no</td><td style = \"text-align: right;\">1475</td><td style = \"text-align: left;\">yes</td><td style = \"text-align: left;\">no</td><td style = \"text-align: left;\">cellular</td><td style = \"text-align: right;\">16</td><td style = \"text-align: left;\">nov</td><td style = \"text-align: right;\">1166</td><td style = \"text-align: right;\">3</td><td style = \"text-align: right;\">530</td><td style = \"text-align: right;\">12</td><td style = \"text-align: left;\">other</td><td style = \"text-align: left;\">no</td></tr><tr><td class = \"rowNumber\" style = \"font-weight: bold; text-align: right;\">45201</td><td style = \"text-align: right;\">38</td><td style = \"text-align: left;\">technician</td><td style = \"text-align: left;\">married</td><td style = \"text-align: left;\">secondary</td><td style = \"text-align: left;\">no</td><td style = \"text-align: right;\">557</td><td style = \"text-align: left;\">yes</td><td style = \"text-align: left;\">no</td><td style = \"text-align: left;\">cellular</td><td style = \"text-align: right;\">16</td><td style = \"text-align: left;\">nov</td><td style = \"text-align: right;\">1556</td><td style = \"text-align: right;\">4</td><td style = \"text-align: right;\">-1</td><td style = \"text-align: right;\">0</td><td style = \"text-align: left;\">unknown</td><td style = \"text-align: left;\">yes</td></tr><tr><td class = \"rowNumber\" style = \"font-weight: bold; text-align: right;\">45202</td><td style = \"text-align: right;\">53</td><td style = \"text-align: left;\">management</td><td style = \"text-align: left;\">married</td><td style = \"text-align: left;\">tertiary</td><td style = \"text-align: left;\">no</td><td style = \"text-align: right;\">583</td><td style = \"text-align: left;\">no</td><td style = \"text-align: left;\">no</td><td style = \"text-align: left;\">cellular</td><td style = \"text-align: right;\">17</td><td style = \"text-align: left;\">nov</td><td style = \"text-align: right;\">226</td><td style = \"text-align: right;\">1</td><td style = \"text-align: right;\">184</td><td style = \"text-align: right;\">4</td><td style = \"text-align: left;\">success</td><td style = \"text-align: left;\">yes</td></tr><tr><td class = \"rowNumber\" style = \"font-weight: bold; text-align: right;\">45203</td><td style = \"text-align: right;\">34</td><td style = \"text-align: left;\">admin.</td><td style = \"text-align: left;\">single</td><td style = \"text-align: left;\">secondary</td><td style = \"text-align: left;\">no</td><td style = \"text-align: right;\">557</td><td style = \"text-align: left;\">no</td><td style = \"text-align: left;\">no</td><td style = \"text-align: left;\">cellular</td><td style = \"text-align: right;\">17</td><td style = \"text-align: left;\">nov</td><td style = \"text-align: right;\">224</td><td style = \"text-align: right;\">1</td><td style = \"text-align: right;\">-1</td><td style = \"text-align: right;\">0</td><td style = \"text-align: left;\">unknown</td><td style = \"text-align: left;\">yes</td></tr><tr><td class = \"rowNumber\" style = \"font-weight: bold; text-align: right;\">45204</td><td style = \"text-align: right;\">23</td><td style = \"text-align: left;\">student</td><td style = \"text-align: left;\">single</td><td style = \"text-align: left;\">tertiary</td><td style = \"text-align: left;\">no</td><td style = \"text-align: right;\">113</td><td style = \"text-align: left;\">no</td><td style = \"text-align: left;\">no</td><td style = \"text-align: left;\">cellular</td><td style = \"text-align: right;\">17</td><td style = \"text-align: left;\">nov</td><td style = \"text-align: right;\">266</td><td style = \"text-align: right;\">1</td><td style = \"text-align: right;\">-1</td><td style = \"text-align: right;\">0</td><td style = \"text-align: left;\">unknown</td><td style = \"text-align: left;\">yes</td></tr><tr><td class = \"rowNumber\" style = \"font-weight: bold; text-align: right;\">45205</td><td style = \"text-align: right;\">73</td><td style = \"text-align: left;\">retired</td><td style = \"text-align: left;\">married</td><td style = \"text-align: left;\">secondary</td><td style = \"text-align: left;\">no</td><td style = \"text-align: right;\">2850</td><td style = \"text-align: left;\">no</td><td style = \"text-align: left;\">no</td><td style = \"text-align: left;\">cellular</td><td style = \"text-align: right;\">17</td><td style = \"text-align: left;\">nov</td><td style = \"text-align: right;\">300</td><td style = \"text-align: right;\">1</td><td style = \"text-align: right;\">40</td><td style = \"text-align: right;\">8</td><td style = \"text-align: left;\">failure</td><td style = \"text-align: left;\">yes</td></tr><tr><td class = \"rowNumber\" style = \"font-weight: bold; text-align: right;\">45206</td><td style = \"text-align: right;\">25</td><td style = \"text-align: left;\">technician</td><td style = \"text-align: left;\">single</td><td style = \"text-align: left;\">secondary</td><td style = \"text-align: left;\">no</td><td style = \"text-align: right;\">505</td><td style = \"text-align: left;\">no</td><td style = \"text-align: left;\">yes</td><td style = \"text-align: left;\">cellular</td><td style = \"text-align: right;\">17</td><td style = \"text-align: left;\">nov</td><td style = \"text-align: right;\">386</td><td style = \"text-align: right;\">2</td><td style = \"text-align: right;\">-1</td><td style = \"text-align: right;\">0</td><td style = \"text-align: left;\">unknown</td><td style = \"text-align: left;\">yes</td></tr><tr><td class = \"rowNumber\" style = \"font-weight: bold; text-align: right;\">45207</td><td style = \"text-align: right;\">51</td><td style = \"text-align: left;\">technician</td><td style = \"text-align: left;\">married</td><td style = \"text-align: left;\">tertiary</td><td style = \"text-align: left;\">no</td><td style = \"text-align: right;\">825</td><td style = \"text-align: left;\">no</td><td style = \"text-align: left;\">no</td><td style = \"text-align: left;\">cellular</td><td style = \"text-align: right;\">17</td><td style = \"text-align: left;\">nov</td><td style = \"text-align: right;\">977</td><td style = \"text-align: right;\">3</td><td style = \"text-align: right;\">-1</td><td style = \"text-align: right;\">0</td><td style = \"text-align: left;\">unknown</td><td style = \"text-align: left;\">yes</td></tr><tr><td class = \"rowNumber\" style = \"font-weight: bold; text-align: right;\">45208</td><td style = \"text-align: right;\">71</td><td style = \"text-align: left;\">retired</td><td style = \"text-align: left;\">divorced</td><td style = \"text-align: left;\">primary</td><td style = \"text-align: left;\">no</td><td style = \"text-align: right;\">1729</td><td style = \"text-align: left;\">no</td><td style = \"text-align: left;\">no</td><td style = \"text-align: left;\">cellular</td><td style = \"text-align: right;\">17</td><td style = \"text-align: left;\">nov</td><td style = \"text-align: right;\">456</td><td style = \"text-align: right;\">2</td><td style = \"text-align: right;\">-1</td><td style = \"text-align: right;\">0</td><td style = \"text-align: left;\">unknown</td><td style = \"text-align: left;\">yes</td></tr><tr><td class = \"rowNumber\" style = \"font-weight: bold; text-align: right;\">45209</td><td style = \"text-align: right;\">72</td><td style = \"text-align: left;\">retired</td><td style = \"text-align: left;\">married</td><td style = \"text-align: left;\">secondary</td><td style = \"text-align: left;\">no</td><td style = \"text-align: right;\">5715</td><td style = \"text-align: left;\">no</td><td style = \"text-align: left;\">no</td><td style = \"text-align: left;\">cellular</td><td style = \"text-align: right;\">17</td><td style = \"text-align: left;\">nov</td><td style = \"text-align: right;\">1127</td><td style = \"text-align: right;\">5</td><td style = \"text-align: right;\">184</td><td style = \"text-align: right;\">3</td><td style = \"text-align: left;\">success</td><td style = \"text-align: left;\">yes</td></tr><tr><td class = \"rowNumber\" style = \"font-weight: bold; text-align: right;\">45210</td><td style = \"text-align: right;\">57</td><td style = \"text-align: left;\">blue-collar</td><td style = \"text-align: left;\">married</td><td style = \"text-align: left;\">secondary</td><td style = \"text-align: left;\">no</td><td style = \"text-align: right;\">668</td><td style = \"text-align: left;\">no</td><td style = \"text-align: left;\">no</td><td style = \"text-align: left;\">telephone</td><td style = \"text-align: right;\">17</td><td style = \"text-align: left;\">nov</td><td style = \"text-align: right;\">508</td><td style = \"text-align: right;\">4</td><td style = \"text-align: right;\">-1</td><td style = \"text-align: right;\">0</td><td style = \"text-align: left;\">unknown</td><td style = \"text-align: left;\">no</td></tr></tbody></table></div>"
      ],
      "text/latex": [
       "\\begin{tabular}{r|cccccccccc}\n",
       "\t& age & job & marital & education & default & balance & housing & loan & contact & \\\\\n",
       "\t\\hline\n",
       "\t& Int64 & String15 & String15 & String15 & String3 & Int64 & String3 & String3 & String15 & \\\\\n",
       "\t\\hline\n",
       "\t1 & 58 & management & married & tertiary & no & 2143 & yes & no & unknown & $\\dots$ \\\\\n",
       "\t2 & 44 & technician & single & secondary & no & 29 & yes & no & unknown & $\\dots$ \\\\\n",
       "\t3 & 33 & entrepreneur & married & secondary & no & 2 & yes & yes & unknown & $\\dots$ \\\\\n",
       "\t4 & 47 & blue-collar & married & unknown & no & 1506 & yes & no & unknown & $\\dots$ \\\\\n",
       "\t5 & 33 & unknown & single & unknown & no & 1 & no & no & unknown & $\\dots$ \\\\\n",
       "\t6 & 35 & management & married & tertiary & no & 231 & yes & no & unknown & $\\dots$ \\\\\n",
       "\t7 & 28 & management & single & tertiary & no & 447 & yes & yes & unknown & $\\dots$ \\\\\n",
       "\t8 & 42 & entrepreneur & divorced & tertiary & yes & 2 & yes & no & unknown & $\\dots$ \\\\\n",
       "\t9 & 58 & retired & married & primary & no & 121 & yes & no & unknown & $\\dots$ \\\\\n",
       "\t10 & 43 & technician & single & secondary & no & 593 & yes & no & unknown & $\\dots$ \\\\\n",
       "\t11 & 41 & admin. & divorced & secondary & no & 270 & yes & no & unknown & $\\dots$ \\\\\n",
       "\t12 & 29 & admin. & single & secondary & no & 390 & yes & no & unknown & $\\dots$ \\\\\n",
       "\t13 & 53 & technician & married & secondary & no & 6 & yes & no & unknown & $\\dots$ \\\\\n",
       "\t14 & 58 & technician & married & unknown & no & 71 & yes & no & unknown & $\\dots$ \\\\\n",
       "\t15 & 57 & services & married & secondary & no & 162 & yes & no & unknown & $\\dots$ \\\\\n",
       "\t16 & 51 & retired & married & primary & no & 229 & yes & no & unknown & $\\dots$ \\\\\n",
       "\t17 & 45 & admin. & single & unknown & no & 13 & yes & no & unknown & $\\dots$ \\\\\n",
       "\t18 & 57 & blue-collar & married & primary & no & 52 & yes & no & unknown & $\\dots$ \\\\\n",
       "\t19 & 60 & retired & married & primary & no & 60 & yes & no & unknown & $\\dots$ \\\\\n",
       "\t20 & 33 & services & married & secondary & no & 0 & yes & no & unknown & $\\dots$ \\\\\n",
       "\t21 & 28 & blue-collar & married & secondary & no & 723 & yes & yes & unknown & $\\dots$ \\\\\n",
       "\t22 & 56 & management & married & tertiary & no & 779 & yes & no & unknown & $\\dots$ \\\\\n",
       "\t23 & 32 & blue-collar & single & primary & no & 23 & yes & yes & unknown & $\\dots$ \\\\\n",
       "\t24 & 25 & services & married & secondary & no & 50 & yes & no & unknown & $\\dots$ \\\\\n",
       "\t$\\dots$ & $\\dots$ & $\\dots$ & $\\dots$ & $\\dots$ & $\\dots$ & $\\dots$ & $\\dots$ & $\\dots$ & $\\dots$ &  \\\\\n",
       "\\end{tabular}\n"
      ],
      "text/plain": [
       "\u001b[1m45210×17 DataFrame\u001b[0m\n",
       "\u001b[1m   Row \u001b[0m│\u001b[1m age   \u001b[0m\u001b[1m job          \u001b[0m\u001b[1m marital  \u001b[0m\u001b[1m education \u001b[0m\u001b[1m default \u001b[0m\u001b[1m balance \u001b[0m\u001b[1m housing \u001b[0m\u001b[1m \u001b[0m ⋯\n",
       "       │\u001b[90m Int64 \u001b[0m\u001b[90m String15     \u001b[0m\u001b[90m String15 \u001b[0m\u001b[90m String15  \u001b[0m\u001b[90m String3 \u001b[0m\u001b[90m Int64   \u001b[0m\u001b[90m String3 \u001b[0m\u001b[90m \u001b[0m ⋯\n",
       "───────┼────────────────────────────────────────────────────────────────────────\n",
       "     1 │    58  management    married   tertiary   no          2143  yes       ⋯\n",
       "     2 │    44  technician    single    secondary  no            29  yes\n",
       "     3 │    33  entrepreneur  married   secondary  no             2  yes\n",
       "     4 │    47  blue-collar   married   unknown    no          1506  yes\n",
       "     5 │    33  unknown       single    unknown    no             1  no        ⋯\n",
       "     6 │    35  management    married   tertiary   no           231  yes\n",
       "     7 │    28  management    single    tertiary   no           447  yes\n",
       "     8 │    42  entrepreneur  divorced  tertiary   yes            2  yes\n",
       "   ⋮   │   ⋮         ⋮           ⋮          ⋮         ⋮        ⋮        ⋮      ⋱\n",
       " 45204 │    23  student       single    tertiary   no           113  no        ⋯\n",
       " 45205 │    73  retired       married   secondary  no          2850  no\n",
       " 45206 │    25  technician    single    secondary  no           505  no\n",
       " 45207 │    51  technician    married   tertiary   no           825  no\n",
       " 45208 │    71  retired       divorced  primary    no          1729  no        ⋯\n",
       " 45209 │    72  retired       married   secondary  no          5715  no\n",
       " 45210 │    57  blue-collar   married   secondary  no           668  no\n",
       "\u001b[36m                                               10 columns and 45195 rows omitted\u001b[0m"
      ]
     },
     "metadata": {},
     "output_type": "display_data"
    }
   ],
   "source": [
    "begin\n",
    "    data = CSV.read(\"../dataset/bank-full.csv\", DataFrame)\n",
    "end"
   ]
  },
  {
   "cell_type": "markdown",
   "id": "5fa1933b",
   "metadata": {},
   "source": [
    "\n",
    "---"
   ]
  },
  {
   "cell_type": "markdown",
   "id": "02c2a3ae",
   "metadata": {},
   "source": [
    "# Creating Aux feature for correct stratification"
   ]
  },
  {
   "cell_type": "code",
   "execution_count": 4,
   "id": "34727296",
   "metadata": {},
   "outputs": [
    {
     "data": {
      "text/html": [
       "<div><div style = \"float: left;\"><span>9042×17 DataFrame</span></div><div style = \"float: right;\"><span style = \"font-style: italic;\">9017 rows omitted</span></div><div style = \"clear: both;\"></div></div><div class = \"data-frame\" style = \"overflow-x: scroll;\"><table class = \"data-frame\" style = \"margin-bottom: 6px;\"><thead><tr class = \"header\"><th class = \"rowNumber\" style = \"font-weight: bold; text-align: right;\">Row</th><th style = \"text-align: left;\">age</th><th style = \"text-align: left;\">job</th><th style = \"text-align: left;\">marital</th><th style = \"text-align: left;\">education</th><th style = \"text-align: left;\">default</th><th style = \"text-align: left;\">balance</th><th style = \"text-align: left;\">housing</th><th style = \"text-align: left;\">loan</th><th style = \"text-align: left;\">contact</th><th style = \"text-align: left;\">day</th><th style = \"text-align: left;\">month</th><th style = \"text-align: left;\">durations</th><th style = \"text-align: left;\">campaign</th><th style = \"text-align: left;\">pdays</th><th style = \"text-align: left;\">previous</th><th style = \"text-align: left;\">poutcome</th><th style = \"text-align: left;\">y</th></tr><tr class = \"subheader headerLastRow\"><th class = \"rowNumber\" style = \"font-weight: bold; text-align: right;\"></th><th title = \"Int64\" style = \"text-align: left;\">Int64</th><th title = \"String15\" style = \"text-align: left;\">String15</th><th title = \"String15\" style = \"text-align: left;\">String15</th><th title = \"String15\" style = \"text-align: left;\">String15</th><th title = \"String3\" style = \"text-align: left;\">String3</th><th title = \"Int64\" style = \"text-align: left;\">Int64</th><th title = \"String3\" style = \"text-align: left;\">String3</th><th title = \"String3\" style = \"text-align: left;\">String3</th><th title = \"String15\" style = \"text-align: left;\">String15</th><th title = \"Int64\" style = \"text-align: left;\">Int64</th><th title = \"String3\" style = \"text-align: left;\">String3</th><th title = \"Int64\" style = \"text-align: left;\">Int64</th><th title = \"Int64\" style = \"text-align: left;\">Int64</th><th title = \"Int64\" style = \"text-align: left;\">Int64</th><th title = \"Int64\" style = \"text-align: left;\">Int64</th><th title = \"String7\" style = \"text-align: left;\">String7</th><th title = \"String3\" style = \"text-align: left;\">String3</th></tr></thead><tbody><tr><td class = \"rowNumber\" style = \"font-weight: bold; text-align: right;\">1</td><td style = \"text-align: right;\">40</td><td style = \"text-align: left;\">admin.</td><td style = \"text-align: left;\">divorced</td><td style = \"text-align: left;\">secondary</td><td style = \"text-align: left;\">no</td><td style = \"text-align: right;\">2550</td><td style = \"text-align: left;\">yes</td><td style = \"text-align: left;\">no</td><td style = \"text-align: left;\">unknown</td><td style = \"text-align: right;\">2</td><td style = \"text-align: left;\">jun</td><td style = \"text-align: right;\">424</td><td style = \"text-align: right;\">2</td><td style = \"text-align: right;\">-1</td><td style = \"text-align: right;\">0</td><td style = \"text-align: left;\">unknown</td><td style = \"text-align: left;\">no</td></tr><tr><td class = \"rowNumber\" style = \"font-weight: bold; text-align: right;\">2</td><td style = \"text-align: right;\">40</td><td style = \"text-align: left;\">blue-collar</td><td style = \"text-align: left;\">married</td><td style = \"text-align: left;\">secondary</td><td style = \"text-align: left;\">no</td><td style = \"text-align: right;\">563</td><td style = \"text-align: left;\">yes</td><td style = \"text-align: left;\">no</td><td style = \"text-align: left;\">unknown</td><td style = \"text-align: right;\">7</td><td style = \"text-align: left;\">may</td><td style = \"text-align: right;\">615</td><td style = \"text-align: right;\">1</td><td style = \"text-align: right;\">-1</td><td style = \"text-align: right;\">0</td><td style = \"text-align: left;\">unknown</td><td style = \"text-align: left;\">no</td></tr><tr><td class = \"rowNumber\" style = \"font-weight: bold; text-align: right;\">3</td><td style = \"text-align: right;\">29</td><td style = \"text-align: left;\">technician</td><td style = \"text-align: left;\">single</td><td style = \"text-align: left;\">secondary</td><td style = \"text-align: left;\">no</td><td style = \"text-align: right;\">706</td><td style = \"text-align: left;\">yes</td><td style = \"text-align: left;\">no</td><td style = \"text-align: left;\">cellular</td><td style = \"text-align: right;\">18</td><td style = \"text-align: left;\">may</td><td style = \"text-align: right;\">1340</td><td style = \"text-align: right;\">1</td><td style = \"text-align: right;\">-1</td><td style = \"text-align: right;\">0</td><td style = \"text-align: left;\">unknown</td><td style = \"text-align: left;\">yes</td></tr><tr><td class = \"rowNumber\" style = \"font-weight: bold; text-align: right;\">4</td><td style = \"text-align: right;\">44</td><td style = \"text-align: left;\">management</td><td style = \"text-align: left;\">married</td><td style = \"text-align: left;\">tertiary</td><td style = \"text-align: left;\">no</td><td style = \"text-align: right;\">119</td><td style = \"text-align: left;\">yes</td><td style = \"text-align: left;\">no</td><td style = \"text-align: left;\">cellular</td><td style = \"text-align: right;\">10</td><td style = \"text-align: left;\">jul</td><td style = \"text-align: right;\">67</td><td style = \"text-align: right;\">1</td><td style = \"text-align: right;\">-1</td><td style = \"text-align: right;\">0</td><td style = \"text-align: left;\">unknown</td><td style = \"text-align: left;\">no</td></tr><tr><td class = \"rowNumber\" style = \"font-weight: bold; text-align: right;\">5</td><td style = \"text-align: right;\">27</td><td style = \"text-align: left;\">blue-collar</td><td style = \"text-align: left;\">single</td><td style = \"text-align: left;\">secondary</td><td style = \"text-align: left;\">no</td><td style = \"text-align: right;\">185</td><td style = \"text-align: left;\">yes</td><td style = \"text-align: left;\">no</td><td style = \"text-align: left;\">cellular</td><td style = \"text-align: right;\">7</td><td style = \"text-align: left;\">may</td><td style = \"text-align: right;\">212</td><td style = \"text-align: right;\">1</td><td style = \"text-align: right;\">-1</td><td style = \"text-align: right;\">0</td><td style = \"text-align: left;\">unknown</td><td style = \"text-align: left;\">no</td></tr><tr><td class = \"rowNumber\" style = \"font-weight: bold; text-align: right;\">6</td><td style = \"text-align: right;\">43</td><td style = \"text-align: left;\">blue-collar</td><td style = \"text-align: left;\">married</td><td style = \"text-align: left;\">secondary</td><td style = \"text-align: left;\">no</td><td style = \"text-align: right;\">19</td><td style = \"text-align: left;\">yes</td><td style = \"text-align: left;\">no</td><td style = \"text-align: left;\">unknown</td><td style = \"text-align: right;\">16</td><td style = \"text-align: left;\">may</td><td style = \"text-align: right;\">249</td><td style = \"text-align: right;\">1</td><td style = \"text-align: right;\">-1</td><td style = \"text-align: right;\">0</td><td style = \"text-align: left;\">unknown</td><td style = \"text-align: left;\">no</td></tr><tr><td class = \"rowNumber\" style = \"font-weight: bold; text-align: right;\">7</td><td style = \"text-align: right;\">39</td><td style = \"text-align: left;\">admin.</td><td style = \"text-align: left;\">married</td><td style = \"text-align: left;\">secondary</td><td style = \"text-align: left;\">no</td><td style = \"text-align: right;\">201</td><td style = \"text-align: left;\">yes</td><td style = \"text-align: left;\">no</td><td style = \"text-align: left;\">cellular</td><td style = \"text-align: right;\">13</td><td style = \"text-align: left;\">apr</td><td style = \"text-align: right;\">263</td><td style = \"text-align: right;\">3</td><td style = \"text-align: right;\">-1</td><td style = \"text-align: right;\">0</td><td style = \"text-align: left;\">unknown</td><td style = \"text-align: left;\">no</td></tr><tr><td class = \"rowNumber\" style = \"font-weight: bold; text-align: right;\">8</td><td style = \"text-align: right;\">47</td><td style = \"text-align: left;\">unemployed</td><td style = \"text-align: left;\">married</td><td style = \"text-align: left;\">secondary</td><td style = \"text-align: left;\">no</td><td style = \"text-align: right;\">351</td><td style = \"text-align: left;\">yes</td><td style = \"text-align: left;\">yes</td><td style = \"text-align: left;\">cellular</td><td style = \"text-align: right;\">19</td><td style = \"text-align: left;\">nov</td><td style = \"text-align: right;\">174</td><td style = \"text-align: right;\">1</td><td style = \"text-align: right;\">174</td><td style = \"text-align: right;\">1</td><td style = \"text-align: left;\">failure</td><td style = \"text-align: left;\">no</td></tr><tr><td class = \"rowNumber\" style = \"font-weight: bold; text-align: right;\">9</td><td style = \"text-align: right;\">38</td><td style = \"text-align: left;\">management</td><td style = \"text-align: left;\">married</td><td style = \"text-align: left;\">tertiary</td><td style = \"text-align: left;\">no</td><td style = \"text-align: right;\">4293</td><td style = \"text-align: left;\">yes</td><td style = \"text-align: left;\">no</td><td style = \"text-align: left;\">cellular</td><td style = \"text-align: right;\">6</td><td style = \"text-align: left;\">may</td><td style = \"text-align: right;\">92</td><td style = \"text-align: right;\">2</td><td style = \"text-align: right;\">250</td><td style = \"text-align: right;\">2</td><td style = \"text-align: left;\">failure</td><td style = \"text-align: left;\">no</td></tr><tr><td class = \"rowNumber\" style = \"font-weight: bold; text-align: right;\">10</td><td style = \"text-align: right;\">37</td><td style = \"text-align: left;\">services</td><td style = \"text-align: left;\">single</td><td style = \"text-align: left;\">unknown</td><td style = \"text-align: left;\">no</td><td style = \"text-align: right;\">-118</td><td style = \"text-align: left;\">yes</td><td style = \"text-align: left;\">no</td><td style = \"text-align: left;\">unknown</td><td style = \"text-align: right;\">6</td><td style = \"text-align: left;\">may</td><td style = \"text-align: right;\">147</td><td style = \"text-align: right;\">2</td><td style = \"text-align: right;\">-1</td><td style = \"text-align: right;\">0</td><td style = \"text-align: left;\">unknown</td><td style = \"text-align: left;\">no</td></tr><tr><td class = \"rowNumber\" style = \"font-weight: bold; text-align: right;\">11</td><td style = \"text-align: right;\">54</td><td style = \"text-align: left;\">housemaid</td><td style = \"text-align: left;\">married</td><td style = \"text-align: left;\">secondary</td><td style = \"text-align: left;\">no</td><td style = \"text-align: right;\">167</td><td style = \"text-align: left;\">yes</td><td style = \"text-align: left;\">no</td><td style = \"text-align: left;\">unknown</td><td style = \"text-align: right;\">20</td><td style = \"text-align: left;\">may</td><td style = \"text-align: right;\">547</td><td style = \"text-align: right;\">7</td><td style = \"text-align: right;\">-1</td><td style = \"text-align: right;\">0</td><td style = \"text-align: left;\">unknown</td><td style = \"text-align: left;\">no</td></tr><tr><td class = \"rowNumber\" style = \"font-weight: bold; text-align: right;\">12</td><td style = \"text-align: right;\">31</td><td style = \"text-align: left;\">admin.</td><td style = \"text-align: left;\">married</td><td style = \"text-align: left;\">secondary</td><td style = \"text-align: left;\">no</td><td style = \"text-align: right;\">8784</td><td style = \"text-align: left;\">yes</td><td style = \"text-align: left;\">no</td><td style = \"text-align: left;\">unknown</td><td style = \"text-align: right;\">21</td><td style = \"text-align: left;\">may</td><td style = \"text-align: right;\">63</td><td style = \"text-align: right;\">2</td><td style = \"text-align: right;\">-1</td><td style = \"text-align: right;\">0</td><td style = \"text-align: left;\">unknown</td><td style = \"text-align: left;\">no</td></tr><tr><td class = \"rowNumber\" style = \"font-weight: bold; text-align: right;\">13</td><td style = \"text-align: right;\">36</td><td style = \"text-align: left;\">admin.</td><td style = \"text-align: left;\">single</td><td style = \"text-align: left;\">tertiary</td><td style = \"text-align: left;\">no</td><td style = \"text-align: right;\">2317</td><td style = \"text-align: left;\">yes</td><td style = \"text-align: left;\">no</td><td style = \"text-align: left;\">cellular</td><td style = \"text-align: right;\">19</td><td style = \"text-align: left;\">nov</td><td style = \"text-align: right;\">56</td><td style = \"text-align: right;\">2</td><td style = \"text-align: right;\">-1</td><td style = \"text-align: right;\">0</td><td style = \"text-align: left;\">unknown</td><td style = \"text-align: left;\">no</td></tr><tr><td style = \"text-align: right;\">&vellip;</td><td style = \"text-align: right;\">&vellip;</td><td style = \"text-align: right;\">&vellip;</td><td style = \"text-align: right;\">&vellip;</td><td style = \"text-align: right;\">&vellip;</td><td style = \"text-align: right;\">&vellip;</td><td style = \"text-align: right;\">&vellip;</td><td style = \"text-align: right;\">&vellip;</td><td style = \"text-align: right;\">&vellip;</td><td style = \"text-align: right;\">&vellip;</td><td style = \"text-align: right;\">&vellip;</td><td style = \"text-align: right;\">&vellip;</td><td style = \"text-align: right;\">&vellip;</td><td style = \"text-align: right;\">&vellip;</td><td style = \"text-align: right;\">&vellip;</td><td style = \"text-align: right;\">&vellip;</td><td style = \"text-align: right;\">&vellip;</td><td style = \"text-align: right;\">&vellip;</td></tr><tr><td class = \"rowNumber\" style = \"font-weight: bold; text-align: right;\">9031</td><td style = \"text-align: right;\">40</td><td style = \"text-align: left;\">blue-collar</td><td style = \"text-align: left;\">married</td><td style = \"text-align: left;\">unknown</td><td style = \"text-align: left;\">no</td><td style = \"text-align: right;\">-4</td><td style = \"text-align: left;\">yes</td><td style = \"text-align: left;\">no</td><td style = \"text-align: left;\">unknown</td><td style = \"text-align: right;\">7</td><td style = \"text-align: left;\">may</td><td style = \"text-align: right;\">311</td><td style = \"text-align: right;\">1</td><td style = \"text-align: right;\">-1</td><td style = \"text-align: right;\">0</td><td style = \"text-align: left;\">unknown</td><td style = \"text-align: left;\">no</td></tr><tr><td class = \"rowNumber\" style = \"font-weight: bold; text-align: right;\">9032</td><td style = \"text-align: right;\">40</td><td style = \"text-align: left;\">management</td><td style = \"text-align: left;\">married</td><td style = \"text-align: left;\">secondary</td><td style = \"text-align: left;\">yes</td><td style = \"text-align: right;\">-1545</td><td style = \"text-align: left;\">no</td><td style = \"text-align: left;\">no</td><td style = \"text-align: left;\">cellular</td><td style = \"text-align: right;\">27</td><td style = \"text-align: left;\">aug</td><td style = \"text-align: right;\">70</td><td style = \"text-align: right;\">13</td><td style = \"text-align: right;\">-1</td><td style = \"text-align: right;\">0</td><td style = \"text-align: left;\">unknown</td><td style = \"text-align: left;\">no</td></tr><tr><td class = \"rowNumber\" style = \"font-weight: bold; text-align: right;\">9033</td><td style = \"text-align: right;\">49</td><td style = \"text-align: left;\">services</td><td style = \"text-align: left;\">married</td><td style = \"text-align: left;\">secondary</td><td style = \"text-align: left;\">no</td><td style = \"text-align: right;\">486</td><td style = \"text-align: left;\">yes</td><td style = \"text-align: left;\">yes</td><td style = \"text-align: left;\">unknown</td><td style = \"text-align: right;\">30</td><td style = \"text-align: left;\">may</td><td style = \"text-align: right;\">43</td><td style = \"text-align: right;\">2</td><td style = \"text-align: right;\">-1</td><td style = \"text-align: right;\">0</td><td style = \"text-align: left;\">unknown</td><td style = \"text-align: left;\">no</td></tr><tr><td class = \"rowNumber\" style = \"font-weight: bold; text-align: right;\">9034</td><td style = \"text-align: right;\">53</td><td style = \"text-align: left;\">admin.</td><td style = \"text-align: left;\">single</td><td style = \"text-align: left;\">secondary</td><td style = \"text-align: left;\">no</td><td style = \"text-align: right;\">1958</td><td style = \"text-align: left;\">no</td><td style = \"text-align: left;\">no</td><td style = \"text-align: left;\">telephone</td><td style = \"text-align: right;\">7</td><td style = \"text-align: left;\">jul</td><td style = \"text-align: right;\">82</td><td style = \"text-align: right;\">2</td><td style = \"text-align: right;\">75</td><td style = \"text-align: right;\">4</td><td style = \"text-align: left;\">failure</td><td style = \"text-align: left;\">no</td></tr><tr><td class = \"rowNumber\" style = \"font-weight: bold; text-align: right;\">9035</td><td style = \"text-align: right;\">38</td><td style = \"text-align: left;\">unemployed</td><td style = \"text-align: left;\">married</td><td style = \"text-align: left;\">primary</td><td style = \"text-align: left;\">no</td><td style = \"text-align: right;\">311</td><td style = \"text-align: left;\">no</td><td style = \"text-align: left;\">no</td><td style = \"text-align: left;\">telephone</td><td style = \"text-align: right;\">31</td><td style = \"text-align: left;\">jul</td><td style = \"text-align: right;\">80</td><td style = \"text-align: right;\">11</td><td style = \"text-align: right;\">-1</td><td style = \"text-align: right;\">0</td><td style = \"text-align: left;\">unknown</td><td style = \"text-align: left;\">no</td></tr><tr><td class = \"rowNumber\" style = \"font-weight: bold; text-align: right;\">9036</td><td style = \"text-align: right;\">32</td><td style = \"text-align: left;\">management</td><td style = \"text-align: left;\">single</td><td style = \"text-align: left;\">tertiary</td><td style = \"text-align: left;\">no</td><td style = \"text-align: right;\">151</td><td style = \"text-align: left;\">no</td><td style = \"text-align: left;\">no</td><td style = \"text-align: left;\">unknown</td><td style = \"text-align: right;\">23</td><td style = \"text-align: left;\">may</td><td style = \"text-align: right;\">111</td><td style = \"text-align: right;\">2</td><td style = \"text-align: right;\">-1</td><td style = \"text-align: right;\">0</td><td style = \"text-align: left;\">unknown</td><td style = \"text-align: left;\">no</td></tr><tr><td class = \"rowNumber\" style = \"font-weight: bold; text-align: right;\">9037</td><td style = \"text-align: right;\">33</td><td style = \"text-align: left;\">management</td><td style = \"text-align: left;\">married</td><td style = \"text-align: left;\">tertiary</td><td style = \"text-align: left;\">no</td><td style = \"text-align: right;\">418</td><td style = \"text-align: left;\">yes</td><td style = \"text-align: left;\">no</td><td style = \"text-align: left;\">cellular</td><td style = \"text-align: right;\">21</td><td style = \"text-align: left;\">nov</td><td style = \"text-align: right;\">159</td><td style = \"text-align: right;\">1</td><td style = \"text-align: right;\">-1</td><td style = \"text-align: right;\">0</td><td style = \"text-align: left;\">unknown</td><td style = \"text-align: left;\">no</td></tr><tr><td class = \"rowNumber\" style = \"font-weight: bold; text-align: right;\">9038</td><td style = \"text-align: right;\">31</td><td style = \"text-align: left;\">admin.</td><td style = \"text-align: left;\">single</td><td style = \"text-align: left;\">secondary</td><td style = \"text-align: left;\">no</td><td style = \"text-align: right;\">144</td><td style = \"text-align: left;\">yes</td><td style = \"text-align: left;\">no</td><td style = \"text-align: left;\">unknown</td><td style = \"text-align: right;\">4</td><td style = \"text-align: left;\">jul</td><td style = \"text-align: right;\">43</td><td style = \"text-align: right;\">11</td><td style = \"text-align: right;\">-1</td><td style = \"text-align: right;\">0</td><td style = \"text-align: left;\">unknown</td><td style = \"text-align: left;\">no</td></tr><tr><td class = \"rowNumber\" style = \"font-weight: bold; text-align: right;\">9039</td><td style = \"text-align: right;\">37</td><td style = \"text-align: left;\">technician</td><td style = \"text-align: left;\">married</td><td style = \"text-align: left;\">tertiary</td><td style = \"text-align: left;\">no</td><td style = \"text-align: right;\">0</td><td style = \"text-align: left;\">yes</td><td style = \"text-align: left;\">yes</td><td style = \"text-align: left;\">cellular</td><td style = \"text-align: right;\">23</td><td style = \"text-align: left;\">jul</td><td style = \"text-align: right;\">155</td><td style = \"text-align: right;\">2</td><td style = \"text-align: right;\">-1</td><td style = \"text-align: right;\">0</td><td style = \"text-align: left;\">unknown</td><td style = \"text-align: left;\">no</td></tr><tr><td class = \"rowNumber\" style = \"font-weight: bold; text-align: right;\">9040</td><td style = \"text-align: right;\">50</td><td style = \"text-align: left;\">technician</td><td style = \"text-align: left;\">married</td><td style = \"text-align: left;\">tertiary</td><td style = \"text-align: left;\">no</td><td style = \"text-align: right;\">1830</td><td style = \"text-align: left;\">no</td><td style = \"text-align: left;\">no</td><td style = \"text-align: left;\">cellular</td><td style = \"text-align: right;\">14</td><td style = \"text-align: left;\">may</td><td style = \"text-align: right;\">318</td><td style = \"text-align: right;\">3</td><td style = \"text-align: right;\">-1</td><td style = \"text-align: right;\">0</td><td style = \"text-align: left;\">unknown</td><td style = \"text-align: left;\">no</td></tr><tr><td class = \"rowNumber\" style = \"font-weight: bold; text-align: right;\">9041</td><td style = \"text-align: right;\">51</td><td style = \"text-align: left;\">blue-collar</td><td style = \"text-align: left;\">married</td><td style = \"text-align: left;\">primary</td><td style = \"text-align: left;\">no</td><td style = \"text-align: right;\">7080</td><td style = \"text-align: left;\">no</td><td style = \"text-align: left;\">no</td><td style = \"text-align: left;\">unknown</td><td style = \"text-align: right;\">11</td><td style = \"text-align: left;\">jun</td><td style = \"text-align: right;\">26</td><td style = \"text-align: right;\">1</td><td style = \"text-align: right;\">-1</td><td style = \"text-align: right;\">0</td><td style = \"text-align: left;\">unknown</td><td style = \"text-align: left;\">no</td></tr><tr><td class = \"rowNumber\" style = \"font-weight: bold; text-align: right;\">9042</td><td style = \"text-align: right;\">38</td><td style = \"text-align: left;\">blue-collar</td><td style = \"text-align: left;\">married</td><td style = \"text-align: left;\">secondary</td><td style = \"text-align: left;\">no</td><td style = \"text-align: right;\">825</td><td style = \"text-align: left;\">yes</td><td style = \"text-align: left;\">no</td><td style = \"text-align: left;\">cellular</td><td style = \"text-align: right;\">17</td><td style = \"text-align: left;\">apr</td><td style = \"text-align: right;\">235</td><td style = \"text-align: right;\">1</td><td style = \"text-align: right;\">-1</td><td style = \"text-align: right;\">0</td><td style = \"text-align: left;\">unknown</td><td style = \"text-align: left;\">no</td></tr></tbody></table></div>"
      ],
      "text/latex": [
       "\\begin{tabular}{r|cccccccccc}\n",
       "\t& age & job & marital & education & default & balance & housing & loan & contact & \\\\\n",
       "\t\\hline\n",
       "\t& Int64 & String15 & String15 & String15 & String3 & Int64 & String3 & String3 & String15 & \\\\\n",
       "\t\\hline\n",
       "\t1 & 40 & admin. & divorced & secondary & no & 2550 & yes & no & unknown & $\\dots$ \\\\\n",
       "\t2 & 40 & blue-collar & married & secondary & no & 563 & yes & no & unknown & $\\dots$ \\\\\n",
       "\t3 & 29 & technician & single & secondary & no & 706 & yes & no & cellular & $\\dots$ \\\\\n",
       "\t4 & 44 & management & married & tertiary & no & 119 & yes & no & cellular & $\\dots$ \\\\\n",
       "\t5 & 27 & blue-collar & single & secondary & no & 185 & yes & no & cellular & $\\dots$ \\\\\n",
       "\t6 & 43 & blue-collar & married & secondary & no & 19 & yes & no & unknown & $\\dots$ \\\\\n",
       "\t7 & 39 & admin. & married & secondary & no & 201 & yes & no & cellular & $\\dots$ \\\\\n",
       "\t8 & 47 & unemployed & married & secondary & no & 351 & yes & yes & cellular & $\\dots$ \\\\\n",
       "\t9 & 38 & management & married & tertiary & no & 4293 & yes & no & cellular & $\\dots$ \\\\\n",
       "\t10 & 37 & services & single & unknown & no & -118 & yes & no & unknown & $\\dots$ \\\\\n",
       "\t11 & 54 & housemaid & married & secondary & no & 167 & yes & no & unknown & $\\dots$ \\\\\n",
       "\t12 & 31 & admin. & married & secondary & no & 8784 & yes & no & unknown & $\\dots$ \\\\\n",
       "\t13 & 36 & admin. & single & tertiary & no & 2317 & yes & no & cellular & $\\dots$ \\\\\n",
       "\t14 & 31 & services & single & secondary & no & 0 & no & no & cellular & $\\dots$ \\\\\n",
       "\t15 & 64 & retired & married & primary & no & 2140 & no & no & cellular & $\\dots$ \\\\\n",
       "\t16 & 42 & technician & married & secondary & no & 2 & no & no & unknown & $\\dots$ \\\\\n",
       "\t17 & 48 & technician & single & secondary & no & 479 & no & no & unknown & $\\dots$ \\\\\n",
       "\t18 & 42 & blue-collar & married & secondary & no & 1657 & yes & yes & cellular & $\\dots$ \\\\\n",
       "\t19 & 59 & management & married & primary & no & 2358 & yes & no & cellular & $\\dots$ \\\\\n",
       "\t20 & 38 & management & single & tertiary & no & 2346 & yes & no & cellular & $\\dots$ \\\\\n",
       "\t21 & 49 & management & married & secondary & no & 633 & no & yes & cellular & $\\dots$ \\\\\n",
       "\t22 & 60 & entrepreneur & married & secondary & no & 1393 & no & no & unknown & $\\dots$ \\\\\n",
       "\t23 & 47 & technician & married & secondary & no & 147 & no & no & cellular & $\\dots$ \\\\\n",
       "\t24 & 38 & management & single & tertiary & no & 8953 & no & yes & cellular & $\\dots$ \\\\\n",
       "\t$\\dots$ & $\\dots$ & $\\dots$ & $\\dots$ & $\\dots$ & $\\dots$ & $\\dots$ & $\\dots$ & $\\dots$ & $\\dots$ &  \\\\\n",
       "\\end{tabular}\n"
      ],
      "text/plain": [
       "\u001b[1m9042×17 DataFrame\u001b[0m\n",
       "\u001b[1m  Row \u001b[0m│\u001b[1m age   \u001b[0m\u001b[1m job         \u001b[0m\u001b[1m marital  \u001b[0m\u001b[1m education \u001b[0m\u001b[1m default \u001b[0m\u001b[1m balance \u001b[0m\u001b[1m housing \u001b[0m\u001b[1m lo\u001b[0m ⋯\n",
       "      │\u001b[90m Int64 \u001b[0m\u001b[90m String15    \u001b[0m\u001b[90m String15 \u001b[0m\u001b[90m String15  \u001b[0m\u001b[90m String3 \u001b[0m\u001b[90m Int64   \u001b[0m\u001b[90m String3 \u001b[0m\u001b[90m St\u001b[0m ⋯\n",
       "──────┼─────────────────────────────────────────────────────────────────────────\n",
       "    1 │    40  admin.       divorced  secondary  no          2550  yes      no ⋯\n",
       "    2 │    40  blue-collar  married   secondary  no           563  yes      no\n",
       "    3 │    29  technician   single    secondary  no           706  yes      no\n",
       "    4 │    44  management   married   tertiary   no           119  yes      no\n",
       "    5 │    27  blue-collar  single    secondary  no           185  yes      no ⋯\n",
       "    6 │    43  blue-collar  married   secondary  no            19  yes      no\n",
       "    7 │    39  admin.       married   secondary  no           201  yes      no\n",
       "    8 │    47  unemployed   married   secondary  no           351  yes      ye\n",
       "  ⋮   │   ⋮         ⋮          ⋮          ⋮         ⋮        ⋮        ⋮        ⋱\n",
       " 9036 │    32  management   single    tertiary   no           151  no       no ⋯\n",
       " 9037 │    33  management   married   tertiary   no           418  yes      no\n",
       " 9038 │    31  admin.       single    secondary  no           144  yes      no\n",
       " 9039 │    37  technician   married   tertiary   no             0  yes      ye\n",
       " 9040 │    50  technician   married   tertiary   no          1830  no       no ⋯\n",
       " 9041 │    51  blue-collar  married   primary    no          7080  no       no\n",
       " 9042 │    38  blue-collar  married   secondary  no           825  yes      no\n",
       "\u001b[36m                                                10 columns and 9027 rows omitted\u001b[0m"
      ]
     },
     "metadata": {},
     "output_type": "display_data"
    }
   ],
   "source": [
    "# Create stratification variable by combining both features\n",
    "data.strat_var = coerce(string.(data.default, \"_\", data.y), Finite)\n",
    "\n",
    "#strat_var = coerce(data.strat_var, Finite)\n",
    "\n",
    "# Stratified split\n",
    "train_indices, test_indices = partition(\n",
    "    eachindex(data.strat_var), \n",
    "    0.8, \n",
    "    stratify=data.strat_var,\n",
    "    rng= 37  # for reproducibility\n",
    ")\n",
    "\n",
    "train_data = data[train_indices, :]\n",
    "test_data = data[test_indices, :]\n",
    "\n",
    "# Remove the temporary stratification column\n",
    "select!(train_data, Not(:strat_var))\n",
    "select!(test_data, Not(:strat_var))"
   ]
  },
  {
   "cell_type": "markdown",
   "id": "1bf3add6",
   "metadata": {},
   "source": [
    "Check crosstabs"
   ]
  },
  {
   "cell_type": "code",
   "execution_count": 5,
   "id": "0faa8eec",
   "metadata": {},
   "outputs": [
    {
     "name": "stdout",
     "output_type": "stream",
     "text": [
      "Crosstab table for default and y:\n",
      "[31326 4190; 610 42]\n",
      "\n",
      "As DataFrame:\n",
      "\u001b[1m2×3 DataFrame\u001b[0m\n",
      "\u001b[1m Row \u001b[0m│\u001b[1m default \u001b[0m\u001b[1m no    \u001b[0m\u001b[1m yes   \u001b[0m\n",
      "     │\u001b[90m String3 \u001b[0m\u001b[90m Int64 \u001b[0m\u001b[90m Int64 \u001b[0m\n",
      "─────┼───────────────────────\n",
      "   1 │ no       31326   4190\n",
      "   2 │ yes        610     42\n"
     ]
    }
   ],
   "source": [
    "using FreqTables\n",
    "\n",
    "# Create a crosstab table for default and y\n",
    "crosstab_table = freqtable(train_data.default, train_data.y)\n",
    "println(\"Crosstab table for default and y:\")\n",
    "println(crosstab_table)\n",
    "\n",
    "# Convert to DataFrame for better display\n",
    "# Need to convert the NamedMatrix to a regular matrix first\n",
    "crosstab_matrix = Matrix(crosstab_table)\n",
    "row_names = names(crosstab_table, 1)\n",
    "col_names = names(crosstab_table, 2)\n",
    "\n",
    "# Create DataFrame with proper column names\n",
    "crosstab_df = DataFrame(crosstab_matrix, col_names)\n",
    "# Add row names as the first column\n",
    "insertcols!(crosstab_df, 1, :default => row_names)\n",
    "\n",
    "println(\"\\nAs DataFrame:\")\n",
    "println(crosstab_df)"
   ]
  },
  {
   "cell_type": "code",
   "execution_count": 6,
   "id": "b16ed1b2",
   "metadata": {},
   "outputs": [
    {
     "name": "stdout",
     "output_type": "stream",
     "text": [
      "Crosstab table for default and y:\n",
      "[7832 1047; 153 10]\n",
      "\n",
      "As DataFrame:\n",
      "\u001b[1m2×3 DataFrame\u001b[0m\n",
      "\u001b[1m Row \u001b[0m│\u001b[1m default \u001b[0m\u001b[1m no    \u001b[0m\u001b[1m yes   \u001b[0m\n",
      "     │\u001b[90m String3 \u001b[0m\u001b[90m Int64 \u001b[0m\u001b[90m Int64 \u001b[0m\n",
      "─────┼───────────────────────\n",
      "   1 │ no        7832   1047\n",
      "   2 │ yes        153     10\n"
     ]
    }
   ],
   "source": [
    "# Create a crosstab table for default and y\n",
    "crosstab_table = freqtable(test_data.default, test_data.y)\n",
    "println(\"Crosstab table for default and y:\")\n",
    "println(crosstab_table)\n",
    "\n",
    "# Convert to DataFrame for better display\n",
    "# Need to convert the NamedMatrix to a regular matrix first\n",
    "crosstab_matrix = Matrix(crosstab_table)\n",
    "row_names = names(crosstab_table, 1)\n",
    "col_names = names(crosstab_table, 2)\n",
    "\n",
    "# Create DataFrame with proper column names\n",
    "crosstab_df = DataFrame(crosstab_matrix, col_names)\n",
    "# Add row names as the first column\n",
    "insertcols!(crosstab_df, 1, :default => row_names)\n",
    "\n",
    "println(\"\\nAs DataFrame:\")\n",
    "println(crosstab_df)"
   ]
  },
  {
   "cell_type": "code",
   "execution_count": 7,
   "id": "868f00da",
   "metadata": {},
   "outputs": [],
   "source": [
    "# Remove the temporary stratification column from the original data\n",
    "DataFrames.select!(data, Not(:strat_var))\n",
    "nothing"
   ]
  },
  {
   "cell_type": "markdown",
   "id": "61bd2379",
   "metadata": {},
   "source": [
    "# Feature Engineering"
   ]
  },
  {
   "cell_type": "markdown",
   "id": "f3e9f24e",
   "metadata": {},
   "source": [
    "## One hot encoding"
   ]
  },
  {
   "cell_type": "code",
   "execution_count": 8,
   "id": "d0015f94",
   "metadata": {},
   "outputs": [
    {
     "name": "stderr",
     "output_type": "stream",
     "text": [
      "┌ Info: For silent loading, specify `verbosity=0`. \n",
      "└ @ Main /home/frank/.julia/packages/MLJModels/ziReN/src/loading.jl:159\n"
     ]
    },
    {
     "name": "stdout",
     "output_type": "stream",
     "text": [
      "import MLJModels ✔\n"
     ]
    },
    {
     "data": {
      "text/plain": [
       "MLJModels.OneHotEncoder"
      ]
     },
     "metadata": {},
     "output_type": "display_data"
    }
   ],
   "source": [
    "# Load the encoder\n",
    "OneHotEncoder = @load OneHotEncoder pkg=MLJModels"
   ]
  },
  {
   "cell_type": "code",
   "execution_count": 9,
   "id": "a4513b06",
   "metadata": {},
   "outputs": [
    {
     "data": {
      "text/plain": [
       "10-element Vector{Symbol}:\n",
       " :job\n",
       " :marital\n",
       " :education\n",
       " :default\n",
       " :housing\n",
       " :loan\n",
       " :contact\n",
       " :month\n",
       " :poutcome\n",
       " :y"
      ]
     },
     "metadata": {},
     "output_type": "display_data"
    }
   ],
   "source": [
    "# Identify categorical columns\n",
    "categorical_columns = [:job, :marital, :education, :default, :housing, :loan, :contact, :month, :poutcome, :y]"
   ]
  },
  {
   "cell_type": "code",
   "execution_count": 10,
   "id": "60316a5d",
   "metadata": {},
   "outputs": [],
   "source": [
    "# Convert string columns to categorical for OneHotEncoder\n",
    "for col in categorical_columns\n",
    "    train_data[!, col] = categorical(train_data[!, col])\n",
    "    test_data[!, col] = categorical(test_data[!, col])\n",
    "end"
   ]
  },
  {
   "cell_type": "code",
   "execution_count": 11,
   "id": "75de6a72",
   "metadata": {},
   "outputs": [
    {
     "name": "stderr",
     "output_type": "stream",
     "text": [
      "┌ Info: Training machine(OneHotEncoder(features = Symbol[], …), …).\n",
      "└ @ MLJBase /home/frank/.julia/packages/MLJBase/7nGJF/src/machines.jl:499\n",
      "┌ Info: Spawning 12 sub-features to one-hot encode feature :job.\n",
      "└ @ MLJModels /home/frank/.julia/packages/MLJModels/ziReN/src/builtins/Transformers.jl:878\n",
      "┌ Info: Spawning 3 sub-features to one-hot encode feature :marital.\n",
      "└ @ MLJModels /home/frank/.julia/packages/MLJModels/ziReN/src/builtins/Transformers.jl:878\n",
      "┌ Info: Spawning 4 sub-features to one-hot encode feature :education.\n",
      "└ @ MLJModels /home/frank/.julia/packages/MLJModels/ziReN/src/builtins/Transformers.jl:878\n",
      "┌ Info: Spawning 2 sub-features to one-hot encode feature :default.\n",
      "└ @ MLJModels /home/frank/.julia/packages/MLJModels/ziReN/src/builtins/Transformers.jl:878\n",
      "┌ Info: Spawning 2 sub-features to one-hot encode feature :housing.\n",
      "└ @ MLJModels /home/frank/.julia/packages/MLJModels/ziReN/src/builtins/Transformers.jl:878\n",
      "┌ Info: Spawning 2 sub-features to one-hot encode feature :loan.\n",
      "└ @ MLJModels /home/frank/.julia/packages/MLJModels/ziReN/src/builtins/Transformers.jl:878\n",
      "┌ Info: Spawning 3 sub-features to one-hot encode feature :contact.\n",
      "└ @ MLJModels /home/frank/.julia/packages/MLJModels/ziReN/src/builtins/Transformers.jl:878\n",
      "┌ Info: Spawning 12 sub-features to one-hot encode feature :month.\n",
      "└ @ MLJModels /home/frank/.julia/packages/MLJModels/ziReN/src/builtins/Transformers.jl:878\n",
      "┌ Info: Spawning 4 sub-features to one-hot encode feature :poutcome.\n",
      "└ @ MLJModels /home/frank/.julia/packages/MLJModels/ziReN/src/builtins/Transformers.jl:878\n",
      "┌ Info: Spawning 2 sub-features to one-hot encode feature :y.\n",
      "└ @ MLJModels /home/frank/.julia/packages/MLJModels/ziReN/src/builtins/Transformers.jl:878\n"
     ]
    }
   ],
   "source": [
    "# Configure with proper options\n",
    "encoder = OneHotEncoder(\n",
    "    drop_last=false,           # Drop reference category\n",
    "    ordered_factor=false,     # Treat as unordered categorical\n",
    "    ignore=false             # Set to true to ignore unknown categories\n",
    ")\n",
    "\n",
    "# Fit on training data only\n",
    "cat_train = DataFrames.select(train_data, categorical_columns)\n",
    "mach = machine(encoder, cat_train)\n",
    "fit!(mach)\n",
    "\n",
    "# Transform both datasets\n",
    "train_encoded = MLJ.transform(mach, cat_train)\n",
    "test_encoded = MLJ.transform(mach, DataFrames.select(test_data, categorical_columns))\n",
    "\n",
    "# Remove the y_no column (reference category for target variable)\n",
    "select!(train_encoded, Not(:y__no))\n",
    "select!(test_encoded, Not(:y__no))\n",
    "\n",
    "nothing"
   ]
  },
  {
   "cell_type": "markdown",
   "id": "027de908",
   "metadata": {},
   "source": [
    "## Standardization for numerical features (TO-DO)\n"
   ]
  },
  {
   "cell_type": "code",
   "execution_count": 12,
   "id": "5209fbdd",
   "metadata": {},
   "outputs": [
    {
     "data": {
      "text/plain": [
       "7-element Vector{String}:\n",
       " \"age\"\n",
       " \"balance\"\n",
       " \"day\"\n",
       " \"durations\"\n",
       " \"campaign\"\n",
       " \"pdays\"\n",
       " \"previous\""
      ]
     },
     "metadata": {},
     "output_type": "display_data"
    }
   ],
   "source": [
    "# Get numerical columns (all columns except the categorical ones)\n",
    "numerical_columns = setdiff(names(train_data), string.(categorical_columns))\n",
    "\n",
    "#nothing\n"
   ]
  },
  {
   "cell_type": "markdown",
   "id": "eb9240ce",
   "metadata": {},
   "source": [
    "---"
   ]
  },
  {
   "cell_type": "markdown",
   "id": "22281216",
   "metadata": {},
   "source": [
    "# Final sets"
   ]
  },
  {
   "cell_type": "code",
   "execution_count": 13,
   "id": "b05ea32b",
   "metadata": {},
   "outputs": [],
   "source": [
    "\n",
    "\n",
    "# Add numerical features to the encoded datasets\n",
    "train_final = hcat(train_encoded, DataFrames.select(train_data, numerical_columns))\n",
    "test_final = hcat(test_encoded, DataFrames.select(test_data, numerical_columns))\n",
    "\n",
    "nothing"
   ]
  },
  {
   "cell_type": "code",
   "execution_count": 14,
   "id": "972f2bb3",
   "metadata": {},
   "outputs": [],
   "source": [
    "# Create feature matrices and target vectors\n",
    "X_train = DataFrames.select(train_final, Not(:y__yes))\n",
    "X_test = DataFrames.select(test_final, Not(:y__yes))\n",
    "\n",
    "y_train = train_final.y__yes\n",
    "y_test = test_final.y__yes\n",
    "\n",
    "nothing"
   ]
  },
  {
   "cell_type": "code",
   "execution_count": 15,
   "id": "15f60c3f",
   "metadata": {},
   "outputs": [],
   "source": [
    "# Convert y_train and y_test to categorical with explicit level ordering\n",
    "y_train = categorical(y_train, levels=[0, 1])\n",
    "y_test = categorical(y_test, levels=[0, 1])\n",
    "\n",
    "nothing"
   ]
  },
  {
   "cell_type": "markdown",
   "id": "ad9d4ff5",
   "metadata": {},
   "source": [
    "---"
   ]
  },
  {
   "cell_type": "markdown",
   "id": "bc0ad6b0",
   "metadata": {},
   "source": [
    "# Custom loss function"
   ]
  },
  {
   "cell_type": "code",
   "execution_count": 22,
   "id": "c9f1e1f9",
   "metadata": {},
   "outputs": [
    {
     "data": {
      "text/plain": [
       "custom_cost (generic function with 1 method)"
      ]
     },
     "metadata": {},
     "output_type": "display_data"
    }
   ],
   "source": [
    "# Definimos costos de falsos negativos y falsos positivos\n",
    "cost_FN = 5.0  # Pena mas alta para falsos negativos\n",
    "cost_FP = 1.0  # Pena mas baja para falsos positivos\n",
    "\n",
    "# Custom metric: Total cost = (FN * cost_FN) + (FP * cost_FP)\n",
    "function custom_cost(y_true, y_pred)\n",
    "    cm = confusion_matrix(y_pred, y_true)\n",
    "    FN = cm.mat[2, 1]  # True=1, Predicted=0\n",
    "    FP = cm.mat[1, 2]  # True=0, Predicted=1\n",
    "    total_cost = FN * cost_FN + FP * cost_FP\n",
    "    return total_cost\n",
    "end"
   ]
  },
  {
   "cell_type": "markdown",
   "id": "e28f1a71",
   "metadata": {},
   "source": [
    "---"
   ]
  },
  {
   "cell_type": "markdown",
   "id": "68ccf1a4",
   "metadata": {},
   "source": [
    "# Model"
   ]
  },
  {
   "cell_type": "markdown",
   "id": "2b67737b",
   "metadata": {},
   "source": [
    "### Random Forest off the shelf"
   ]
  },
  {
   "cell_type": "code",
   "execution_count": 16,
   "id": "fd661d8b",
   "metadata": {},
   "outputs": [
    {
     "name": "stdout",
     "output_type": "stream",
     "text": [
      "import MLJDecisionTreeInterface ✔\n"
     ]
    },
    {
     "name": "stderr",
     "output_type": "stream",
     "text": [
      "┌ Info: For silent loading, specify `verbosity=0`. \n",
      "└ @ Main /home/frank/.julia/packages/MLJModels/ziReN/src/loading.jl:159\n",
      "┌ Info: Training machine(RandomForestClassifier(max_depth = -1, …), …).\n",
      "└ @ MLJBase /home/frank/.julia/packages/MLJBase/7nGJF/src/machines.jl:499\n"
     ]
    },
    {
     "name": "stdout",
     "output_type": "stream",
     "text": [
      "Predicted labels: CategoricalValue{Float64, UInt32}[0.0, 0.0, 1.0, 0.0, 0.0, 0.0, 0.0, 0.0, 0.0, 0.0, 0.0, 0.0, 0.0, 0.0, 0.0, 0.0, 0.0, 0.0, 0.0, 0.0, 0.0, 0.0, 0.0, 0.0, 0.0, 1.0, 1.0, 0.0, 0.0, 0.0, 0.0, 0.0, 0.0, 0.0, 1.0, 0.0, 0.0, 0.0, 0.0, 0.0, 0.0, 0.0, 0.0, 0.0, 0.0, 0.0, 0.0, 0.0, 0.0, 0.0, 0.0, 0.0, 0.0, 0.0, 0.0, 0.0, 0.0, 0.0, 0.0, 0.0, 0.0, 1.0, 0.0, 0.0, 1.0, 0.0, 0.0, 0.0, 0.0, 0.0, 0.0, 0.0, 0.0, 0.0, 0.0, 0.0, 0.0, 1.0, 0.0, 0.0, 0.0, 0.0, 0.0, 0.0, 0.0, 0.0, 0.0, 0.0, 0.0, 0.0, 0.0, 0.0, 0.0, 0.0, 0.0, 1.0, 0.0, 0.0, 0.0, 0.0, 0.0, 0.0, 0.0, 0.0, 0.0, 0.0, 0.0, 0.0, 0.0, 0.0, 0.0, 0.0, 0.0, 0.0, 0.0, 0.0, 0.0, 0.0, 0.0, 0.0, 0.0, 0.0, 0.0, 0.0, 0.0, 0.0, 0.0, 0.0, 0.0, 0.0, 0.0, 0.0, 0.0, 0.0, 0.0, 0.0, 0.0, 0.0, 0.0, 0.0, 0.0, 0.0, 0.0, 0.0, 0.0, 0.0, 0.0, 0.0, 0.0, 0.0, 0.0, 0.0, 0.0, 0.0, 0.0, 0.0, 0.0, 0.0, 0.0, 0.0, 0.0, 0.0, 0.0, 0.0, 0.0, 0.0, 0.0, 0.0, 0.0, 0.0, 0.0, 0.0, 0.0, 0.0, 0.0, 0.0, 0.0, 1.0, 0.0, 0.0, 0.0, 0.0, 0.0, 0.0, 0.0, 0.0, 0.0, 0.0, 0.0, 0.0, 0.0, 0.0, 0.0, 0.0, 1.0, 0.0, 0.0, 0.0, 0.0, 0.0, 0.0, 0.0, 0.0, 0.0, 0.0, 0.0, 0.0, 0.0, 1.0, 0.0, 0.0, 0.0, 0.0, 0.0, 0.0, 0.0, 0.0, 0.0, 0.0, 0.0, 0.0, 0.0, 0.0, 0.0, 0.0, 0.0, 0.0, 0.0, 0.0, 0.0, 0.0, 0.0, 0.0, 0.0, 0.0, 0.0, 0.0, 0.0, 0.0, 0.0, 0.0, 0.0, 1.0, 0.0, 0.0, 0.0, 0.0, 0.0, 0.0, 0.0, 0.0, 0.0, 0.0, 0.0, 0.0, 0.0, 0.0, 0.0, 1.0, 1.0, 0.0, 0.0, 0.0, 0.0, 0.0, 0.0, 0.0, 0.0, 0.0, 0.0, 0.0, 0.0, 0.0, 0.0, 0.0, 0.0, 0.0, 0.0, 0.0, 0.0, 0.0, 0.0, 0.0, 0.0, 0.0, 0.0, 0.0, 0.0, 0.0, 0.0, 0.0, 1.0, 0.0, 0.0, 0.0, 0.0, 0.0, 0.0, 0.0, 0.0, 0.0, 0.0, 0.0, 0.0, 0.0, 0.0, 0.0, 0.0, 1.0, 0.0, 0.0, 0.0, 0.0, 0.0, 0.0, 0.0, 0.0, 0.0, 0.0, 0.0, 0.0, 0.0, 0.0, 0.0, 0.0, 0.0, 0.0, 0.0, 0.0, 0.0, 0.0, 0.0, 0.0, 1.0, 0.0, 0.0, 0.0, 0.0, 0.0, 0.0, 0.0, 0.0, 0.0, 0.0, 0.0, 0.0, 0.0, 0.0, 0.0, 1.0, 0.0, 0.0, 0.0, 0.0, 0.0, 0.0, 0.0, 0.0, 1.0, 0.0, 1.0, 0.0, 0.0, 0.0, 0.0, 0.0, 0.0, 0.0, 0.0, 0.0, 0.0, 0.0, 0.0, 0.0, 0.0, 0.0, 0.0, 0.0, 0.0, 0.0, 0.0, 0.0, 0.0, 0.0, 0.0, 0.0, 0.0, 0.0, 1.0, 0.0, 0.0, 0.0, 0.0, 0.0, 0.0, 0.0, 0.0, 0.0, 0.0, 0.0, 0.0, 0.0, 0.0, 0.0, 0.0, 1.0, 0.0, 0.0, 0.0, 0.0, 0.0, 1.0, 0.0, 0.0, 0.0, 0.0, 0.0, 0.0, 0.0, 0.0, 0.0, 0.0, 0.0, 0.0, 0.0, 0.0, 0.0, 0.0, 0.0, 0.0, 0.0, 0.0, 0.0, 0.0, 0.0, 0.0, 0.0, 0.0, 0.0, 0.0, 0.0, 0.0, 0.0, 0.0, 0.0, 1.0, 0.0, 0.0, 0.0, 0.0, 0.0, 0.0, 0.0, 0.0, 0.0, 0.0, 0.0, 0.0, 1.0, 0.0, 0.0, 1.0, 0.0, 0.0, 0.0, 0.0, 0.0, 0.0, 0.0, 0.0, 0.0, 0.0, 0.0, 0.0, 0.0, 0.0, 0.0, 0.0, 0.0, 0.0, 0.0, 0.0, 0.0, 0.0, 0.0, 0.0, 0.0, 0.0, 0.0, 0.0, 0.0, 0.0, 0.0, 0.0, 0.0, 0.0, 0.0, 0.0, 0.0, 1.0, 0.0, 0.0, 0.0, 0.0, 0.0, 0.0, 0.0, 0.0, 0.0, 0.0, 0.0, 0.0, 0.0, 0.0, 0.0, 0.0, 0.0, 0.0, 0.0, 0.0, 0.0, 0.0, 0.0, 0.0, 0.0, 0.0, 0.0, 0.0, 0.0, 0.0, 0.0, 0.0, 0.0, 0.0, 0.0, 0.0, 0.0, 0.0, 0.0, 0.0, 0.0, 0.0, 0.0, 0.0, 0.0, 0.0, 1.0, 0.0, 0.0, 0.0, 0.0, 0.0, 0.0, 0.0, 0.0, 0.0, 0.0, 0.0, 0.0, 0.0, 1.0, 0.0, 0.0, 0.0, 0.0, 0.0, 1.0, 0.0, 0.0, 0.0, 0.0, 0.0, 0.0, 0.0, 0.0, 0.0, 0.0, 0.0, 0.0, 0.0, 0.0, 0.0, 0.0, 0.0, 0.0, 0.0, 0.0, 0.0, 0.0, 0.0, 0.0, 0.0, 1.0, 0.0, 0.0, 0.0, 0.0, 0.0, 0.0, 0.0, 0.0, 0.0, 0.0, 0.0, 0.0, 0.0, 0.0, 0.0, 0.0, 0.0, 0.0, 0.0, 0.0, 0.0, 0.0, 0.0, 0.0, 0.0, 0.0, 0.0, 0.0, 0.0, 0.0, 0.0, 0.0, 0.0, 0.0, 0.0, 0.0, 0.0, 0.0, 0.0, 0.0, 0.0, 0.0, 0.0, 0.0, 0.0, 0.0, 0.0, 0.0, 0.0, 1.0, 0.0, 1.0, 0.0, 0.0, 0.0, 0.0, 0.0, 0.0, 0.0, 0.0, 0.0, 0.0, 0.0, 0.0, 0.0, 0.0, 0.0, 0.0, 0.0, 0.0, 0.0, 0.0, 0.0, 1.0, 0.0, 0.0, 0.0, 1.0, 0.0, 1.0, 0.0, 0.0, 0.0, 0.0, 0.0, 0.0, 0.0, 0.0, 0.0, 0.0, 0.0, 0.0, 0.0, 0.0, 0.0, 0.0, 0.0, 1.0, 0.0, 0.0, 0.0, 0.0, 0.0, 0.0, 0.0, 0.0, 0.0, 0.0, 0.0, 0.0, 0.0, 1.0, 0.0, 0.0, 0.0, 0.0, 0.0, 0.0, 0.0, 0.0, 0.0, 0.0, 0.0, 0.0, 0.0, 0.0, 1.0, 0.0, 0.0, 0.0, 0.0, 0.0, 0.0, 0.0, 0.0, 0.0, 0.0, 0.0, 0.0, 0.0, 0.0, 0.0, 0.0, 0.0, 0.0, 0.0, 0.0, 0.0, 0.0, 0.0, 0.0, 0.0, 0.0, 0.0, 0.0, 0.0, 0.0, 0.0, 0.0, 0.0, 0.0, 0.0, 0.0, 0.0, 0.0, 0.0, 0.0, 0.0, 0.0, 0.0, 0.0, 1.0, 0.0, 0.0, 0.0, 0.0, 0.0, 0.0, 0.0, 0.0, 0.0, 0.0, 1.0, 0.0, 0.0, 0.0, 0.0, 0.0, 0.0, 0.0, 0.0, 0.0, 0.0, 0.0, 0.0, 0.0, 0.0, 0.0, 0.0, 0.0, 0.0, 0.0, 0.0, 0.0, 0.0, 0.0, 0.0, 0.0, 0.0, 0.0, 0.0, 0.0, 0.0, 0.0, 0.0, 0.0, 0.0, 0.0, 0.0, 0.0, 0.0, 0.0, 0.0, 0.0, 0.0, 0.0, 1.0, 0.0, 0.0, 0.0, 0.0, 0.0, 0.0, 0.0, 0.0, 0.0, 0.0, 0.0, 0.0, 0.0, 0.0, 0.0, 0.0, 0.0, 0.0, 0.0, 0.0, 0.0, 0.0, 0.0, 0.0, 0.0, 0.0, 0.0, 0.0, 0.0, 0.0, 1.0, 0.0, 0.0, 0.0, 0.0, 0.0, 0.0, 1.0, 0.0, 0.0, 0.0, 0.0, 0.0, 0.0, 0.0, 0.0, 0.0, 0.0, 0.0, 0.0, 0.0, 0.0, 0.0, 0.0, 0.0, 0.0, 0.0, 1.0, 0.0, 0.0, 0.0, 0.0, 0.0, 0.0, 1.0, 0.0, 0.0, 0.0, 0.0, 0.0, 0.0, 0.0, 0.0, 0.0, 0.0, 1.0, 0.0, 0.0, 0.0, 1.0, 0.0, 1.0, 0.0, 0.0, 0.0, 0.0, 0.0, 0.0, 0.0, 0.0, 0.0, 0.0, 0.0, 0.0, 0.0, 0.0, 1.0, 0.0, 0.0, 0.0, 0.0, 0.0, 0.0, 0.0, 0.0, 0.0, 0.0, 0.0, 0.0, 0.0, 0.0, 0.0, 0.0, 0.0, 0.0, 0.0, 0.0, 0.0, 0.0, 0.0, 0.0, 0.0, 0.0, 0.0, 0.0, 0.0, 0.0, 0.0, 0.0, 0.0, 0.0, 0.0, 0.0, 0.0, 0.0, 0.0, 0.0, 0.0, 0.0, 1.0, 0.0, 0.0, 0.0, 0.0, 0.0, 0.0, 0.0, 1.0, 0.0, 0.0, 0.0, 0.0, 0.0, 1.0, 0.0, 0.0, 0.0, 0.0, 0.0, 0.0, 0.0, 0.0, 0.0, 0.0, 0.0, 0.0, 0.0, 0.0, 0.0, 0.0, 0.0, 0.0, 0.0, 0.0, 0.0, 0.0, 0.0, 0.0, 0.0, 0.0, 0.0, 0.0, 0.0, 0.0, 0.0, 0.0, 0.0, 0.0, 0.0, 0.0, 0.0, 0.0, 0.0, 0.0, 0.0, 0.0, 0.0, 0.0, 0.0, 0.0, 1.0, 0.0, 0.0, 0.0, 0.0, 0.0, 0.0, 0.0, 0.0, 0.0, 0.0, 0.0, 0.0, 0.0, 0.0, 0.0, 1.0, 0.0, 0.0, 0.0, 0.0, 0.0, 0.0, 1.0, 1.0, 0.0, 0.0, 0.0, 1.0, 0.0, 0.0, 0.0, 0.0, 1.0, 0.0, 0.0, 0.0, 0.0, 0.0, 0.0, 0.0, 0.0, 0.0, 0.0, 0.0, 0.0, 0.0, 0.0, 0.0, 1.0, 0.0, 0.0, 0.0, 0.0, 0.0, 0.0, 0.0, 0.0, 0.0, 0.0, 0.0, 0.0, 0.0, 0.0, 0.0, 0.0, 0.0, 0.0, 0.0, 0.0, 0.0, 0.0, 0.0, 0.0, 0.0, 0.0, 0.0, 0.0, 0.0, 0.0, 0.0, 0.0, 0.0, 0.0, 0.0, 0.0, 0.0, 0.0, 0.0, 0.0, 0.0, 0.0, 0.0, 0.0, 1.0, 0.0, 0.0, 0.0, 0.0, 0.0, 0.0, 0.0, 0.0, 0.0, 0.0, 0.0, 0.0, 0.0, 0.0, 0.0, 0.0, 0.0, 0.0, 0.0, 0.0, 0.0, 0.0, 1.0, 0.0, 0.0, 0.0, 0.0, 0.0, 0.0, 0.0, 0.0, 0.0, 0.0, 0.0, 0.0, 0.0, 0.0, 0.0, 0.0, 0.0, 0.0, 0.0, 0.0, 0.0, 0.0, 0.0, 0.0, 0.0, 0.0, 0.0, 0.0, 0.0, 0.0, 0.0, 0.0, 1.0, 0.0, 0.0, 0.0, 0.0, 0.0, 0.0, 0.0, 0.0, 0.0, 0.0, 0.0, 0.0, 0.0, 0.0, 0.0, 0.0, 0.0, 0.0, 0.0, 0.0, 0.0, 0.0, 0.0, 0.0, 0.0, 0.0, 0.0, 0.0, 0.0, 0.0, 0.0, 0.0, 0.0, 0.0, 0.0, 0.0, 0.0, 0.0, 1.0, 0.0, 0.0, 0.0, 0.0, 0.0, 0.0, 0.0, 0.0, 0.0, 0.0, 0.0, 0.0, 0.0, 1.0, 0.0, 0.0, 0.0, 0.0, 0.0, 0.0, 0.0, 0.0, 0.0, 0.0, 0.0, 0.0, 0.0, 1.0, 0.0, 0.0, 0.0, 0.0, 0.0, 0.0, 0.0, 0.0, 1.0, 0.0, 0.0, 0.0, 0.0, 0.0, 1.0, 0.0, 0.0, 0.0, 0.0, 0.0, 0.0, 0.0, 0.0, 0.0, 0.0, 0.0, 0.0, 0.0, 0.0, 0.0, 0.0, 0.0, 0.0, 0.0, 0.0, 0.0, 0.0, 0.0, 0.0, 0.0, 0.0, 0.0, 0.0, 0.0, 0.0, 0.0, 0.0, 0.0, 0.0, 1.0, 0.0, 1.0, 1.0, 0.0, 0.0, 0.0, 0.0, 0.0, 0.0, 0.0, 0.0, 0.0, 0.0, 1.0, 0.0, 0.0, 0.0, 1.0, 0.0, 0.0, 0.0, 1.0, 0.0, 0.0, 0.0, 1.0, 0.0, 0.0, 0.0, 0.0, 0.0, 0.0, 0.0, 0.0, 0.0, 0.0, 0.0, 0.0, 0.0, 0.0, 0.0, 0.0, 0.0, 0.0, 0.0, 0.0, 0.0, 0.0, 0.0, 0.0, 0.0, 0.0, 0.0, 0.0, 0.0, 0.0, 0.0, 0.0, 0.0, 0.0, 0.0, 0.0, 0.0, 0.0, 0.0, 0.0, 0.0, 0.0, 0.0, 0.0, 0.0, 0.0, 1.0, 0.0, 0.0, 0.0, 0.0, 0.0, 0.0, 0.0, 0.0, 0.0, 0.0, 0.0, 0.0, 0.0, 0.0, 0.0, 0.0, 0.0, 0.0, 0.0, 0.0, 0.0, 0.0, 0.0, 0.0, 0.0, 0.0, 0.0, 1.0, 0.0, 0.0, 0.0, 0.0, 0.0, 0.0, 0.0, 0.0, 0.0, 0.0, 0.0, 0.0, 0.0, 0.0, 0.0, 0.0, 0.0, 0.0, 0.0, 1.0, 0.0, 0.0, 0.0, 0.0, 0.0, 0.0, 1.0, 0.0, 0.0, 0.0, 0.0, 0.0, 0.0, 0.0, 0.0, 0.0, 0.0, 0.0, 0.0, 0.0, 0.0, 0.0, 0.0, 0.0, 0.0, 0.0, 0.0, 0.0, 0.0, 0.0, 0.0, 0.0, 0.0, 0.0, 0.0, 0.0, 0.0, 0.0, 0.0, 0.0, 0.0, 0.0, 0.0, 0.0, 0.0, 0.0, 0.0, 0.0, 0.0, 0.0, 0.0, 0.0, 0.0, 0.0, 0.0, 0.0, 0.0, 0.0, 0.0, 0.0, 0.0, 0.0, 0.0, 0.0, 0.0, 0.0, 1.0, 0.0, 0.0, 0.0, 0.0, 0.0, 0.0, 0.0, 0.0, 0.0, 0.0, 0.0, 0.0, 0.0, 0.0, 0.0, 0.0, 0.0, 0.0, 0.0, 0.0, 0.0, 0.0, 0.0, 0.0, 0.0, 1.0, 1.0, 0.0, 0.0, 0.0, 0.0, 0.0, 0.0, 0.0, 0.0, 1.0, 0.0, 0.0, 0.0, 0.0, 0.0, 0.0, 0.0, 0.0, 0.0, 0.0, 0.0, 0.0, 0.0, 0.0, 0.0, 0.0, 0.0, 1.0, 0.0, 0.0, 1.0, 0.0, 0.0, 0.0, 0.0, 0.0, 0.0, 0.0, 0.0, 0.0, 0.0, 0.0, 0.0, 0.0, 0.0, 0.0, 0.0, 0.0, 0.0, 0.0, 0.0, 0.0, 0.0, 0.0, 0.0, 0.0, 0.0, 0.0, 0.0, 0.0, 0.0, 0.0, 0.0, 0.0, 0.0, 0.0, 0.0, 0.0, 0.0, 0.0, 0.0, 0.0, 0.0, 0.0, 0.0, 0.0, 0.0, 0.0, 0.0, 0.0, 0.0, 0.0, 0.0, 0.0, 0.0, 0.0, 0.0, 0.0, 0.0, 0.0, 0.0, 0.0, 0.0, 0.0, 0.0, 0.0, 0.0, 0.0, 0.0, 0.0, 1.0, 1.0, 0.0, 0.0, 0.0, 0.0, 0.0, 0.0, 0.0, 0.0, 1.0, 0.0, 0.0, 0.0, 0.0, 0.0, 0.0, 0.0, 0.0, 0.0, 0.0, 0.0, 1.0, 0.0, 0.0, 0.0, 0.0, 0.0, 0.0, 0.0, 0.0, 0.0, 0.0, 0.0, 0.0, 0.0, 0.0, 0.0, 0.0, 1.0, 0.0, 1.0, 0.0, 0.0, 0.0, 0.0, 0.0, 0.0, 0.0, 0.0, 0.0, 0.0, 0.0, 0.0, 0.0, 0.0, 0.0, 0.0, 0.0, 0.0, 0.0, 0.0, 0.0, 0.0, 0.0, 0.0, 0.0, 0.0, 0.0, 0.0, 0.0, 0.0, 0.0, 0.0, 0.0, 0.0, 0.0, 0.0, 0.0, 0.0, 1.0, 0.0, 0.0, 0.0, 0.0, 0.0, 0.0, 0.0, 0.0, 0.0, 0.0, 0.0, 0.0, 0.0, 0.0, 0.0, 0.0, 0.0, 0.0, 0.0, 0.0, 0.0, 0.0, 0.0, 0.0, 0.0, 0.0, 0.0, 0.0, 0.0, 0.0, 0.0, 1.0, 0.0, 0.0, 1.0, 0.0, 0.0, 0.0, 0.0, 0.0, 0.0, 0.0, 0.0, 0.0, 0.0, 0.0, 0.0, 0.0, 0.0, 0.0, 0.0, 0.0, 0.0, 0.0, 0.0, 0.0, 0.0, 1.0, 0.0, 0.0, 0.0, 0.0, 0.0, 0.0, 0.0, 0.0, 0.0, 0.0, 0.0, 0.0, 0.0, 0.0, 1.0, 0.0, 0.0, 1.0, 0.0, 0.0, 0.0, 0.0, 0.0, 0.0, 0.0, 0.0, 0.0, 0.0, 0.0, 0.0, 0.0, 0.0, 0.0, 0.0, 0.0, 0.0, 0.0, 0.0, 0.0, 1.0, 0.0, 0.0, 0.0, 0.0, 0.0, 0.0, 0.0, 0.0, 0.0, 1.0, 0.0, 1.0, 0.0, 0.0, 0.0, 0.0, 1.0, 0.0, 0.0, 0.0, 0.0, 0.0, 0.0, 0.0, 0.0, 0.0, 0.0, 0.0, 0.0, 0.0, 0.0, 0.0, 0.0, 0.0, 1.0, 0.0, 0.0, 0.0, 0.0, 0.0, 0.0, 0.0, 0.0, 0.0, 0.0, 1.0, 0.0, 0.0, 0.0, 0.0, 0.0, 0.0, 0.0, 0.0, 0.0, 0.0, 0.0, 0.0, 0.0, 0.0, 0.0, 0.0, 0.0, 0.0, 0.0, 0.0, 0.0, 0.0, 0.0, 0.0, 0.0, 0.0, 0.0, 0.0, 0.0, 0.0, 0.0, 0.0, 0.0, 0.0, 0.0, 0.0, 0.0, 0.0, 0.0, 0.0, 0.0, 0.0, 0.0, 0.0, 0.0, 0.0, 1.0, 0.0, 0.0, 0.0, 0.0, 0.0, 0.0, 0.0, 0.0, 0.0, 0.0, 1.0, 0.0, 0.0, 0.0, 0.0, 0.0, 0.0, 1.0, 0.0, 0.0, 0.0, 0.0, 0.0, 0.0, 0.0, 0.0, 0.0, 0.0, 0.0, 0.0, 0.0, 0.0, 0.0, 0.0, 0.0, 0.0, 0.0, 0.0, 0.0, 0.0, 1.0, 0.0, 0.0, 0.0, 0.0, 0.0, 0.0, 0.0, 1.0, 0.0, 0.0, 0.0, 0.0, 0.0, 0.0, 0.0, 0.0, 0.0, 0.0, 0.0, 0.0, 0.0, 0.0, 1.0, 0.0, 0.0, 0.0, 0.0, 0.0, 0.0, 0.0, 0.0, 0.0, 0.0, 0.0, 0.0, 0.0, 0.0, 0.0, 0.0, 0.0, 0.0, 0.0, 0.0, 0.0, 1.0, 1.0, 0.0, 0.0, 0.0, 0.0, 0.0, 0.0, 0.0, 0.0, 0.0, 0.0, 0.0, 0.0, 0.0, 0.0, 0.0, 0.0, 0.0, 0.0, 0.0, 0.0, 0.0, 0.0, 0.0, 0.0, 0.0, 0.0, 0.0, 0.0, 0.0, 0.0, 0.0, 1.0, 0.0, 0.0, 0.0, 0.0, 0.0, 0.0, 0.0, 0.0, 0.0, 0.0, 0.0, 0.0, 0.0, 0.0, 0.0, 0.0, 0.0, 0.0, 0.0, 0.0, 0.0, 0.0, 0.0, 0.0, 0.0, 0.0, 0.0, 0.0, 0.0, 0.0, 0.0, 0.0, 0.0, 0.0, 0.0, 0.0, 0.0, 0.0, 0.0, 0.0, 0.0, 0.0, 0.0, 0.0, 0.0, 0.0, 0.0, 0.0, 0.0, 0.0, 0.0, 0.0, 0.0, 0.0, 0.0, 0.0, 0.0, 0.0, 0.0, 0.0, 0.0, 0.0, 0.0, 0.0, 0.0, 0.0, 0.0, 0.0, 0.0, 1.0, 0.0, 0.0, 0.0, 0.0, 0.0, 0.0, 0.0, 0.0, 0.0, 0.0, 0.0, 0.0, 1.0, 0.0, 0.0, 0.0, 1.0, 0.0, 0.0, 0.0, 0.0, 0.0, 0.0, 0.0, 0.0, 0.0, 0.0, 0.0, 1.0, 0.0, 0.0, 0.0, 0.0, 0.0, 0.0, 0.0, 0.0, 0.0, 0.0, 0.0, 0.0, 0.0, 0.0, 0.0, 0.0, 0.0, 0.0, 0.0, 1.0, 0.0, 0.0, 0.0, 0.0, 0.0, 0.0, 0.0, 0.0, 0.0, 0.0, 0.0, 0.0, 0.0, 0.0, 0.0, 0.0, 0.0, 0.0, 0.0, 0.0, 0.0, 1.0, 0.0, 0.0, 0.0, 0.0, 0.0, 0.0, 0.0, 0.0, 0.0, 0.0, 0.0, 0.0, 0.0, 0.0, 0.0, 0.0, 0.0, 0.0, 1.0, 0.0, 0.0, 0.0, 0.0, 0.0, 0.0, 1.0, 0.0, 0.0, 0.0, 0.0, 0.0, 0.0, 0.0, 0.0, 0.0, 0.0, 0.0, 0.0, 0.0, 0.0, 0.0, 0.0, 0.0, 0.0, 0.0, 0.0, 0.0, 0.0, 1.0, 0.0, 0.0, 0.0, 0.0, 0.0, 1.0, 0.0, 0.0, 0.0, 1.0, 0.0, 0.0, 0.0, 0.0, 0.0, 0.0, 0.0, 0.0, 0.0, 0.0, 0.0, 0.0, 0.0, 0.0, 0.0, 0.0, 0.0, 0.0, 0.0, 0.0, 0.0, 0.0, 0.0, 0.0, 0.0, 0.0, 0.0, 0.0, 0.0, 0.0, 0.0, 0.0, 0.0, 0.0, 0.0, 0.0, 0.0, 0.0, 0.0, 0.0, 0.0, 0.0, 0.0, 0.0, 0.0, 0.0, 0.0, 0.0, 1.0, 0.0, 0.0, 0.0, 1.0, 0.0, 0.0, 0.0, 0.0, 0.0, 0.0, 0.0, 0.0, 0.0, 0.0, 0.0, 0.0, 0.0, 0.0, 1.0, 0.0, 0.0, 1.0, 0.0, 1.0, 0.0, 0.0, 0.0, 0.0, 0.0, 0.0, 0.0, 0.0, 0.0, 0.0, 0.0, 0.0, 0.0, 0.0, 0.0, 0.0, 0.0, 0.0, 0.0, 0.0, 0.0, 0.0, 0.0, 0.0, 0.0, 0.0, 0.0, 0.0, 0.0, 0.0, 0.0, 0.0, 0.0, 0.0, 0.0, 0.0, 0.0, 0.0, 0.0, 0.0, 0.0, 0.0, 0.0, 0.0, 0.0, 0.0, 0.0, 0.0, 0.0, 0.0, 0.0, 0.0, 0.0, 0.0, 0.0, 0.0, 0.0, 0.0, 0.0, 0.0, 0.0, 0.0, 0.0, 1.0, 0.0, 0.0, 0.0, 0.0, 0.0, 0.0, 0.0, 0.0, 0.0, 0.0, 0.0, 0.0, 0.0, 0.0, 0.0, 0.0, 0.0, 0.0, 0.0, 0.0, 0.0, 0.0, 0.0, 0.0, 0.0, 0.0, 0.0, 0.0, 0.0, 0.0, 0.0, 0.0, 0.0, 0.0, 0.0, 0.0, 0.0, 0.0, 0.0, 0.0, 0.0, 0.0, 0.0, 0.0, 0.0, 0.0, 0.0, 0.0, 0.0, 0.0, 0.0, 0.0, 0.0, 0.0, 0.0, 0.0, 0.0, 0.0, 0.0, 0.0, 0.0, 0.0, 0.0, 0.0, 0.0, 0.0, 0.0, 0.0, 0.0, 0.0, 0.0, 0.0, 0.0, 0.0, 0.0, 0.0, 0.0, 0.0, 0.0, 0.0, 0.0, 0.0, 0.0, 0.0, 0.0, 0.0, 0.0, 0.0, 0.0, 0.0, 0.0, 0.0, 0.0, 0.0, 0.0, 0.0, 0.0, 0.0, 0.0, 0.0, 0.0, 0.0, 0.0, 0.0, 0.0, 0.0, 0.0, 0.0, 0.0, 0.0, 0.0, 0.0, 0.0, 0.0, 0.0, 0.0, 0.0, 0.0, 0.0, 0.0, 0.0, 0.0, 0.0, 0.0, 1.0, 0.0, 0.0, 0.0, 0.0, 0.0, 0.0, 0.0, 0.0, 1.0, 0.0, 0.0, 0.0, 0.0, 0.0, 0.0, 1.0, 1.0, 0.0, 0.0, 0.0, 0.0, 0.0, 0.0, 0.0, 0.0, 0.0, 0.0, 0.0, 0.0, 0.0, 0.0, 0.0, 0.0, 0.0, 0.0, 0.0, 0.0, 0.0, 0.0, 0.0, 0.0, 0.0, 0.0, 0.0, 1.0, 1.0, 0.0, 0.0, 0.0, 0.0, 0.0, 0.0, 0.0, 0.0, 0.0, 0.0, 0.0, 0.0, 0.0, 0.0, 0.0, 0.0, 0.0, 0.0, 0.0, 0.0, 0.0, 0.0, 0.0, 0.0, 1.0, 0.0, 0.0, 0.0, 0.0, 0.0, 1.0, 0.0, 0.0, 0.0, 0.0, 0.0, 0.0, 0.0, 0.0, 1.0, 0.0, 0.0, 0.0, 0.0, 0.0, 1.0, 0.0, 0.0, 0.0, 0.0, 0.0, 0.0, 0.0, 0.0, 0.0, 0.0, 0.0, 0.0, 0.0, 0.0, 0.0, 0.0, 0.0, 0.0, 0.0, 0.0, 0.0, 0.0, 0.0, 0.0, 0.0, 0.0, 0.0, 0.0, 0.0, 0.0, 0.0, 1.0, 0.0, 0.0, 0.0, 0.0, 0.0, 0.0, 0.0, 0.0, 0.0, 0.0, 0.0, 0.0, 0.0, 0.0, 0.0, 0.0, 0.0, 0.0, 0.0, 0.0, 0.0, 0.0, 0.0, 0.0, 0.0, 0.0, 0.0, 0.0, 0.0, 0.0, 0.0, 0.0, 0.0, 0.0, 0.0, 0.0, 0.0, 0.0, 0.0, 0.0, 0.0, 0.0, 0.0, 0.0, 0.0, 0.0, 0.0, 0.0, 0.0, 0.0, 0.0, 0.0, 0.0, 1.0, 0.0, 0.0, 0.0, 0.0, 0.0, 0.0, 0.0, 0.0, 0.0, 0.0, 0.0, 0.0, 0.0, 0.0, 0.0, 0.0, 0.0, 0.0, 1.0, 0.0, 0.0, 0.0, 0.0, 0.0, 0.0, 0.0, 0.0, 0.0, 0.0, 0.0, 0.0, 0.0, 0.0, 0.0, 0.0, 0.0, 0.0, 0.0, 0.0, 0.0, 0.0, 0.0, 0.0, 0.0, 0.0, 0.0, 0.0, 0.0, 1.0, 0.0, 0.0, 0.0, 0.0, 0.0, 0.0, 0.0, 0.0, 0.0, 0.0, 0.0, 0.0, 0.0, 0.0, 0.0, 0.0, 0.0, 0.0, 0.0, 1.0, 0.0, 0.0, 0.0, 0.0, 0.0, 0.0, 0.0, 0.0, 0.0, 0.0, 0.0, 0.0, 0.0, 1.0, 0.0, 0.0, 0.0, 0.0, 0.0, 0.0, 0.0, 0.0, 0.0, 0.0, 0.0, 0.0, 0.0, 0.0, 0.0, 0.0, 0.0, 1.0, 0.0, 0.0, 1.0, 0.0, 0.0, 0.0, 0.0, 0.0, 0.0, 0.0, 0.0, 0.0, 0.0, 0.0, 0.0, 0.0, 0.0, 0.0, 0.0, 1.0, 0.0, 0.0, 0.0, 0.0, 0.0, 0.0, 0.0, 0.0, 0.0, 0.0, 0.0, 0.0, 0.0, 0.0, 0.0, 0.0, 0.0, 0.0, 0.0, 0.0, 0.0, 0.0, 0.0, 0.0, 0.0, 0.0, 0.0, 0.0, 0.0, 0.0, 0.0, 0.0, 0.0, 0.0, 0.0, 0.0, 0.0, 0.0, 0.0, 0.0, 0.0, 0.0, 0.0, 0.0, 0.0, 0.0, 1.0, 1.0, 0.0, 0.0, 0.0, 0.0, 0.0, 0.0, 0.0, 0.0, 0.0, 0.0, 0.0, 0.0, 0.0, 0.0, 0.0, 0.0, 1.0, 0.0, 0.0, 0.0, 0.0, 0.0, 0.0, 0.0, 0.0, 0.0, 1.0, 0.0, 0.0, 0.0, 0.0, 0.0, 0.0, 0.0, 0.0, 1.0, 0.0, 0.0, 0.0, 0.0, 0.0, 0.0, 0.0, 0.0, 0.0, 0.0, 0.0, 0.0, 0.0, 0.0, 0.0, 0.0, 1.0, 0.0, 0.0, 0.0, 0.0, 1.0, 0.0, 0.0, 0.0, 0.0, 0.0, 0.0, 0.0, 0.0, 0.0, 0.0, 0.0, 0.0, 0.0, 0.0, 0.0, 0.0, 0.0, 0.0, 0.0, 0.0, 0.0, 0.0, 1.0, 0.0, 0.0, 0.0, 0.0, 0.0, 0.0, 0.0, 0.0, 0.0, 0.0, 0.0, 1.0, 0.0, 0.0, 0.0, 0.0, 0.0, 0.0, 0.0, 0.0, 0.0, 0.0, 0.0, 0.0, 0.0, 0.0, 0.0, 0.0, 0.0, 0.0, 0.0, 1.0, 0.0, 0.0, 0.0, 0.0, 0.0, 0.0, 0.0, 0.0, 0.0, 0.0, 0.0, 0.0, 0.0, 0.0, 0.0, 0.0, 0.0, 0.0, 0.0, 0.0, 0.0, 0.0, 0.0, 0.0, 0.0, 0.0, 0.0, 0.0, 0.0, 0.0, 0.0, 0.0, 0.0, 0.0, 0.0, 0.0, 0.0, 0.0, 0.0, 0.0, 0.0, 0.0, 0.0, 1.0, 0.0, 0.0, 0.0, 0.0, 1.0, 0.0, 0.0, 0.0, 0.0, 0.0, 0.0, 0.0, 0.0, 0.0, 0.0, 0.0, 0.0, 1.0, 0.0, 0.0, 0.0, 0.0, 0.0, 0.0, 0.0, 0.0, 0.0, 0.0, 0.0, 0.0, 1.0, 0.0, 0.0, 0.0, 0.0, 0.0, 0.0, 0.0, 0.0, 0.0, 0.0, 0.0, 0.0, 0.0, 0.0, 0.0, 0.0, 0.0, 1.0, 1.0, 0.0, 0.0, 0.0, 0.0, 1.0, 0.0, 0.0, 0.0, 1.0, 0.0, 0.0, 0.0, 0.0, 0.0, 0.0, 0.0, 0.0, 0.0, 0.0, 0.0, 1.0, 0.0, 0.0, 0.0, 0.0, 0.0, 0.0, 1.0, 0.0, 0.0, 0.0, 0.0, 0.0, 0.0, 0.0, 0.0, 0.0, 0.0, 0.0, 0.0, 0.0, 0.0, 0.0, 0.0, 0.0, 0.0, 0.0, 0.0, 0.0, 0.0, 0.0, 0.0, 0.0, 0.0, 0.0, 0.0, 0.0, 0.0, 0.0, 0.0, 0.0, 0.0, 0.0, 0.0, 0.0, 0.0, 0.0, 0.0, 0.0, 0.0, 0.0, 0.0, 0.0, 0.0, 0.0, 0.0, 0.0, 0.0, 0.0, 0.0, 0.0, 0.0, 0.0, 0.0, 0.0, 0.0, 0.0, 0.0, 0.0, 0.0, 0.0, 0.0, 0.0, 0.0, 0.0, 0.0, 0.0, 0.0, 0.0, 0.0, 0.0, 0.0, 0.0, 0.0, 0.0, 0.0, 0.0, 0.0, 0.0, 0.0, 0.0, 0.0, 0.0, 0.0, 0.0, 1.0, 0.0, 0.0, 0.0, 0.0, 0.0, 0.0, 0.0, 0.0, 0.0, 0.0, 0.0, 0.0, 0.0, 0.0, 0.0, 0.0, 0.0, 0.0, 0.0, 0.0, 0.0, 0.0, 0.0, 0.0, 0.0, 0.0, 0.0, 0.0, 0.0, 0.0, 0.0, 0.0, 0.0, 0.0, 0.0, 0.0, 0.0, 0.0, 0.0, 0.0, 0.0, 0.0, 0.0, 0.0, 0.0, 0.0, 0.0, 0.0, 0.0, 0.0, 0.0, 0.0, 0.0, 0.0, 0.0, 0.0, 0.0, 0.0, 0.0, 0.0, 0.0, 0.0, 0.0, 0.0, 0.0, 0.0, 0.0, 0.0, 0.0, 0.0, 0.0, 0.0, 0.0, 0.0, 0.0, 0.0, 0.0, 0.0, 0.0, 0.0, 0.0, 0.0, 0.0, 0.0, 0.0, 0.0, 0.0, 0.0, 0.0, 0.0, 0.0, 0.0, 0.0, 0.0, 0.0, 0.0, 0.0, 1.0, 0.0, 0.0, 0.0, 0.0, 0.0, 0.0, 0.0, 0.0, 0.0, 0.0, 0.0, 0.0, 0.0, 0.0, 0.0, 1.0, 0.0, 0.0, 0.0, 0.0, 0.0, 0.0, 0.0, 0.0, 0.0, 0.0, 0.0, 0.0, 0.0, 0.0, 0.0, 0.0, 0.0, 0.0, 0.0, 0.0, 0.0, 1.0, 0.0, 0.0, 0.0, 0.0, 0.0, 0.0, 0.0, 0.0, 0.0, 0.0, 0.0, 0.0, 0.0, 1.0, 0.0, 0.0, 0.0, 0.0, 0.0, 0.0, 0.0, 0.0, 0.0, 0.0, 0.0, 0.0, 0.0, 0.0, 0.0, 0.0, 0.0, 0.0, 0.0, 0.0, 0.0, 0.0, 1.0, 0.0, 0.0, 0.0, 0.0, 0.0, 0.0, 0.0, 0.0, 0.0, 0.0, 0.0, 0.0, 0.0, 0.0, 0.0, 0.0, 0.0, 0.0, 0.0, 0.0, 0.0, 0.0, 0.0, 0.0, 0.0, 0.0, 0.0, 0.0, 0.0, 0.0, 0.0, 0.0, 0.0, 0.0, 0.0, 0.0, 0.0, 0.0, 0.0, 0.0, 0.0, 0.0, 0.0, 0.0, 0.0, 0.0, 0.0, 0.0, 0.0, 0.0, 0.0, 0.0, 0.0, 0.0, 0.0, 0.0, 0.0, 0.0, 0.0, 0.0, 0.0, 0.0, 0.0, 0.0, 0.0, 0.0, 0.0, 0.0, 0.0, 0.0, 0.0, 0.0, 1.0, 0.0, 0.0, 0.0, 0.0, 0.0, 0.0, 0.0, 0.0, 0.0, 0.0, 0.0, 0.0, 0.0, 0.0, 0.0, 0.0, 0.0, 0.0, 0.0, 0.0, 0.0, 0.0, 0.0, 0.0, 0.0, 0.0, 0.0, 0.0, 0.0, 0.0, 0.0, 0.0, 0.0, 0.0, 1.0, 0.0, 0.0, 0.0, 0.0, 0.0, 0.0, 0.0, 1.0, 0.0, 0.0, 0.0, 0.0, 1.0, 0.0, 0.0, 0.0, 0.0, 0.0, 0.0, 0.0, 0.0, 0.0, 0.0, 0.0, 0.0, 1.0, 0.0, 0.0, 0.0, 1.0, 0.0, 0.0, 0.0, 0.0, 0.0, 0.0, 0.0, 1.0, 0.0, 0.0, 0.0, 0.0, 0.0, 0.0, 0.0, 0.0, 0.0, 0.0, 0.0, 0.0, 0.0, 0.0, 0.0, 0.0, 0.0, 0.0, 0.0, 0.0, 0.0, 0.0, 0.0, 0.0, 0.0, 0.0, 0.0, 0.0, 0.0, 0.0, 1.0, 0.0, 0.0, 0.0, 0.0, 1.0, 0.0, 0.0, 0.0, 0.0, 1.0, 0.0, 0.0, 0.0, 0.0, 0.0, 0.0, 0.0, 0.0, 0.0, 0.0, 1.0, 0.0, 0.0, 0.0, 0.0, 0.0, 0.0, 0.0, 0.0, 0.0, 0.0, 0.0, 1.0, 0.0, 0.0, 0.0, 0.0, 0.0, 0.0, 0.0, 0.0, 0.0, 0.0, 0.0, 0.0, 0.0, 0.0, 0.0, 0.0, 1.0, 0.0, 0.0, 0.0, 1.0, 0.0, 0.0, 1.0, 0.0, 0.0, 0.0, 0.0, 1.0, 0.0, 0.0, 0.0, 0.0, 0.0, 0.0, 0.0, 0.0, 0.0, 0.0, 0.0, 1.0, 0.0, 0.0, 0.0, 0.0, 0.0, 0.0, 0.0, 0.0, 1.0, 0.0, 0.0, 0.0, 0.0, 0.0, 0.0, 0.0, 0.0, 0.0, 0.0, 0.0, 0.0, 0.0, 0.0, 0.0, 0.0, 1.0, 0.0, 0.0, 0.0, 0.0, 0.0, 0.0, 0.0, 0.0, 0.0, 0.0, 0.0, 0.0, 0.0, 0.0, 0.0, 0.0, 0.0, 0.0, 0.0, 0.0, 0.0, 0.0, 0.0, 1.0, 0.0, 0.0, 0.0, 0.0, 0.0, 0.0, 0.0, 0.0, 0.0, 0.0, 0.0, 0.0, 0.0, 0.0, 1.0, 0.0, 0.0, 0.0, 0.0, 1.0, 1.0, 0.0, 0.0, 1.0, 0.0, 0.0, 0.0, 0.0, 0.0, 0.0, 1.0, 0.0, 0.0, 0.0, 0.0, 0.0, 0.0, 0.0, 0.0, 0.0, 0.0, 0.0, 0.0, 0.0, 0.0, 0.0, 0.0, 0.0, 0.0, 0.0, 0.0, 0.0, 0.0, 0.0, 0.0, 0.0, 0.0, 0.0, 0.0, 0.0, 0.0, 1.0, 0.0, 0.0, 0.0, 0.0, 0.0, 0.0, 0.0, 0.0, 0.0, 0.0, 0.0, 0.0, 0.0, 0.0, 0.0, 0.0, 0.0, 0.0, 0.0, 0.0, 0.0, 0.0, 0.0, 0.0, 0.0, 0.0, 0.0, 0.0, 0.0, 0.0, 0.0, 0.0, 0.0, 0.0, 0.0, 0.0, 0.0, 0.0, 0.0, 0.0, 0.0, 0.0, 0.0, 0.0, 0.0, 0.0, 0.0, 0.0, 0.0, 0.0, 0.0, 0.0, 0.0, 0.0, 0.0, 0.0, 0.0, 0.0, 0.0, 0.0, 0.0, 0.0, 0.0, 0.0, 0.0, 0.0, 0.0, 0.0, 0.0, 0.0, 0.0, 0.0, 1.0, 0.0, 0.0, 0.0, 0.0, 0.0, 0.0, 0.0, 0.0, 0.0, 0.0, 0.0, 0.0, 0.0, 0.0, 0.0, 0.0, 0.0, 0.0, 0.0, 0.0, 0.0, 0.0, 0.0, 0.0, 0.0, 0.0, 0.0, 0.0, 0.0, 0.0, 0.0, 0.0, 0.0, 1.0, 0.0, 0.0, 1.0, 0.0, 0.0, 0.0, 0.0, 1.0, 0.0, 1.0, 0.0, 0.0, 0.0, 0.0, 0.0, 0.0, 0.0, 0.0, 0.0, 0.0, 0.0, 0.0, 0.0, 0.0, 0.0, 0.0, 0.0, 0.0, 0.0, 0.0, 0.0, 0.0, 0.0, 0.0, 0.0, 1.0, 0.0, 0.0, 0.0, 1.0, 0.0, 0.0, 0.0, 0.0, 0.0, 1.0, 0.0, 0.0, 0.0, 0.0, 0.0, 0.0, 0.0, 0.0, 0.0, 0.0, 0.0, 0.0, 0.0, 0.0, 0.0, 0.0, 0.0, 0.0, 0.0, 0.0, 0.0, 0.0, 0.0, 0.0, 0.0, 0.0, 0.0, 0.0, 0.0, 0.0, 1.0, 0.0, 0.0, 0.0, 0.0, 0.0, 0.0, 0.0, 0.0, 0.0, 0.0, 0.0, 0.0, 0.0, 0.0, 0.0, 0.0, 0.0, 0.0, 0.0, 0.0, 0.0, 1.0, 0.0, 1.0, 0.0, 0.0, 0.0, 1.0, 1.0, 1.0, 0.0, 0.0, 0.0, 0.0, 0.0, 0.0, 0.0, 0.0, 0.0, 0.0, 0.0, 0.0, 0.0, 0.0, 0.0, 0.0, 0.0, 0.0, 0.0, 0.0, 0.0, 0.0, 0.0, 0.0, 0.0, 0.0, 0.0, 0.0, 0.0, 0.0, 0.0, 0.0, 0.0, 0.0, 0.0, 0.0, 0.0, 0.0, 1.0, 0.0, 0.0, 0.0, 0.0, 0.0, 0.0, 0.0, 0.0, 0.0, 0.0, 0.0, 0.0, 0.0, 0.0, 0.0, 0.0, 0.0, 0.0, 0.0, 0.0, 0.0, 0.0, 0.0, 0.0, 0.0, 0.0, 0.0, 0.0, 0.0, 0.0, 0.0, 0.0, 0.0, 0.0, 0.0, 0.0, 0.0, 0.0, 0.0, 0.0, 0.0, 0.0, 0.0, 0.0, 0.0, 0.0, 0.0, 0.0, 0.0, 0.0, 0.0, 0.0, 0.0, 0.0, 0.0, 0.0, 0.0, 1.0, 0.0, 0.0, 0.0, 1.0, 0.0, 0.0, 0.0, 0.0, 0.0, 0.0, 0.0, 0.0, 0.0, 0.0, 0.0, 0.0, 0.0, 0.0, 0.0, 0.0, 0.0, 0.0, 0.0, 0.0, 0.0, 0.0, 0.0, 0.0, 0.0, 0.0, 0.0, 0.0, 0.0, 0.0, 0.0, 0.0, 0.0, 0.0, 0.0, 0.0, 0.0, 0.0, 0.0, 0.0, 0.0, 0.0, 0.0, 0.0, 0.0, 0.0, 0.0, 0.0, 1.0, 0.0, 0.0, 0.0, 0.0, 0.0, 0.0, 0.0, 0.0, 0.0, 0.0, 0.0, 0.0, 0.0, 0.0, 0.0, 0.0, 0.0, 0.0, 0.0, 0.0, 0.0, 0.0, 0.0, 0.0, 0.0, 0.0, 0.0, 0.0, 0.0, 0.0, 0.0, 0.0, 0.0, 0.0, 0.0, 0.0, 0.0, 0.0, 0.0, 0.0, 0.0, 0.0, 0.0, 0.0, 0.0, 0.0, 1.0, 0.0, 0.0, 0.0, 0.0, 0.0, 0.0, 0.0, 0.0, 0.0, 0.0, 0.0, 0.0, 0.0, 0.0, 0.0, 0.0, 0.0, 0.0, 0.0, 0.0, 0.0, 0.0, 1.0, 0.0, 0.0, 0.0, 0.0, 0.0, 1.0, 0.0, 0.0, 0.0, 0.0, 0.0, 0.0, 0.0, 0.0, 0.0, 0.0, 0.0, 0.0, 0.0, 0.0, 0.0, 0.0, 0.0, 0.0, 0.0, 0.0, 0.0, 1.0, 0.0, 0.0, 0.0, 0.0, 0.0, 0.0, 0.0, 0.0, 0.0, 0.0, 0.0, 0.0, 0.0, 0.0, 0.0, 0.0, 0.0, 0.0, 0.0, 0.0, 0.0, 0.0, 0.0, 0.0, 0.0, 0.0, 0.0, 0.0, 0.0, 0.0, 0.0, 0.0, 0.0, 0.0, 0.0, 0.0, 0.0, 0.0, 0.0, 0.0, 0.0, 0.0, 0.0, 0.0, 0.0, 0.0, 0.0, 0.0, 0.0, 0.0, 0.0, 0.0, 0.0, 0.0, 0.0, 0.0, 0.0, 0.0, 0.0, 0.0, 0.0, 0.0, 0.0, 0.0, 0.0, 0.0, 0.0, 0.0, 0.0, 0.0, 0.0, 0.0, 0.0, 0.0, 1.0, 0.0, 0.0, 0.0, 0.0, 0.0, 0.0, 0.0, 0.0, 0.0, 0.0, 0.0, 0.0, 0.0, 0.0, 0.0, 0.0, 0.0, 0.0, 0.0, 0.0, 0.0, 0.0, 0.0, 0.0, 0.0, 0.0, 0.0, 0.0, 1.0, 0.0, 0.0, 0.0, 1.0, 0.0, 0.0, 0.0, 0.0, 0.0, 0.0, 0.0, 0.0, 1.0, 0.0, 0.0, 0.0, 0.0, 0.0, 0.0, 0.0, 0.0, 0.0, 0.0, 0.0, 0.0, 0.0, 0.0, 0.0, 0.0, 0.0, 0.0, 0.0, 0.0, 0.0, 0.0, 0.0, 0.0, 0.0, 0.0, 0.0, 0.0, 0.0, 0.0, 0.0, 0.0, 0.0, 0.0, 0.0, 0.0, 0.0, 0.0, 0.0, 0.0, 0.0, 0.0, 0.0, 0.0, 0.0, 0.0, 0.0, 0.0, 0.0, 0.0, 0.0, 0.0, 0.0, 0.0, 0.0, 0.0, 0.0, 0.0, 0.0, 1.0, 0.0, 0.0, 0.0, 0.0, 0.0, 0.0, 1.0, 0.0, 0.0, 0.0, 0.0, 0.0, 0.0, 0.0, 0.0, 0.0, 0.0, 0.0, 0.0, 0.0, 0.0, 0.0, 0.0, 0.0, 0.0, 0.0, 0.0, 0.0, 0.0, 1.0, 0.0, 1.0, 0.0, 0.0, 0.0, 0.0, 0.0, 0.0, 1.0, 1.0, 0.0, 0.0, 0.0, 0.0, 0.0, 0.0, 0.0, 0.0, 0.0, 0.0, 0.0, 0.0, 0.0, 0.0, 0.0, 0.0, 0.0, 0.0, 0.0, 0.0, 0.0, 0.0, 0.0, 0.0, 0.0, 0.0, 0.0, 0.0, 0.0, 0.0, 0.0, 1.0, 0.0, 0.0, 0.0, 0.0, 0.0, 0.0, 0.0, 0.0, 0.0, 0.0, 0.0, 0.0, 0.0, 0.0, 0.0, 0.0, 0.0, 0.0, 0.0, 0.0, 0.0, 0.0, 0.0, 0.0, 0.0, 0.0, 0.0, 0.0, 0.0, 0.0, 0.0, 0.0, 0.0, 0.0, 0.0, 0.0, 0.0, 0.0, 0.0, 0.0, 0.0, 0.0, 0.0, 0.0, 0.0, 0.0, 0.0, 0.0, 0.0, 0.0, 0.0, 0.0, 0.0, 0.0, 0.0, 0.0, 1.0, 0.0, 0.0, 0.0, 0.0, 1.0, 0.0, 0.0, 0.0, 0.0, 0.0, 0.0, 0.0, 0.0, 0.0, 0.0, 0.0, 0.0, 0.0, 0.0, 1.0, 0.0, 0.0, 0.0, 0.0, 0.0, 0.0, 0.0, 0.0, 1.0, 0.0, 1.0, 0.0, 0.0, 0.0, 0.0, 0.0, 0.0, 0.0, 0.0, 0.0, 0.0, 0.0, 0.0, 0.0, 0.0, 0.0, 0.0, 0.0, 0.0, 0.0, 0.0, 1.0, 0.0, 0.0, 0.0, 0.0, 0.0, 0.0, 0.0, 0.0, 0.0, 0.0, 0.0, 0.0, 0.0, 0.0, 0.0, 0.0, 0.0, 0.0, 0.0, 0.0, 0.0, 0.0, 0.0, 0.0, 0.0, 0.0, 0.0, 0.0, 0.0, 0.0, 0.0, 0.0, 0.0, 0.0, 1.0, 0.0, 0.0, 0.0, 0.0, 1.0, 0.0, 0.0, 0.0, 0.0, 0.0, 0.0, 0.0, 0.0, 1.0, 0.0, 0.0, 0.0, 0.0, 0.0, 0.0, 0.0, 0.0, 0.0, 0.0, 0.0, 0.0, 0.0, 0.0, 1.0, 0.0, 0.0, 0.0, 0.0, 0.0, 0.0, 0.0, 0.0, 0.0, 0.0, 0.0, 0.0, 0.0, 0.0, 0.0, 0.0, 0.0, 0.0, 0.0, 0.0, 0.0, 0.0, 0.0, 0.0, 0.0, 0.0, 0.0, 0.0, 0.0, 0.0, 0.0, 0.0, 0.0, 0.0, 0.0, 0.0, 0.0, 0.0, 0.0, 0.0, 0.0, 0.0, 0.0, 0.0, 0.0, 0.0, 0.0, 0.0, 0.0, 0.0, 0.0, 0.0, 0.0, 0.0, 0.0, 0.0, 0.0, 0.0, 1.0, 0.0, 0.0, 0.0, 0.0, 0.0, 0.0, 0.0, 0.0, 0.0, 0.0, 0.0, 0.0, 0.0, 0.0, 0.0, 0.0, 0.0, 0.0, 0.0, 0.0, 0.0, 0.0, 0.0, 1.0, 0.0, 0.0, 0.0, 0.0, 0.0, 0.0, 0.0, 0.0, 0.0, 0.0, 0.0, 0.0, 0.0, 0.0, 0.0, 0.0, 0.0, 0.0, 0.0, 0.0, 0.0, 0.0, 1.0, 0.0, 0.0, 0.0, 0.0, 0.0, 0.0, 0.0, 0.0, 0.0, 1.0, 0.0, 0.0, 0.0, 0.0, 0.0, 0.0, 0.0, 0.0, 0.0, 0.0, 0.0, 0.0, 0.0, 0.0, 1.0, 0.0, 0.0, 0.0, 0.0, 0.0, 0.0, 0.0, 0.0, 0.0, 0.0, 0.0, 0.0, 0.0, 0.0, 0.0, 0.0, 0.0, 0.0, 0.0, 0.0, 0.0, 0.0, 0.0, 0.0, 0.0, 0.0, 1.0, 1.0, 0.0, 0.0, 1.0, 0.0, 0.0, 0.0, 0.0, 0.0, 0.0, 0.0, 0.0, 0.0, 0.0, 0.0, 0.0, 0.0, 0.0, 0.0, 0.0, 0.0, 0.0, 0.0, 0.0, 1.0, 0.0, 0.0, 0.0, 0.0, 0.0, 0.0, 0.0, 0.0, 0.0, 0.0, 0.0, 0.0, 0.0, 0.0, 0.0, 0.0, 0.0, 0.0, 0.0, 0.0, 0.0, 0.0, 0.0, 0.0, 0.0, 0.0, 0.0, 0.0, 0.0, 0.0, 0.0, 0.0, 0.0, 0.0, 0.0, 0.0, 1.0, 0.0, 0.0, 0.0, 0.0, 0.0, 0.0, 0.0, 0.0, 0.0, 0.0, 0.0, 0.0, 0.0, 0.0, 0.0, 1.0, 0.0, 0.0, 0.0, 0.0, 0.0, 0.0, 0.0, 1.0, 0.0, 0.0, 0.0, 0.0, 0.0, 0.0, 1.0, 0.0, 0.0, 0.0, 0.0, 0.0, 0.0, 0.0, 0.0, 0.0, 0.0, 0.0, 0.0, 0.0, 0.0, 0.0, 0.0, 0.0, 0.0, 0.0, 0.0, 0.0, 0.0, 0.0, 0.0, 0.0, 0.0, 0.0, 0.0, 0.0, 0.0, 0.0, 0.0, 0.0, 0.0, 1.0, 0.0, 0.0, 0.0, 0.0, 0.0, 0.0, 0.0, 0.0, 0.0, 0.0, 0.0, 0.0, 0.0, 0.0, 1.0, 0.0, 0.0, 0.0, 0.0, 0.0, 0.0, 0.0, 0.0, 0.0, 0.0, 0.0, 0.0, 0.0, 0.0, 0.0, 0.0, 0.0, 0.0, 1.0, 0.0, 0.0, 0.0, 0.0, 0.0, 0.0, 0.0, 0.0, 0.0, 0.0, 0.0, 0.0, 0.0, 0.0, 0.0, 0.0, 0.0, 0.0, 0.0, 0.0, 0.0, 0.0, 0.0, 1.0, 0.0, 0.0, 0.0, 0.0, 0.0, 0.0, 0.0, 0.0, 0.0, 0.0, 0.0, 0.0, 0.0, 0.0, 0.0, 0.0, 0.0, 0.0, 0.0, 0.0, 0.0, 0.0, 0.0, 0.0, 1.0, 0.0, 0.0, 0.0, 0.0, 0.0, 0.0, 0.0, 0.0, 0.0, 0.0, 0.0, 0.0, 0.0, 1.0, 0.0, 0.0, 0.0, 0.0, 0.0, 0.0, 0.0, 0.0, 0.0, 0.0, 0.0, 0.0, 0.0, 0.0, 0.0, 0.0, 0.0, 0.0, 0.0, 0.0, 0.0, 0.0, 0.0, 0.0, 0.0, 0.0, 0.0, 0.0, 0.0, 0.0, 0.0, 0.0, 1.0, 0.0, 0.0, 0.0, 0.0, 0.0, 0.0, 0.0, 1.0, 0.0, 0.0, 0.0, 0.0, 0.0, 0.0, 0.0, 0.0, 0.0, 0.0, 0.0, 0.0, 0.0, 0.0, 0.0, 0.0, 0.0, 0.0, 0.0, 0.0, 0.0, 0.0, 0.0, 0.0, 0.0, 0.0, 0.0, 0.0, 0.0, 0.0, 0.0, 0.0, 0.0, 0.0, 0.0, 0.0, 0.0, 0.0, 0.0, 0.0, 1.0, 0.0, 0.0, 0.0, 0.0, 1.0, 0.0, 0.0, 0.0, 1.0, 0.0, 0.0, 0.0, 0.0, 0.0, 0.0, 0.0, 0.0, 0.0, 0.0, 0.0, 0.0, 0.0, 0.0, 0.0, 0.0, 0.0, 0.0, 0.0, 0.0, 1.0, 0.0, 0.0, 0.0, 0.0, 0.0, 0.0, 0.0, 0.0, 0.0, 0.0, 1.0, 0.0, 0.0, 0.0, 0.0, 0.0, 0.0, 0.0, 0.0, 0.0, 0.0, 0.0, 0.0, 0.0, 0.0, 0.0, 0.0, 0.0, 1.0, 0.0, 0.0, 0.0, 0.0, 0.0, 1.0, 0.0, 1.0, 0.0, 0.0, 0.0, 0.0, 0.0, 0.0, 0.0, 0.0, 0.0, 0.0, 0.0, 0.0, 0.0, 0.0, 0.0, 0.0, 0.0, 0.0, 0.0, 0.0, 0.0, 0.0, 0.0, 0.0, 0.0, 1.0, 0.0, 0.0, 0.0, 0.0, 0.0, 0.0, 0.0, 1.0, 0.0, 1.0, 0.0, 0.0, 0.0, 0.0, 0.0, 0.0, 0.0, 0.0, 0.0, 1.0, 1.0, 0.0, 1.0, 0.0, 0.0, 0.0, 0.0, 0.0, 0.0, 0.0, 0.0, 0.0, 0.0, 1.0, 0.0, 0.0, 0.0, 0.0, 0.0, 0.0, 0.0, 0.0, 0.0, 0.0, 0.0, 0.0, 0.0, 0.0, 0.0, 0.0, 0.0, 0.0, 0.0, 0.0, 0.0, 0.0, 0.0, 0.0, 0.0, 0.0, 0.0, 0.0, 0.0, 0.0, 0.0, 0.0, 0.0, 1.0, 0.0, 0.0, 0.0, 0.0, 0.0, 0.0, 1.0, 0.0, 0.0, 0.0, 0.0, 0.0, 0.0, 0.0, 0.0, 0.0, 0.0, 0.0, 0.0, 0.0, 0.0, 0.0, 0.0, 0.0, 0.0, 0.0, 0.0, 0.0, 0.0, 0.0, 1.0, 0.0, 0.0, 1.0, 0.0, 0.0, 0.0, 0.0, 0.0, 0.0, 0.0, 0.0, 0.0, 0.0, 0.0, 0.0, 1.0, 0.0, 0.0, 0.0, 0.0, 0.0, 0.0, 0.0, 0.0, 0.0, 0.0, 0.0, 0.0, 0.0, 0.0, 0.0, 0.0, 0.0, 0.0, 0.0, 0.0, 0.0, 0.0, 0.0, 1.0, 0.0, 0.0, 0.0, 0.0, 0.0, 0.0, 0.0, 0.0, 0.0, 0.0, 0.0, 1.0, 0.0, 0.0, 0.0, 0.0, 0.0, 0.0, 0.0, 0.0, 0.0, 0.0, 0.0, 0.0, 1.0, 0.0, 0.0, 0.0, 0.0, 0.0, 0.0, 0.0, 0.0, 0.0, 0.0, 0.0, 0.0, 0.0, 0.0, 0.0, 0.0, 0.0, 0.0, 0.0, 0.0, 1.0, 0.0, 0.0, 1.0, 0.0, 0.0, 0.0, 0.0, 0.0, 0.0, 0.0, 0.0, 0.0, 0.0, 0.0, 0.0, 0.0, 0.0, 0.0, 0.0, 0.0, 0.0, 0.0, 0.0, 0.0, 0.0, 0.0, 0.0, 0.0, 0.0, 0.0, 0.0, 0.0, 0.0, 0.0, 1.0, 0.0, 0.0, 1.0, 0.0, 0.0, 0.0, 0.0, 0.0, 0.0, 1.0, 0.0, 0.0, 0.0, 0.0, 1.0, 0.0, 0.0, 0.0, 0.0, 0.0, 0.0, 0.0, 1.0, 0.0, 0.0, 0.0, 0.0, 0.0, 0.0, 0.0, 0.0, 0.0, 0.0, 0.0, 0.0, 0.0, 0.0, 0.0, 0.0, 0.0, 0.0, 0.0, 0.0, 0.0, 0.0, 0.0, 0.0, 0.0, 0.0, 0.0, 0.0, 0.0, 0.0, 0.0, 0.0, 0.0, 0.0, 0.0, 0.0, 0.0, 0.0, 0.0, 0.0, 0.0, 0.0, 0.0, 0.0, 1.0, 0.0, 0.0, 0.0, 0.0, 0.0, 0.0, 0.0, 0.0, 0.0, 0.0, 0.0, 0.0, 0.0, 0.0, 0.0, 0.0, 0.0, 0.0, 0.0, 0.0, 0.0, 0.0, 0.0, 0.0, 0.0, 0.0, 0.0, 0.0, 1.0, 0.0, 0.0, 0.0, 0.0, 1.0, 0.0, 0.0, 1.0, 0.0, 0.0, 0.0, 0.0, 0.0, 0.0, 0.0, 0.0, 0.0, 0.0, 0.0, 0.0, 0.0, 0.0, 0.0, 0.0, 0.0, 1.0, 0.0, 0.0, 0.0, 0.0, 0.0, 0.0, 0.0, 0.0, 0.0, 0.0, 0.0, 0.0, 0.0, 0.0, 0.0, 0.0, 0.0, 0.0, 0.0, 1.0, 0.0, 0.0, 0.0, 0.0, 0.0, 0.0, 0.0, 0.0, 0.0, 0.0, 0.0, 0.0, 0.0, 0.0, 0.0, 0.0, 0.0, 0.0, 0.0, 0.0, 0.0, 0.0, 0.0, 0.0, 0.0, 0.0, 0.0, 0.0, 0.0, 0.0, 0.0, 0.0, 0.0, 0.0, 0.0, 0.0, 0.0, 0.0, 0.0, 0.0, 0.0, 0.0, 0.0, 0.0, 0.0, 0.0, 0.0, 0.0, 1.0, 0.0, 0.0, 0.0, 0.0, 0.0, 0.0, 0.0, 1.0, 1.0, 0.0, 0.0, 0.0, 0.0, 0.0, 1.0, 0.0, 0.0, 0.0, 0.0, 0.0, 1.0, 0.0, 0.0, 0.0, 0.0, 0.0, 0.0, 0.0, 0.0, 0.0, 0.0, 0.0, 0.0, 1.0, 0.0, 0.0, 0.0, 0.0, 1.0, 0.0, 0.0, 0.0, 0.0, 0.0, 0.0, 0.0, 0.0, 0.0, 0.0, 0.0, 0.0, 0.0, 0.0, 0.0, 0.0, 0.0, 0.0, 0.0, 0.0, 0.0, 0.0, 0.0, 0.0, 0.0, 0.0, 0.0, 0.0, 0.0, 0.0, 0.0, 0.0, 0.0, 0.0, 0.0, 0.0, 0.0, 0.0, 0.0, 0.0, 0.0, 0.0, 0.0, 0.0, 0.0, 0.0, 0.0, 0.0, 0.0, 0.0, 0.0, 0.0, 0.0, 0.0, 0.0, 0.0, 0.0, 0.0, 1.0, 0.0, 0.0, 0.0, 0.0, 0.0, 0.0, 0.0, 0.0, 1.0, 0.0, 0.0, 0.0, 0.0, 0.0, 0.0, 0.0, 0.0, 0.0, 0.0, 1.0, 0.0, 0.0, 0.0, 0.0, 0.0, 0.0, 0.0, 0.0, 0.0, 0.0, 0.0, 0.0, 0.0, 0.0, 0.0, 0.0, 0.0, 0.0, 0.0, 0.0, 0.0, 1.0, 0.0, 0.0, 0.0, 0.0, 0.0, 0.0, 0.0, 0.0, 0.0, 0.0, 1.0, 0.0, 0.0, 0.0, 0.0, 0.0, 0.0, 0.0, 0.0, 0.0, 0.0, 0.0, 0.0, 0.0, 0.0, 0.0, 0.0, 1.0, 0.0, 1.0, 0.0, 0.0, 0.0, 0.0, 0.0, 0.0, 0.0, 0.0, 0.0, 0.0, 1.0, 0.0, 0.0, 0.0, 0.0, 0.0, 0.0, 1.0, 0.0, 0.0, 0.0, 0.0, 0.0, 0.0, 0.0, 0.0, 0.0, 0.0, 0.0, 0.0, 0.0, 0.0, 0.0, 0.0, 0.0, 0.0, 0.0, 0.0, 1.0, 0.0, 0.0, 0.0, 0.0, 0.0, 0.0, 0.0, 1.0, 0.0, 0.0, 0.0, 0.0, 0.0, 0.0, 0.0, 0.0, 0.0, 0.0, 0.0, 0.0, 1.0, 0.0, 0.0, 0.0, 0.0, 0.0, 1.0, 0.0, 0.0, 0.0, 0.0, 0.0, 0.0, 0.0, 0.0, 0.0, 0.0, 0.0, 0.0, 0.0, 0.0, 0.0, 0.0, 0.0, 0.0, 0.0, 0.0, 0.0, 0.0, 0.0, 0.0, 0.0, 0.0, 0.0, 0.0, 0.0, 0.0, 0.0, 0.0, 0.0, 0.0, 0.0, 0.0, 0.0, 0.0, 0.0, 0.0, 0.0, 0.0, 0.0, 0.0, 0.0, 0.0, 0.0, 0.0, 0.0, 0.0, 0.0, 0.0, 0.0, 0.0, 0.0, 0.0, 0.0, 0.0, 0.0, 0.0, 0.0, 0.0, 0.0, 0.0, 0.0, 0.0, 1.0, 0.0, 0.0, 0.0, 0.0, 0.0, 0.0, 0.0, 0.0, 0.0, 0.0, 0.0, 0.0, 0.0, 0.0, 0.0, 0.0, 0.0, 0.0, 0.0, 0.0, 0.0, 0.0, 0.0, 0.0, 0.0, 1.0, 0.0, 0.0, 1.0, 0.0, 0.0, 0.0, 0.0, 0.0, 0.0, 0.0, 0.0, 0.0, 0.0, 1.0, 0.0, 0.0, 0.0, 0.0, 0.0, 0.0, 0.0, 0.0, 0.0, 0.0, 0.0, 0.0, 0.0, 0.0, 0.0, 0.0, 0.0, 0.0, 0.0, 0.0, 0.0, 0.0, 0.0, 0.0, 0.0, 0.0, 0.0, 0.0, 0.0, 0.0, 0.0, 0.0, 0.0, 0.0, 1.0, 0.0, 0.0, 0.0, 0.0, 0.0, 0.0, 0.0, 0.0, 0.0, 0.0, 0.0, 0.0, 0.0, 0.0, 0.0, 0.0, 0.0, 0.0, 0.0, 0.0, 0.0, 0.0, 1.0, 0.0, 1.0, 0.0, 0.0, 0.0, 0.0, 0.0, 0.0, 0.0, 0.0, 0.0, 0.0, 0.0, 0.0, 0.0, 0.0, 1.0, 0.0, 0.0, 0.0, 0.0, 0.0, 0.0, 0.0, 0.0, 0.0, 0.0, 0.0, 0.0, 0.0, 0.0, 0.0, 0.0, 0.0, 0.0, 0.0, 0.0, 0.0, 0.0, 0.0, 0.0, 0.0, 0.0, 0.0, 0.0, 0.0, 0.0, 0.0, 0.0, 0.0, 0.0, 0.0, 0.0, 0.0, 0.0, 0.0, 0.0, 0.0, 0.0, 0.0, 0.0, 0.0, 0.0, 0.0, 0.0, 0.0, 0.0, 0.0, 0.0, 0.0, 0.0, 0.0, 0.0, 1.0, 0.0, 0.0, 0.0, 0.0, 0.0, 0.0, 0.0, 0.0, 0.0, 0.0, 0.0, 0.0, 0.0, 0.0, 0.0, 0.0, 0.0, 0.0, 0.0, 0.0, 0.0, 1.0, 0.0, 0.0, 0.0, 0.0, 0.0, 0.0, 0.0, 0.0, 0.0, 0.0, 0.0, 0.0, 0.0, 0.0, 0.0, 0.0, 0.0, 0.0, 0.0, 0.0, 0.0, 0.0, 0.0, 0.0, 0.0, 0.0, 0.0, 0.0, 0.0, 0.0, 0.0, 0.0, 0.0, 0.0, 0.0, 0.0, 0.0, 0.0, 0.0, 0.0, 0.0, 0.0, 0.0, 0.0, 0.0, 0.0, 0.0, 0.0, 0.0, 0.0, 0.0, 0.0, 0.0, 1.0, 0.0, 0.0, 0.0, 0.0, 0.0, 0.0, 0.0, 0.0, 0.0, 0.0, 0.0, 0.0, 0.0, 0.0, 0.0, 0.0, 0.0, 0.0, 0.0, 0.0, 0.0, 0.0, 0.0, 0.0, 0.0, 0.0, 0.0, 1.0, 0.0, 0.0, 0.0, 0.0, 0.0, 0.0, 0.0, 0.0, 0.0, 0.0, 0.0, 0.0, 0.0, 0.0, 0.0, 0.0, 0.0, 0.0, 0.0, 0.0, 0.0, 0.0, 0.0, 0.0, 0.0, 0.0, 0.0, 0.0, 0.0, 0.0, 0.0, 0.0, 0.0, 0.0, 0.0, 0.0, 0.0, 0.0, 0.0, 0.0, 0.0, 0.0, 0.0, 0.0, 0.0, 0.0, 0.0, 0.0, 0.0, 0.0, 0.0, 0.0, 0.0, 0.0, 0.0, 0.0, 0.0, 1.0, 0.0, 0.0, 0.0, 0.0, 0.0, 0.0, 0.0, 0.0, 0.0, 0.0, 0.0, 0.0, 0.0, 0.0, 0.0, 0.0, 0.0, 0.0, 0.0, 0.0, 0.0, 0.0, 1.0, 0.0, 0.0, 0.0, 0.0, 0.0, 0.0, 1.0, 0.0, 0.0, 0.0, 0.0, 0.0, 0.0, 0.0, 0.0, 0.0, 0.0, 0.0, 0.0, 0.0, 0.0, 0.0, 0.0, 0.0, 0.0, 0.0, 0.0, 0.0, 0.0, 0.0, 0.0, 0.0, 0.0, 0.0, 0.0, 0.0, 0.0, 0.0, 0.0, 0.0, 0.0, 0.0, 0.0, 0.0, 0.0, 0.0, 0.0, 0.0, 0.0, 0.0, 0.0, 0.0, 0.0, 0.0, 0.0, 0.0, 0.0, 0.0, 0.0, 0.0, 0.0, 0.0, 0.0, 0.0, 0.0, 0.0, 0.0, 0.0, 0.0, 0.0, 0.0, 0.0, 0.0, 0.0, 0.0, 0.0, 0.0, 0.0, 0.0, 0.0, 0.0, 0.0, 0.0, 0.0, 0.0, 0.0, 0.0, 0.0, 0.0, 0.0, 0.0, 0.0, 0.0, 0.0, 0.0, 0.0, 0.0, 0.0, 0.0, 0.0, 0.0, 0.0, 0.0, 0.0, 0.0, 0.0, 0.0, 0.0, 0.0, 0.0, 0.0, 0.0, 0.0, 0.0, 0.0, 0.0, 0.0, 0.0, 0.0, 0.0, 0.0, 0.0, 1.0, 0.0, 0.0, 0.0, 0.0, 0.0, 0.0, 0.0, 0.0, 0.0, 0.0, 0.0, 1.0, 0.0, 0.0, 0.0, 1.0, 0.0, 0.0, 0.0, 0.0, 0.0, 0.0, 0.0, 0.0, 0.0, 0.0, 0.0, 0.0, 0.0, 1.0, 0.0, 0.0, 0.0, 0.0, 0.0, 0.0, 0.0, 0.0, 0.0, 0.0, 0.0, 0.0, 0.0, 0.0, 0.0, 0.0, 0.0, 0.0, 0.0, 0.0, 0.0, 0.0, 0.0, 0.0, 0.0, 0.0, 1.0, 1.0, 0.0, 0.0, 0.0, 0.0, 0.0, 0.0, 0.0, 1.0, 0.0, 0.0, 0.0, 0.0, 0.0, 0.0, 0.0, 0.0, 0.0, 0.0, 0.0, 0.0, 0.0, 0.0, 0.0, 0.0, 0.0, 0.0, 1.0, 0.0, 0.0, 0.0, 0.0, 0.0, 0.0, 0.0, 0.0, 0.0, 0.0, 0.0, 0.0, 0.0, 0.0, 0.0, 0.0, 0.0, 0.0, 0.0, 0.0, 1.0, 0.0, 0.0, 0.0, 0.0, 0.0, 0.0, 0.0, 0.0, 0.0, 0.0, 0.0, 1.0, 0.0, 0.0, 0.0, 0.0, 0.0, 0.0, 0.0, 0.0, 0.0, 0.0, 1.0, 0.0, 0.0, 0.0, 0.0, 0.0, 0.0, 0.0, 0.0, 0.0, 0.0, 0.0, 1.0, 0.0, 0.0, 0.0, 0.0, 0.0, 0.0, 0.0, 0.0, 0.0, 0.0, 0.0, 0.0, 0.0, 0.0, 0.0, 0.0, 0.0, 0.0, 0.0, 0.0, 0.0, 0.0, 0.0, 0.0, 0.0, 0.0, 1.0, 0.0, 0.0, 0.0, 0.0, 0.0, 0.0, 0.0, 0.0, 0.0, 0.0, 0.0, 0.0, 0.0, 0.0, 0.0, 0.0, 0.0, 0.0, 0.0, 1.0, 0.0, 0.0, 0.0, 0.0, 0.0, 0.0, 0.0, 0.0, 0.0, 0.0, 0.0, 0.0, 0.0, 0.0, 0.0, 0.0, 0.0, 0.0, 0.0, 1.0, 0.0, 0.0, 0.0, 0.0, 0.0, 0.0, 0.0, 0.0, 1.0, 0.0, 0.0, 0.0, 0.0, 0.0, 0.0, 0.0, 0.0, 0.0, 0.0, 0.0, 0.0, 0.0, 0.0, 0.0, 0.0, 0.0, 0.0, 0.0, 0.0, 0.0, 0.0, 0.0, 0.0, 0.0, 0.0, 0.0, 0.0, 0.0, 0.0, 0.0, 0.0, 1.0, 0.0, 0.0, 0.0, 1.0, 0.0, 1.0, 1.0, 1.0, 0.0, 0.0, 0.0, 0.0, 0.0, 0.0, 0.0, 0.0, 0.0, 0.0, 0.0, 0.0, 0.0, 0.0, 0.0, 0.0, 0.0, 0.0, 0.0, 0.0, 0.0, 0.0, 0.0, 0.0, 0.0, 0.0, 0.0, 0.0, 0.0, 0.0, 0.0, 0.0, 0.0, 0.0, 0.0, 0.0, 0.0, 0.0, 0.0, 0.0, 0.0, 0.0, 0.0, 0.0, 0.0, 0.0, 1.0, 0.0, 0.0, 0.0, 0.0, 0.0, 0.0, 0.0, 0.0, 0.0, 0.0, 0.0, 0.0, 0.0, 0.0, 0.0, 0.0, 0.0, 0.0, 0.0, 0.0, 0.0, 0.0, 0.0, 0.0, 0.0, 0.0, 0.0, 0.0, 0.0, 0.0, 0.0, 0.0, 0.0, 0.0, 0.0, 0.0, 0.0, 0.0, 0.0, 0.0, 0.0, 0.0, 0.0, 0.0, 0.0, 0.0, 0.0, 0.0, 0.0, 0.0, 0.0, 0.0, 0.0, 0.0, 0.0, 0.0, 0.0, 0.0, 0.0, 1.0, 0.0, 0.0, 0.0, 0.0, 0.0, 0.0, 0.0, 0.0, 0.0, 0.0, 0.0, 0.0, 1.0, 0.0, 0.0, 0.0, 0.0, 0.0, 0.0, 0.0, 0.0, 1.0, 0.0, 0.0, 0.0, 0.0, 0.0, 0.0, 0.0, 0.0, 0.0, 0.0, 0.0, 0.0, 0.0, 0.0, 0.0, 0.0, 0.0, 0.0, 0.0, 0.0, 0.0, 0.0, 0.0, 0.0, 0.0, 0.0, 0.0, 0.0, 0.0, 0.0, 0.0, 1.0, 0.0, 0.0, 0.0, 1.0, 0.0, 0.0, 1.0, 0.0, 0.0, 0.0, 0.0, 0.0, 0.0, 0.0, 0.0, 0.0, 0.0, 0.0, 0.0, 0.0, 0.0, 0.0, 0.0, 0.0, 0.0, 0.0, 0.0, 0.0, 0.0, 0.0, 0.0, 0.0, 0.0, 0.0, 0.0, 0.0, 0.0, 0.0, 0.0, 0.0, 0.0, 0.0, 0.0, 0.0, 0.0, 0.0, 0.0, 0.0, 0.0, 0.0, 0.0, 0.0, 0.0, 0.0, 1.0, 0.0, 0.0, 0.0, 0.0, 0.0, 0.0, 0.0, 0.0, 0.0, 0.0, 0.0, 0.0, 0.0, 0.0, 0.0, 0.0, 0.0, 0.0, 0.0, 0.0, 0.0, 0.0, 0.0, 0.0, 0.0, 0.0, 0.0, 0.0, 0.0, 0.0, 0.0, 0.0, 0.0, 0.0, 0.0, 0.0, 0.0, 0.0, 0.0, 0.0, 0.0, 0.0, 0.0, 0.0, 0.0, 0.0, 0.0, 0.0, 0.0, 0.0, 0.0, 0.0, 1.0, 0.0, 0.0, 0.0, 0.0, 0.0, 0.0, 0.0, 0.0, 0.0, 0.0, 0.0, 0.0, 0.0, 0.0, 0.0, 0.0, 0.0, 1.0, 1.0, 0.0, 0.0, 0.0, 0.0, 0.0, 0.0, 0.0, 0.0, 0.0, 0.0, 0.0, 0.0, 0.0, 0.0, 0.0, 0.0, 0.0, 0.0, 0.0, 0.0, 0.0, 0.0, 1.0, 0.0, 0.0, 0.0, 0.0, 0.0, 0.0, 0.0, 0.0, 0.0, 0.0, 0.0, 0.0, 0.0, 0.0, 0.0, 0.0, 0.0, 0.0, 0.0, 0.0, 0.0, 0.0, 0.0, 0.0, 0.0, 1.0, 1.0, 0.0, 0.0, 0.0, 0.0, 0.0, 0.0, 0.0, 0.0, 0.0, 0.0, 0.0, 0.0, 0.0, 0.0, 0.0, 0.0, 0.0, 0.0, 0.0, 0.0, 0.0, 0.0, 0.0, 0.0, 0.0, 0.0, 1.0, 0.0, 0.0, 0.0, 0.0, 0.0, 0.0, 0.0, 0.0, 0.0, 0.0, 0.0, 0.0, 0.0, 0.0, 0.0, 0.0, 0.0, 0.0, 0.0, 1.0, 0.0, 0.0, 0.0, 0.0, 0.0, 0.0, 0.0, 0.0, 0.0, 0.0, 0.0, 0.0, 0.0, 0.0, 0.0, 0.0, 0.0, 0.0, 0.0, 0.0, 0.0, 0.0, 0.0, 0.0, 0.0, 1.0, 0.0, 0.0, 1.0, 0.0, 0.0, 0.0, 0.0, 0.0, 1.0, 0.0, 0.0, 0.0, 0.0, 0.0, 0.0, 0.0, 0.0, 0.0, 0.0, 0.0, 1.0, 0.0, 0.0, 0.0, 0.0, 1.0, 0.0, 0.0, 0.0, 0.0, 0.0, 0.0, 0.0, 0.0, 0.0, 0.0, 0.0, 0.0, 0.0, 0.0, 1.0, 0.0, 0.0, 0.0, 0.0, 0.0, 0.0, 0.0, 0.0, 0.0, 0.0, 0.0, 0.0, 1.0, 1.0, 0.0, 0.0, 0.0, 0.0, 0.0, 0.0, 0.0, 0.0, 0.0, 0.0, 0.0, 0.0, 0.0, 0.0, 0.0, 0.0, 0.0, 0.0, 0.0, 0.0, 0.0, 0.0, 0.0, 0.0, 0.0, 0.0, 0.0, 0.0, 0.0, 0.0, 0.0, 1.0, 0.0, 0.0, 0.0, 0.0, 0.0, 0.0, 1.0, 0.0, 0.0, 0.0, 0.0, 0.0, 0.0, 0.0, 0.0, 0.0, 0.0, 0.0, 0.0, 0.0, 0.0, 0.0, 0.0, 0.0, 0.0, 0.0, 0.0, 0.0, 0.0, 0.0, 0.0, 0.0, 1.0, 0.0, 0.0, 0.0, 0.0, 0.0, 0.0, 0.0, 0.0, 0.0, 0.0, 0.0, 0.0, 0.0, 1.0, 0.0, 0.0, 0.0, 0.0, 0.0, 0.0, 0.0, 0.0, 0.0, 0.0, 0.0, 0.0, 0.0, 0.0, 1.0, 0.0, 0.0, 0.0, 0.0, 0.0, 0.0, 0.0, 0.0, 0.0, 0.0, 0.0, 0.0, 0.0, 0.0, 0.0, 0.0, 0.0, 0.0, 0.0, 0.0, 0.0, 0.0, 0.0, 0.0, 0.0, 0.0, 0.0, 0.0, 0.0, 0.0, 0.0, 0.0, 0.0, 0.0, 0.0, 0.0, 0.0, 0.0, 0.0, 0.0, 0.0, 0.0, 0.0, 0.0, 0.0, 0.0, 0.0, 0.0, 0.0, 1.0, 0.0, 0.0, 0.0, 1.0, 0.0, 0.0, 0.0, 0.0, 0.0, 0.0, 0.0, 0.0, 0.0, 0.0, 1.0, 0.0, 0.0, 0.0, 0.0, 0.0, 1.0, 0.0, 0.0, 0.0, 0.0, 0.0, 0.0, 0.0, 0.0, 0.0, 0.0, 0.0, 0.0, 0.0, 0.0, 0.0, 0.0, 0.0, 0.0, 0.0, 1.0, 0.0, 0.0, 0.0, 0.0, 0.0, 0.0, 0.0, 0.0, 0.0, 0.0, 0.0, 0.0, 0.0, 0.0, 0.0, 0.0, 0.0, 0.0, 0.0, 0.0, 0.0, 0.0, 0.0, 0.0, 0.0, 0.0, 1.0, 0.0, 0.0, 0.0, 0.0, 0.0, 0.0, 0.0, 0.0, 0.0, 0.0, 0.0, 0.0, 0.0, 0.0, 0.0, 0.0, 0.0, 0.0, 0.0, 0.0, 0.0, 0.0, 0.0, 0.0, 0.0, 1.0, 0.0, 0.0, 1.0, 0.0, 1.0, 0.0, 0.0, 0.0, 0.0, 0.0, 0.0, 0.0, 0.0, 0.0, 0.0, 1.0, 0.0, 0.0, 0.0, 0.0, 0.0, 0.0, 0.0, 0.0, 0.0, 0.0, 0.0, 0.0, 0.0, 0.0, 0.0, 0.0, 0.0, 0.0, 0.0, 0.0, 0.0, 0.0, 0.0, 1.0, 0.0, 0.0, 0.0, 0.0, 0.0, 0.0, 0.0, 0.0, 0.0, 0.0, 0.0, 0.0, 0.0, 0.0, 0.0, 0.0, 1.0, 0.0, 0.0, 0.0, 0.0, 0.0, 0.0, 0.0, 0.0, 0.0, 0.0, 0.0, 0.0, 0.0, 0.0, 0.0, 0.0, 0.0, 0.0, 0.0, 0.0, 0.0, 0.0, 1.0, 0.0, 0.0, 0.0, 0.0, 0.0, 0.0, 0.0, 0.0, 0.0, 0.0, 0.0, 0.0, 0.0, 1.0, 1.0, 0.0, 0.0, 0.0, 0.0, 0.0, 0.0, 0.0, 0.0, 0.0, 0.0, 0.0, 0.0, 0.0, 0.0, 0.0, 0.0, 0.0, 0.0, 0.0, 0.0, 0.0, 0.0, 0.0, 0.0, 0.0, 0.0, 0.0, 0.0, 0.0, 0.0, 0.0, 0.0, 0.0, 0.0, 0.0, 0.0, 0.0, 0.0, 0.0, 0.0, 0.0, 0.0, 1.0, 1.0, 0.0, 0.0, 0.0, 0.0, 0.0, 0.0, 0.0, 0.0, 0.0, 0.0, 0.0, 0.0, 0.0, 0.0, 0.0, 0.0, 0.0, 0.0, 0.0, 0.0, 0.0, 0.0, 0.0, 0.0, 0.0, 0.0, 0.0, 0.0, 0.0, 0.0, 0.0, 0.0, 0.0, 0.0, 0.0, 0.0, 0.0, 0.0, 0.0, 0.0, 0.0, 1.0, 0.0, 0.0, 0.0, 0.0, 0.0, 0.0, 0.0, 0.0, 0.0, 0.0, 0.0, 0.0, 0.0, 0.0, 0.0, 0.0, 0.0, 0.0, 0.0, 0.0, 0.0, 0.0, 0.0, 0.0, 0.0, 0.0, 0.0, 0.0, 0.0, 0.0, 0.0, 0.0, 0.0, 0.0, 0.0, 0.0, 0.0, 0.0, 0.0, 0.0, 0.0, 0.0, 0.0, 0.0, 0.0, 0.0, 0.0, 0.0, 0.0, 0.0, 0.0, 0.0, 0.0, 0.0, 0.0, 0.0, 0.0, 0.0, 1.0, 1.0, 0.0, 0.0, 0.0, 0.0, 0.0, 0.0, 1.0, 0.0, 0.0, 0.0, 0.0, 0.0, 0.0, 0.0, 0.0, 0.0, 0.0, 0.0, 0.0, 0.0, 0.0, 1.0, 0.0, 1.0, 0.0, 0.0, 0.0, 0.0, 0.0, 0.0, 0.0, 0.0, 0.0, 0.0, 0.0, 0.0, 0.0, 1.0, 0.0, 0.0, 0.0, 0.0, 0.0, 0.0, 0.0, 0.0, 0.0, 0.0, 0.0, 1.0, 0.0, 0.0, 0.0, 0.0, 1.0, 0.0, 0.0, 0.0, 1.0, 0.0, 0.0, 0.0, 0.0, 0.0, 0.0, 0.0, 0.0, 0.0, 0.0, 0.0, 0.0, 0.0, 0.0, 1.0, 0.0, 0.0, 0.0, 0.0, 0.0, 0.0, 0.0, 0.0, 0.0, 0.0, 0.0, 0.0, 0.0, 0.0, 0.0, 0.0, 0.0, 0.0, 0.0, 0.0, 0.0, 0.0, 0.0, 0.0, 0.0, 0.0, 0.0, 0.0, 0.0, 0.0, 0.0, 0.0, 1.0, 0.0, 0.0, 0.0, 0.0, 0.0, 0.0, 0.0, 0.0, 0.0, 0.0, 0.0, 1.0, 0.0, 0.0, 0.0, 0.0, 0.0, 0.0, 0.0, 0.0, 0.0, 0.0, 0.0, 0.0, 0.0, 0.0, 0.0, 0.0, 0.0, 0.0, 0.0, 0.0, 0.0, 0.0, 0.0, 0.0, 0.0, 1.0, 0.0, 0.0, 0.0, 0.0, 0.0, 0.0, 0.0, 0.0, 0.0, 0.0, 0.0, 0.0, 0.0, 0.0, 0.0, 0.0, 0.0, 0.0, 0.0, 0.0, 1.0, 0.0, 0.0, 0.0, 0.0, 0.0, 0.0, 0.0, 0.0, 0.0, 0.0, 0.0, 1.0, 0.0, 0.0, 0.0, 0.0, 0.0, 0.0, 1.0, 0.0, 0.0, 0.0, 0.0, 0.0, 0.0, 0.0, 0.0, 0.0, 0.0, 0.0, 0.0, 0.0, 0.0, 0.0, 0.0, 0.0, 0.0, 0.0, 1.0, 0.0, 0.0, 0.0, 0.0, 0.0, 0.0, 0.0, 0.0, 0.0, 0.0, 0.0, 0.0, 0.0, 0.0, 1.0, 0.0, 0.0, 0.0, 0.0, 0.0, 0.0, 1.0, 0.0, 0.0, 0.0, 0.0, 0.0, 0.0, 0.0, 0.0, 0.0, 0.0, 0.0, 0.0, 0.0, 0.0, 0.0, 0.0, 0.0, 0.0, 0.0, 0.0, 0.0, 0.0, 0.0, 0.0, 0.0, 0.0, 0.0, 0.0, 1.0, 1.0, 1.0, 1.0, 0.0, 0.0, 1.0, 0.0, 0.0, 0.0, 0.0, 0.0, 0.0, 1.0, 0.0, 0.0, 0.0, 0.0, 0.0, 0.0, 0.0, 0.0, 0.0, 0.0, 1.0, 0.0, 0.0, 0.0, 0.0, 0.0, 0.0, 0.0, 0.0, 0.0, 0.0, 0.0, 0.0, 0.0, 0.0, 0.0, 0.0, 0.0, 0.0, 0.0, 0.0, 0.0, 0.0, 0.0, 0.0, 0.0, 0.0, 0.0, 0.0, 0.0, 0.0, 0.0, 0.0, 1.0, 0.0, 0.0, 0.0, 0.0, 0.0, 0.0, 0.0, 0.0, 0.0, 0.0, 0.0, 0.0, 0.0, 0.0, 0.0, 0.0, 0.0, 0.0, 0.0, 0.0, 0.0, 0.0, 0.0, 0.0, 0.0, 0.0, 0.0, 0.0, 0.0, 1.0, 0.0, 0.0, 0.0, 0.0, 0.0, 0.0, 0.0, 0.0, 0.0, 1.0, 0.0, 0.0, 0.0, 0.0, 0.0, 0.0, 1.0, 0.0, 0.0, 0.0, 0.0, 1.0, 0.0, 0.0, 0.0, 0.0, 0.0, 1.0, 0.0, 0.0, 0.0, 0.0, 0.0, 0.0, 0.0, 1.0, 0.0, 0.0, 0.0, 0.0, 0.0, 0.0, 0.0, 0.0, 0.0, 0.0, 0.0, 0.0, 0.0, 0.0, 0.0, 0.0, 0.0, 1.0, 0.0, 1.0, 0.0, 0.0, 0.0, 0.0, 0.0, 0.0, 0.0, 0.0, 0.0, 0.0, 0.0, 0.0, 0.0, 0.0, 0.0, 0.0, 0.0, 1.0, 0.0, 0.0, 0.0, 0.0, 0.0, 0.0, 0.0, 0.0, 0.0, 0.0, 0.0, 0.0, 0.0, 0.0, 0.0, 0.0, 0.0, 0.0, 0.0, 0.0, 0.0, 0.0, 0.0, 0.0, 0.0, 0.0, 0.0, 1.0, 0.0, 0.0, 0.0, 0.0, 0.0, 0.0, 0.0, 0.0, 0.0, 0.0, 0.0, 0.0, 0.0, 1.0, 1.0, 0.0, 0.0, 0.0, 0.0, 0.0, 0.0, 0.0, 0.0, 0.0, 0.0, 0.0, 0.0, 0.0, 0.0, 1.0, 0.0, 0.0, 0.0, 0.0, 0.0, 0.0, 0.0, 0.0, 0.0, 0.0, 0.0, 0.0, 0.0, 0.0, 0.0, 0.0, 1.0, 0.0, 0.0, 0.0, 0.0, 0.0, 1.0, 0.0, 0.0, 0.0, 0.0, 0.0, 0.0, 0.0, 0.0, 0.0, 0.0, 0.0, 0.0, 0.0, 0.0, 0.0, 0.0, 0.0, 0.0, 0.0, 0.0, 0.0, 0.0, 0.0, 0.0, 0.0, 0.0, 0.0, 1.0, 0.0, 0.0, 0.0, 0.0, 0.0, 0.0, 0.0, 0.0, 0.0, 0.0, 1.0, 0.0, 0.0, 0.0, 0.0, 0.0, 0.0, 0.0, 0.0, 0.0, 0.0, 0.0, 0.0, 0.0, 0.0, 1.0, 0.0, 0.0, 1.0, 0.0, 0.0, 0.0, 0.0, 0.0, 0.0, 1.0, 0.0, 0.0, 0.0, 0.0, 0.0, 1.0, 0.0, 0.0, 0.0, 0.0, 0.0, 0.0, 0.0, 0.0, 0.0, 0.0, 0.0, 0.0, 0.0, 0.0, 0.0, 0.0, 0.0, 0.0, 0.0, 0.0, 0.0, 0.0, 0.0, 0.0, 0.0, 0.0, 0.0, 0.0, 0.0, 0.0, 0.0, 1.0, 0.0, 0.0, 0.0, 0.0, 0.0, 0.0, 0.0, 0.0, 1.0, 0.0, 0.0, 0.0, 0.0, 0.0, 0.0, 0.0, 0.0, 0.0, 0.0, 0.0, 0.0, 0.0, 0.0, 0.0, 1.0, 1.0, 0.0, 0.0, 0.0, 0.0, 0.0, 0.0, 0.0, 0.0, 0.0, 0.0, 0.0, 0.0, 0.0, 1.0, 0.0, 0.0, 0.0, 0.0, 0.0, 0.0, 0.0, 0.0, 0.0, 0.0, 0.0, 0.0, 0.0, 1.0, 0.0, 0.0, 0.0, 0.0, 0.0, 0.0, 0.0, 0.0, 0.0, 0.0, 0.0, 0.0, 1.0, 0.0, 0.0, 0.0, 0.0, 0.0, 0.0, 0.0, 0.0, 0.0, 0.0, 0.0, 0.0, 0.0, 0.0, 0.0, 0.0, 0.0, 0.0, 0.0, 0.0, 0.0, 0.0, 0.0, 0.0, 0.0, 0.0, 0.0, 0.0, 0.0, 0.0, 0.0, 0.0, 0.0, 0.0, 0.0, 0.0, 0.0, 0.0, 0.0, 1.0, 0.0, 0.0, 0.0, 0.0, 0.0, 0.0, 0.0, 0.0, 0.0, 0.0, 0.0, 0.0, 0.0, 0.0, 0.0, 0.0, 0.0, 0.0, 0.0, 0.0, 0.0, 0.0, 0.0, 0.0, 0.0, 0.0, 0.0, 0.0, 0.0, 0.0, 0.0, 0.0, 0.0, 0.0, 0.0, 0.0, 0.0, 0.0, 0.0, 1.0, 0.0, 0.0, 0.0, 0.0, 0.0, 0.0, 0.0, 0.0, 0.0, 1.0, 0.0, 0.0, 0.0, 0.0, 0.0, 0.0, 1.0, 0.0, 0.0, 0.0, 0.0, 0.0, 0.0, 0.0, 0.0, 0.0, 0.0, 0.0, 0.0, 0.0, 0.0, 0.0, 0.0, 0.0, 0.0, 0.0, 0.0, 0.0, 0.0, 0.0, 0.0, 0.0, 0.0, 0.0, 0.0, 0.0, 0.0, 0.0, 0.0, 0.0, 0.0, 0.0, 0.0, 0.0, 0.0, 0.0, 0.0, 0.0, 0.0, 0.0, 0.0, 0.0, 0.0, 0.0, 0.0, 0.0, 0.0, 0.0, 0.0, 0.0, 0.0, 0.0, 0.0, 0.0, 0.0, 0.0, 0.0, 1.0, 0.0, 0.0, 1.0, 0.0, 0.0, 0.0, 0.0, 0.0, 0.0, 0.0, 0.0, 0.0, 0.0, 0.0, 0.0, 0.0, 0.0, 0.0, 0.0, 0.0, 0.0, 0.0, 0.0, 0.0, 0.0, 0.0, 0.0, 1.0, 0.0, 0.0, 1.0, 1.0, 0.0, 0.0, 0.0, 0.0, 0.0, 0.0, 0.0, 0.0, 1.0, 0.0, 0.0, 0.0, 0.0, 1.0, 0.0, 0.0, 0.0, 0.0, 0.0, 0.0, 0.0, 0.0, 0.0, 0.0, 0.0, 0.0, 0.0, 0.0, 0.0, 0.0, 0.0, 0.0, 0.0, 0.0, 0.0, 0.0, 0.0, 0.0, 0.0, 0.0, 0.0, 0.0, 0.0, 0.0, 0.0, 0.0, 0.0, 0.0, 0.0, 0.0, 0.0, 0.0, 0.0, 0.0, 0.0, 0.0, 0.0, 0.0, 0.0, 1.0, 0.0, 1.0, 0.0, 0.0, 0.0, 0.0, 0.0, 0.0, 0.0, 0.0, 0.0, 0.0, 0.0, 0.0, 0.0, 0.0, 0.0, 0.0, 0.0, 0.0, 0.0, 0.0, 0.0, 0.0, 0.0, 0.0, 0.0, 0.0, 0.0, 0.0, 0.0, 0.0, 0.0, 0.0, 0.0, 0.0, 1.0, 0.0, 0.0, 0.0, 0.0, 0.0, 0.0, 0.0, 0.0, 0.0, 0.0, 0.0, 0.0, 1.0, 0.0, 0.0, 0.0, 0.0, 0.0, 0.0, 0.0, 0.0, 0.0, 0.0, 0.0, 0.0, 1.0, 0.0, 0.0, 0.0, 0.0, 0.0, 0.0, 0.0, 0.0, 0.0, 0.0, 0.0, 0.0, 0.0, 0.0, 0.0, 0.0, 0.0, 0.0, 0.0, 0.0, 0.0, 0.0, 0.0, 0.0, 0.0, 0.0, 0.0, 0.0, 0.0, 0.0, 0.0, 0.0, 0.0, 0.0, 0.0, 0.0, 0.0, 0.0, 0.0, 0.0, 0.0, 0.0, 0.0, 0.0, 0.0, 0.0, 0.0, 0.0, 0.0, 0.0, 0.0, 0.0, 0.0, 0.0, 0.0, 0.0, 0.0, 0.0, 0.0, 0.0, 0.0, 0.0, 0.0, 0.0, 0.0, 0.0, 0.0, 0.0, 0.0, 0.0, 0.0, 1.0, 0.0, 0.0, 0.0, 0.0, 0.0, 0.0, 0.0, 0.0, 0.0, 1.0, 0.0, 0.0, 0.0, 0.0, 0.0, 0.0, 0.0, 1.0, 0.0, 0.0, 0.0, 0.0, 0.0, 0.0, 1.0, 1.0, 1.0, 0.0, 0.0, 0.0, 0.0, 0.0, 0.0, 0.0, 0.0, 0.0, 0.0, 0.0, 0.0, 0.0, 0.0, 0.0, 0.0, 0.0, 0.0, 0.0, 0.0, 0.0, 0.0, 0.0, 0.0, 0.0, 0.0, 0.0, 0.0, 0.0, 0.0, 1.0, 0.0, 0.0, 0.0, 1.0, 0.0, 0.0, 0.0, 0.0, 0.0, 0.0, 0.0, 1.0, 0.0, 1.0, 0.0, 0.0, 0.0, 1.0, 1.0, 0.0, 0.0, 0.0, 1.0, 0.0, 0.0, 0.0, 0.0, 0.0, 0.0, 0.0, 0.0, 0.0, 0.0, 1.0, 0.0, 0.0, 0.0, 0.0, 0.0, 0.0, 0.0, 0.0, 0.0, 0.0, 0.0, 0.0, 0.0, 0.0, 0.0, 1.0, 0.0, 0.0, 0.0, 0.0, 0.0, 0.0, 0.0, 0.0, 0.0, 1.0, 0.0, 0.0, 0.0, 0.0, 0.0, 0.0, 0.0, 0.0, 0.0, 1.0, 0.0, 0.0, 0.0, 0.0, 0.0, 0.0, 0.0, 0.0, 0.0, 0.0, 0.0, 1.0, 0.0, 0.0, 0.0, 0.0, 0.0, 0.0, 0.0, 0.0, 0.0, 0.0, 0.0, 0.0, 1.0, 0.0, 0.0, 0.0, 1.0, 0.0, 0.0, 0.0, 0.0, 0.0, 0.0, 1.0, 1.0, 0.0, 0.0, 0.0, 0.0, 0.0, 0.0, 0.0, 0.0, 0.0, 0.0, 0.0, 0.0, 0.0, 0.0, 1.0, 0.0, 0.0, 0.0, 0.0, 0.0, 0.0, 0.0, 0.0, 0.0, 0.0, 0.0, 0.0, 0.0, 0.0, 0.0, 0.0, 0.0, 0.0, 0.0, 0.0, 1.0, 0.0, 0.0, 0.0, 0.0, 0.0, 1.0, 0.0, 0.0, 0.0, 0.0, 0.0, 0.0, 0.0, 0.0, 0.0, 0.0, 0.0, 0.0, 0.0, 0.0, 0.0, 0.0, 0.0, 0.0, 0.0, 1.0, 0.0, 0.0, 0.0, 0.0, 0.0, 0.0, 0.0, 0.0, 0.0, 0.0, 0.0, 0.0, 0.0, 0.0, 0.0, 0.0, 0.0, 0.0, 0.0, 0.0, 0.0, 0.0, 0.0, 0.0, 0.0, 0.0, 0.0, 0.0, 0.0, 0.0, 0.0, 0.0, 0.0, 0.0, 0.0, 0.0, 0.0, 0.0, 0.0, 0.0, 1.0, 0.0, 0.0, 0.0, 0.0, 0.0, 0.0, 0.0, 0.0, 0.0, 0.0, 0.0, 0.0, 0.0, 0.0, 0.0, 0.0, 0.0, 0.0, 0.0, 0.0, 0.0, 1.0, 0.0, 0.0, 0.0, 0.0, 0.0, 0.0, 1.0, 0.0, 0.0, 0.0, 0.0, 0.0, 0.0, 0.0, 0.0, 0.0, 0.0, 0.0, 0.0, 0.0, 0.0, 0.0, 0.0, 0.0, 0.0, 0.0, 0.0, 0.0, 0.0, 0.0, 0.0, 0.0, 0.0, 0.0, 0.0, 1.0, 0.0, 0.0, 0.0, 0.0, 0.0, 0.0, 0.0, 0.0, 0.0, 0.0, 0.0, 0.0, 0.0, 0.0, 0.0, 0.0, 0.0, 0.0, 0.0, 0.0, 0.0, 0.0, 0.0, 0.0, 0.0, 0.0, 0.0, 0.0, 0.0, 0.0, 0.0, 0.0, 0.0, 0.0, 0.0, 0.0, 0.0, 0.0, 0.0, 0.0, 0.0, 0.0, 0.0, 1.0, 0.0, 0.0, 1.0, 0.0, 0.0, 0.0, 0.0, 0.0, 0.0, 0.0, 0.0, 0.0, 0.0, 0.0, 0.0, 0.0, 0.0, 0.0, 0.0, 0.0, 0.0, 0.0, 0.0, 1.0, 0.0, 0.0, 1.0, 0.0, 0.0, 0.0, 0.0, 0.0, 0.0, 0.0, 0.0, 0.0, 0.0, 0.0, 0.0, 1.0, 0.0, 0.0, 0.0, 1.0, 0.0, 0.0, 0.0, 1.0, 0.0, 0.0, 0.0, 0.0, 0.0, 0.0, 0.0, 0.0, 0.0, 0.0, 0.0, 0.0, 0.0, 0.0, 0.0, 0.0, 0.0, 0.0, 0.0, 0.0, 0.0, 0.0, 0.0, 0.0, 0.0, 0.0, 0.0, 0.0, 0.0, 0.0, 0.0, 0.0, 0.0, 0.0, 0.0, 0.0, 0.0, 0.0, 0.0, 0.0, 0.0, 0.0, 0.0, 0.0, 0.0, 0.0, 0.0, 0.0, 0.0, 0.0, 0.0, 0.0, 0.0, 0.0, 0.0, 0.0, 0.0, 0.0, 0.0, 0.0, 0.0, 0.0, 0.0, 0.0, 0.0, 0.0, 0.0, 0.0, 0.0, 0.0, 0.0]\n"
     ]
    }
   ],
   "source": [
    "# MLJ way to load the model (resolves ambiguity)\n",
    "RandomForestClassifier = @load RandomForestClassifier pkg=DecisionTree\n",
    "\n",
    "rf_model = RandomForestClassifier(\n",
    "    n_trees=100,\n",
    "    max_depth=-1,\n",
    "    rng=123,\n",
    "    sampling_fraction=0.5,\n",
    "    min_samples_leaf=5,\n",
    "    min_samples_split=10\n",
    ")\n",
    "\n",
    "# Wrap the model and the training data in a machine.\n",
    "rf_machine = machine(rf_model, X_train, y_train)\n",
    "\n",
    "# Train (fit) the model.\n",
    "MLJ.fit!(rf_machine)\n",
    "\n",
    "# Make predictions on the test data.\n",
    "y_pred = MLJ.predict(rf_machine, X_test)\n",
    "\n",
    "# If you're interested in the predicted labels (instead of probability distributions),\n",
    "# you can convert them with `mode.`\n",
    "predicted_labels = mode.(y_pred)\n",
    "\n",
    "println(\"Predicted labels: \", predicted_labels)"
   ]
  },
  {
   "cell_type": "code",
   "execution_count": 19,
   "id": "76b20b00",
   "metadata": {},
   "outputs": [
    {
     "name": "stdout",
     "output_type": "stream",
     "text": [
      "Accuracy: 0.9077637690776377\n",
      "F1 Score: 0.46811224489795916\n",
      "Recall for class 1: 0.34720908230842007\n"
     ]
    },
    {
     "name": "stderr",
     "output_type": "stream",
     "text": [
      "┌ Warning: Levels not explicitly ordered. Using the order CategoricalValue{Float64, UInt32}[0.0, 1.0]. The \"positive\" level is 1.0. \n",
      "└ @ StatisticalMeasures.ConfusionMatrices /home/frank/.julia/packages/StatisticalMeasures/UTtxb/src/confusion_matrices.jl:339\n",
      "┌ Warning: Levels not explicitly ordered. Using the order CategoricalValue{Float64, UInt32}[0.0, 1.0]. The \"positive\" level is 1.0. \n",
      "└ @ StatisticalMeasures.ConfusionMatrices /home/frank/.julia/packages/StatisticalMeasures/UTtxb/src/confusion_matrices.jl:339\n"
     ]
    }
   ],
   "source": [
    "# Compute Accuracy\n",
    "acc = accuracy(predicted_labels, y_test)\n",
    "println(\"Accuracy: \", acc)\n",
    "\n",
    "# Compute the Confusion Matrix\n",
    "conf_m = confusion_matrix(predicted_labels, y_test);\n",
    "\n",
    "# Compute F1 Score\n",
    "f1 = f1score(predicted_labels, y_test)\n",
    "println(\"F1 Score: \", f1)\n",
    "\n",
    "# Compute Recall\n",
    "rec = recall(predicted_labels, y_test)\n",
    "println(\"Recall for class 1: \", rec)  # rec is already the recall for the positive class (1)"
   ]
  },
  {
   "cell_type": "code",
   "execution_count": 20,
   "id": "4b03875b",
   "metadata": {},
   "outputs": [
    {
     "data": {
      "text/plain": [
       "          ┌─────────────┐\n",
       "          │Ground Truth │\n",
       "┌─────────┼──────┬──────┤\n",
       "│Predicted│ 0.0  │ 1.0  │\n",
       "├─────────┼──────┼──────┤\n",
       "│   0.0   │ 7841 │ 690  │\n",
       "├─────────┼──────┼──────┤\n",
       "│   1.0   │ 144  │ 367  │\n",
       "└─────────┴──────┴──────┘\n"
      ]
     },
     "metadata": {},
     "output_type": "display_data"
    }
   ],
   "source": [
    "# Compute the Confusion Matrix\n",
    "conf_m"
   ]
  },
  {
   "cell_type": "code",
   "execution_count": 29,
   "id": "dda403dc",
   "metadata": {},
   "outputs": [
    {
     "data": {
      "text/plain": [
       "3594.0"
      ]
     },
     "metadata": {},
     "output_type": "display_data"
    }
   ],
   "source": [
    "# Cost\n",
    "\n",
    "custom_cost(predicted_labels, y_test)"
   ]
  },
  {
   "cell_type": "markdown",
   "id": "082e695e",
   "metadata": {},
   "source": [
    "### Optimization of hyperparameters RF"
   ]
  },
  {
   "cell_type": "code",
   "execution_count": 23,
   "id": "df33bb89",
   "metadata": {},
   "outputs": [
    {
     "data": {
      "text/plain": [
       "make_objective (generic function with 1 method)"
      ]
     },
     "metadata": {},
     "output_type": "display_data"
    }
   ],
   "source": [
    "using BayesianOptimization\n",
    "\n",
    "function make_objective(X, y)\n",
    "    function rf_objective(x)\n",
    "        # Define param order\n",
    "        n_estimators     = Int(round(x[1]))\n",
    "        max_depth        = Int(round(x[2]))\n",
    "        min_samples_leaf = Int(round(x[3]))\n",
    "        min_samples_split = Int(round(x[4]))\n",
    "        sampling_fraction = x[5]  # already Float64\n",
    "\n",
    "        model = RandomForestClassifier(\n",
    "            n_trees = n_estimators,\n",
    "            max_depth = max_depth,\n",
    "            min_samples_leaf = min_samples_leaf,\n",
    "            min_samples_split = min_samples_split,\n",
    "            sampling_fraction = sampling_fraction\n",
    "        )\n",
    "\n",
    "        mach = machine(model, X, y)\n",
    "        res = evaluate!(mach, resampling=CV(nfolds=5), measure=custom_cost, operation=predict_mode)\n",
    "        \n",
    "        return -res.measurement[1]  # negate because we are maximizing\n",
    "    end\n",
    "    return rf_objective\n",
    "end"
   ]
  },
  {
   "cell_type": "code",
   "execution_count": 24,
   "id": "4398b24a",
   "metadata": {},
   "outputs": [
    {
     "name": "stderr",
     "output_type": "stream",
     "text": [
      "┌ Warning: use values(kwargs) and keys(kwargs) instead of kwargs.data and kwargs.itr\n",
      "│   caller = #MAPGPOptimizer#19 at gp.jl:37 [inlined]\n",
      "└ @ Core /home/frank/.julia/packages/BayesianOptimization/nq1HY/src/models/gp.jl:37\n",
      "\u001b[33mEvaluating over 5 folds: 100%[=========================] Time: 0:00:05\u001b[39m\u001b[K\n",
      "\u001b[33mEvaluating over 5 folds: 100%[=========================] Time: 0:00:02\u001b[39m\u001b[K\n",
      "\u001b[33mEvaluating over 5 folds: 100%[=========================] Time: 0:00:03\u001b[39m\u001b[K\n",
      "\u001b[33mEvaluating over 5 folds: 100%[=========================] Time: 0:00:36\u001b[39m\u001b[K\n",
      "\u001b[33mEvaluating over 5 folds: 100%[=========================] Time: 0:00:35\u001b[39m\u001b[K\n",
      "\u001b[33mEvaluating over 5 folds: 100%[=========================] Time: 0:00:37\u001b[39m\u001b[K\n",
      "\u001b[33mEvaluating over 5 folds: 100%[=========================] Time: 0:00:29\u001b[39m\u001b[K\n",
      "\u001b[33mEvaluating over 5 folds: 100%[=========================] Time: 0:00:31\u001b[39m\u001b[K\n",
      "\u001b[33mEvaluating over 5 folds: 100%[=========================] Time: 0:00:30\u001b[39m\u001b[K\n",
      "\u001b[33mEvaluating over 5 folds: 100%[=========================] Time: 0:00:03\u001b[39m\u001b[K\n",
      "\u001b[33mEvaluating over 5 folds: 100%[=========================] Time: 0:00:03\u001b[39m\u001b[K\n",
      "\u001b[33mEvaluating over 5 folds: 100%[=========================] Time: 0:00:03\u001b[39m\u001b[K\n",
      "\u001b[33mEvaluating over 5 folds: 100%[=========================] Time: 0:00:04\u001b[39m\u001b[K\n",
      "\u001b[33mEvaluating over 5 folds: 100%[=========================] Time: 0:00:04\u001b[39m\u001b[K\n",
      "\u001b[33mEvaluating over 5 folds: 100%[=========================] Time: 0:00:04\u001b[39m\u001b[K\n",
      "\u001b[33mEvaluating over 5 folds: 100%[=========================] Time: 0:00:50\u001b[39m\u001b[K\n",
      "\u001b[33mEvaluating over 5 folds: 100%[=========================] Time: 0:00:50\u001b[39m\u001b[K\n",
      "\u001b[33mEvaluating over 5 folds: 100%[=========================] Time: 0:00:51\u001b[39m\u001b[K\n",
      "\u001b[33mEvaluating over 5 folds: 100%[=========================] Time: 0:00:51\u001b[39m\u001b[K\n",
      "\u001b[33mEvaluating over 5 folds: 100%[=========================] Time: 0:00:51\u001b[39m\u001b[K\n",
      "\u001b[33mEvaluating over 5 folds: 100%[=========================] Time: 0:00:50\u001b[39m\u001b[K\n",
      "\u001b[33mEvaluating over 5 folds: 100%[=========================] Time: 0:00:07\u001b[39m\u001b[K\n",
      "\u001b[33mEvaluating over 5 folds: 100%[=========================] Time: 0:00:08\u001b[39m\u001b[K\n",
      "\u001b[33mEvaluating over 5 folds: 100%[=========================] Time: 0:00:08\u001b[39m\u001b[K\n",
      "\u001b[33mEvaluating over 5 folds: 100%[=========================] Time: 0:00:08\u001b[39m\u001b[K\n",
      "\u001b[33mEvaluating over 5 folds: 100%[=========================] Time: 0:00:08\u001b[39m\u001b[K\n",
      "\u001b[33mEvaluating over 5 folds: 100%[=========================] Time: 0:00:08\u001b[39m\u001b[K\n",
      "\u001b[33mEvaluating over 5 folds: 100%[=========================] Time: 0:00:21\u001b[39m\u001b[K\n",
      "\u001b[33mEvaluating over 5 folds: 100%[=========================] Time: 0:00:21\u001b[39m\u001b[K\n",
      "\u001b[33mEvaluating over 5 folds: 100%[=========================] Time: 0:00:24\u001b[39m\u001b[K\n",
      "\u001b[33mEvaluating over 5 folds: 100%[=========================] Time: 0:00:12\u001b[39m\u001b[K\n",
      "\u001b[33mEvaluating over 5 folds: 100%[=========================] Time: 0:00:12\u001b[39m\u001b[K\n",
      "\u001b[33mEvaluating over 5 folds: 100%[=========================] Time: 0:00:12\u001b[39m\u001b[K\n",
      "\u001b[33mEvaluating over 5 folds: 100%[=========================] Time: 0:00:21\u001b[39m\u001b[K\n",
      "\u001b[33mEvaluating over 5 folds: 100%[=========================] Time: 0:00:20\u001b[39m\u001b[K\n",
      "\u001b[33mEvaluating over 5 folds: 100%[=========================] Time: 0:00:19\u001b[39m\u001b[K\n",
      "\u001b[33mEvaluating over 5 folds: 100%[=========================] Time: 0:00:15\u001b[39m\u001b[K\n",
      "\u001b[33mEvaluating over 5 folds: 100%[=========================] Time: 0:00:16\u001b[39m\u001b[K\n",
      "\u001b[33mEvaluating over 5 folds: 100%[=========================] Time: 0:00:15\u001b[39m\u001b[K\n",
      "\u001b[33mEvaluating over 5 folds: 100%[=========================] Time: 0:00:17\u001b[39m\u001b[K\n",
      "\u001b[33mEvaluating over 5 folds: 100%[=========================] Time: 0:00:17\u001b[39m\u001b[K\n",
      "\u001b[33mEvaluating over 5 folds: 100%[=========================] Time: 0:00:16\u001b[39m\u001b[K\n",
      "\u001b[33mEvaluating over 5 folds: 100%[=========================] Time: 0:00:07\u001b[39m\u001b[K\n",
      "\u001b[33mEvaluating over 5 folds: 100%[=========================] Time: 0:00:07\u001b[39m\u001b[K\n",
      "\u001b[33mEvaluating over 5 folds: 100%[=========================] Time: 0:00:07\u001b[39m\u001b[K\n",
      "\u001b[33mEvaluating over 5 folds: 100%[=========================] Time: 0:00:03\u001b[39m\u001b[K\n",
      "\u001b[33mEvaluating over 5 folds: 100%[=========================] Time: 0:00:03\u001b[39m\u001b[K\n",
      "\u001b[33mEvaluating over 5 folds: 100%[=========================] Time: 0:00:03\u001b[39m\u001b[K\n",
      "\u001b[33mEvaluating over 5 folds: 100%[=========================] Time: 0:00:00\u001b[39m\u001b[K\n",
      "\u001b[33mEvaluating over 5 folds: 100%[=========================] Time: 0:00:01\u001b[39m\u001b[K\n",
      "\u001b[33mEvaluating over 5 folds: 100%[=========================] Time: 0:00:01\u001b[39m\u001b[K\n",
      "\u001b[33mEvaluating over 5 folds: 100%[=========================] Time: 0:00:31\u001b[39m\u001b[K\n",
      "\u001b[33mEvaluating over 5 folds: 100%[=========================] Time: 0:00:28\u001b[39m\u001b[K\n",
      "\u001b[33mEvaluating over 5 folds: 100%[=========================] Time: 0:00:29\u001b[39m\u001b[K\n",
      "\u001b[33mEvaluating over 5 folds: 100%[=========================] Time: 0:00:14\u001b[39m\u001b[K\n",
      "\u001b[33mEvaluating over 5 folds: 100%[=========================] Time: 0:00:15\u001b[39m\u001b[K\n",
      "\u001b[33mEvaluating over 5 folds: 100%[=========================] Time: 0:00:14\u001b[39m\u001b[K\n",
      "\u001b[33mEvaluating over 5 folds: 100%[=========================] Time: 0:00:09\u001b[39m\u001b[K\n",
      "\u001b[33mEvaluating over 5 folds: 100%[=========================] Time: 0:00:09\u001b[39m\u001b[K\n",
      "\u001b[33mEvaluating over 5 folds: 100%[=========================] Time: 0:00:09\u001b[39m\u001b[K\n",
      "\u001b[33mEvaluating over 5 folds: 100%[=========================] Time: 0:00:07\u001b[39m\u001b[K\n",
      "\u001b[33mEvaluating over 5 folds: 100%[=========================] Time: 0:00:07\u001b[39m\u001b[K\n",
      "\u001b[33mEvaluating over 5 folds: 100%[=========================] Time: 0:00:07\u001b[39m\u001b[K\n",
      "\u001b[33mEvaluating over 5 folds: 100%[=========================] Time: 0:00:52\u001b[39m\u001b[K\n",
      "\u001b[33mEvaluating over 5 folds: 100%[=========================] Time: 0:00:52\u001b[39m\u001b[K\n",
      "\u001b[33mEvaluating over 5 folds: 100%[=========================] Time: 0:00:52\u001b[39m\u001b[K\n",
      "\u001b[33mEvaluating over 5 folds: 100%[=========================] Time: 0:00:28\u001b[39m\u001b[K\n",
      "\u001b[33mEvaluating over 5 folds: 100%[=========================] Time: 0:00:28\u001b[39m\u001b[K\n",
      "\u001b[33mEvaluating over 5 folds: 100%[=========================] Time: 0:00:28\u001b[39m\u001b[K\n",
      "\u001b[33mEvaluating over 5 folds: 100%[=========================] Time: 0:00:01\u001b[39m\u001b[K\n",
      "\u001b[33mEvaluating over 5 folds: 100%[=========================] Time: 0:00:01\u001b[39m\u001b[K\n",
      "\u001b[33mEvaluating over 5 folds: 100%[=========================] Time: 0:00:01\u001b[39m\u001b[K\n",
      "\u001b[33mEvaluating over 5 folds: 100%[=========================] Time: 0:00:06\u001b[39m\u001b[K\n",
      "\u001b[33mEvaluating over 5 folds: 100%[=========================] Time: 0:00:06\u001b[39m\u001b[K\n",
      "\u001b[33mEvaluating over 5 folds: 100%[=========================] Time: 0:00:06\u001b[39m\u001b[K\n",
      "┌ Warning: NLopt returned FORCED_STOP while optimizing the GP.\n",
      "└ @ BayesianOptimization /home/frank/.julia/packages/BayesianOptimization/nq1HY/src/models/gp.jl:72\n",
      "┌ Info: 2025-07-19T11:15:40.012\titeration: 25\tcurrent optimum: -2717.5992313647425\n",
      "└ @ BayesianOptimization /home/frank/.julia/packages/BayesianOptimization/nq1HY/src/BayesianOptimization.jl:140\n",
      "\u001b[33mEvaluating over 5 folds: 100%[=========================] Time: 0:00:31\u001b[39m\u001b[K\n",
      "\u001b[33mEvaluating over 5 folds: 100%[=========================] Time: 0:00:31\u001b[39m\u001b[K\n",
      "\u001b[33mEvaluating over 5 folds: 100%[=========================] Time: 0:00:31\u001b[39m\u001b[K\n",
      "┌ Info: 2025-07-19T11:17:16.889\titeration: 26\tcurrent optimum: -2717.5992313647425\n",
      "└ @ BayesianOptimization /home/frank/.julia/packages/BayesianOptimization/nq1HY/src/BayesianOptimization.jl:140\n",
      "\u001b[33mEvaluating over 5 folds: 100%[=========================] Time: 0:00:52\u001b[39m\u001b[K\n",
      "\u001b[33mEvaluating over 5 folds: 100%[=========================] Time: 0:00:53\u001b[39m\u001b[K\n",
      "\u001b[33mEvaluating over 5 folds: 100%[=========================] Time: 0:00:52\u001b[39m\u001b[K\n",
      "┌ Info: 2025-07-19T11:19:55.958\titeration: 27\tcurrent optimum: -2717.5992313647425\n",
      "└ @ BayesianOptimization /home/frank/.julia/packages/BayesianOptimization/nq1HY/src/BayesianOptimization.jl:140\n",
      "\u001b[33mEvaluating over 5 folds: 100%[=========================] Time: 0:00:00\u001b[39m\u001b[K\n",
      "\u001b[33mEvaluating over 5 folds: 100%[=========================] Time: 0:00:00\u001b[39m\u001b[K\n",
      "\u001b[33mEvaluating over 5 folds: 100%[=========================] Time: 0:00:00\u001b[39m\u001b[K\n",
      "┌ Info: 2025-07-19T11:19:57.066\titeration: 28\tcurrent optimum: -2717.5992313647425\n",
      "└ @ BayesianOptimization /home/frank/.julia/packages/BayesianOptimization/nq1HY/src/BayesianOptimization.jl:140\n",
      "\u001b[33mEvaluating over 5 folds: 100%[=========================] Time: 0:00:19\u001b[39m\u001b[K\n",
      "\u001b[33mEvaluating over 5 folds: 100%[=========================] Time: 0:00:19\u001b[39m\u001b[K\n",
      "\u001b[33mEvaluating over 5 folds: 100%[=========================] Time: 0:00:19\u001b[39m\u001b[K\n",
      "┌ Info: 2025-07-19T11:20:55.149\titeration: 29\tcurrent optimum: -2717.5992313647425\n",
      "└ @ BayesianOptimization /home/frank/.julia/packages/BayesianOptimization/nq1HY/src/BayesianOptimization.jl:140\n",
      "\u001b[33mEvaluating over 5 folds: 100%[=========================] Time: 0:00:22\u001b[39m\u001b[K\n",
      "\u001b[33mEvaluating over 5 folds: 100%[=========================] Time: 0:00:22\u001b[39m\u001b[K\u001b[K\n",
      "\u001b[33mEvaluating over 5 folds: 100%[=========================] Time: 0:00:22\u001b[39m\u001b[K\n",
      "┌ Info: 2025-07-19T11:22:02.681\titeration: 30\tcurrent optimum: -2717.5992313647425\n",
      "└ @ BayesianOptimization /home/frank/.julia/packages/BayesianOptimization/nq1HY/src/BayesianOptimization.jl:140\n",
      "\u001b[33mEvaluating over 5 folds: 100%[=========================] Time: 0:00:09\u001b[39m\u001b[K\n",
      "\u001b[33mEvaluating over 5 folds: 100%[=========================] Time: 0:00:09\u001b[39m\u001b[K\n",
      "\u001b[33mEvaluating over 5 folds: 100%[=========================] Time: 0:00:09\u001b[39m\u001b[K\n",
      "┌ Info: 2025-07-19T11:22:31.661\titeration: 31\tcurrent optimum: -2717.5992313647425\n",
      "└ @ BayesianOptimization /home/frank/.julia/packages/BayesianOptimization/nq1HY/src/BayesianOptimization.jl:140\n",
      "\u001b[33mEvaluating over 5 folds: 100%[=========================] Time: 0:00:16\u001b[39m\u001b[K\n",
      "\u001b[33mEvaluating over 5 folds: 100%[=========================] Time: 0:00:16\u001b[39m\u001b[K\n",
      "\u001b[33mEvaluating over 5 folds: 100%[=========================] Time: 0:00:16\u001b[39m\u001b[K\n",
      "┌ Info: 2025-07-19T11:23:19.863\titeration: 32\tcurrent optimum: -2717.5992313647425\n",
      "└ @ BayesianOptimization /home/frank/.julia/packages/BayesianOptimization/nq1HY/src/BayesianOptimization.jl:140\n",
      "\u001b[33mEvaluating over 5 folds: 100%[=========================] Time: 0:00:11\u001b[39m\u001b[K\n",
      "\u001b[33mEvaluating over 5 folds: 100%[=========================] Time: 0:00:11\u001b[39m\u001b[K\n",
      "\u001b[33mEvaluating over 5 folds: 100%[=========================] Time: 0:00:11\u001b[39m\u001b[K\n",
      "┌ Info: 2025-07-19T11:23:54.921\titeration: 33\tcurrent optimum: -2717.5992313647425\n",
      "└ @ BayesianOptimization /home/frank/.julia/packages/BayesianOptimization/nq1HY/src/BayesianOptimization.jl:140\n",
      "\u001b[33mEvaluating over 5 folds: 100%[=========================] Time: 0:00:03\u001b[39m\u001b[K\n",
      "\u001b[33mEvaluating over 5 folds: 100%[=========================] Time: 0:00:03\u001b[39m\u001b[K\n",
      "\u001b[33mEvaluating over 5 folds: 100%[=========================] Time: 0:00:04\u001b[39m\u001b[K\n",
      "┌ Info: 2025-07-19T11:24:06.796\titeration: 34\tcurrent optimum: -2717.5992313647425\n",
      "└ @ BayesianOptimization /home/frank/.julia/packages/BayesianOptimization/nq1HY/src/BayesianOptimization.jl:140\n",
      "\u001b[33mEvaluating over 5 folds: 100%[=========================] Time: 0:00:04\u001b[39m\u001b[K\n",
      "\u001b[33mEvaluating over 5 folds: 100%[=========================] Time: 0:00:04\u001b[39m\u001b[K\n",
      "\u001b[33mEvaluating over 5 folds: 100%[=========================] Time: 0:00:05\u001b[39m\u001b[K\n",
      "┌ Info: 2025-07-19T11:24:21.941\titeration: 35\tcurrent optimum: -2717.5992313647425\n",
      "└ @ BayesianOptimization /home/frank/.julia/packages/BayesianOptimization/nq1HY/src/BayesianOptimization.jl:140\n",
      "\u001b[33mEvaluating over 5 folds: 100%[=========================] Time: 0:00:55\u001b[39m\u001b[K\n",
      "\u001b[33mEvaluating over 5 folds: 100%[=========================] Time: 0:00:56\u001b[39m\u001b[K\n",
      "\u001b[33mEvaluating over 5 folds: 100%[=========================] Time: 0:00:56\u001b[39m\u001b[K\n",
      "┌ Info: 2025-07-19T11:27:10.299\titeration: 36\tcurrent optimum: -2680.1999834107496\n",
      "└ @ BayesianOptimization /home/frank/.julia/packages/BayesianOptimization/nq1HY/src/BayesianOptimization.jl:140\n",
      "\u001b[33mEvaluating over 5 folds: 100%[=========================] Time: 0:00:06\u001b[39m\u001b[K\n",
      "\u001b[33mEvaluating over 5 folds: 100%[=========================] Time: 0:00:05\u001b[39m\u001b[K\n",
      "\u001b[33mEvaluating over 5 folds: 100%[=========================] Time: 0:00:06\u001b[39m\u001b[K\n",
      "┌ Info: 2025-07-19T11:27:28.511\titeration: 37\tcurrent optimum: -2680.1999834107496\n",
      "└ @ BayesianOptimization /home/frank/.julia/packages/BayesianOptimization/nq1HY/src/BayesianOptimization.jl:140\n",
      "\u001b[33mEvaluating over 5 folds: 100%[=========================] Time: 0:00:32\u001b[39m\u001b[K\n",
      "\u001b[33mEvaluating over 5 folds: 100%[=========================] Time: 0:00:33\u001b[39m\u001b[K\n",
      "\u001b[33mEvaluating over 5 folds: 100%[=========================] Time: 0:00:33\u001b[39m\u001b[K\n",
      "┌ Info: 2025-07-19T11:29:08.513\titeration: 38\tcurrent optimum: -2680.1999834107496\n",
      "└ @ BayesianOptimization /home/frank/.julia/packages/BayesianOptimization/nq1HY/src/BayesianOptimization.jl:140\n",
      "\u001b[33mEvaluating over 5 folds: 100%[=========================] Time: 0:00:16\u001b[39m\u001b[K\n",
      "\u001b[33mEvaluating over 5 folds: 100%[=========================] Time: 0:00:17\u001b[39m\u001b[K\n",
      "\u001b[33mEvaluating over 5 folds: 100%[=========================] Time: 0:00:16\u001b[39m\u001b[K\n",
      "┌ Info: 2025-07-19T11:29:58.828\titeration: 39\tcurrent optimum: -2680.1999834107496\n",
      "└ @ BayesianOptimization /home/frank/.julia/packages/BayesianOptimization/nq1HY/src/BayesianOptimization.jl:140\n",
      "\u001b[33mEvaluating over 5 folds: 100%[=========================] Time: 0:00:39\u001b[39m\u001b[K\n",
      "\u001b[33mEvaluating over 5 folds: 100%[=========================] Time: 0:00:40\u001b[39m\u001b[K\n",
      "\u001b[33mEvaluating over 5 folds: 100%[=========================] Time: 0:00:40\u001b[39m\u001b[K\n",
      "┌ Info: 2025-07-19T11:31:59.531\titeration: 40\tcurrent optimum: -2680.1999834107496\n",
      "└ @ BayesianOptimization /home/frank/.julia/packages/BayesianOptimization/nq1HY/src/BayesianOptimization.jl:140\n",
      "\u001b[33mEvaluating over 5 folds: 100%[=========================] Time: 0:00:01\u001b[39m\u001b[K\n",
      "\u001b[33mEvaluating over 5 folds: 100%[=========================] Time: 0:00:01\u001b[39m\u001b[K\n",
      "\u001b[33mEvaluating over 5 folds: 100%[=========================] Time: 0:00:01\u001b[39m\u001b[K\n",
      "┌ Info: 2025-07-19T11:32:04.231\titeration: 41\tcurrent optimum: -2680.1999834107496\n",
      "└ @ BayesianOptimization /home/frank/.julia/packages/BayesianOptimization/nq1HY/src/BayesianOptimization.jl:140\n",
      "\u001b[33mEvaluating over 5 folds: 100%[=========================] Time: 0:00:48\u001b[39m\u001b[K\n",
      "\u001b[33mEvaluating over 5 folds: 100%[=========================] Time: 0:00:47\u001b[39m\u001b[K\n",
      "\u001b[33mEvaluating over 5 folds: 100%[=========================] Time: 0:00:48\u001b[39m\u001b[K\n",
      "┌ Info: 2025-07-19T11:34:29.172\titeration: 42\tcurrent optimum: -2680.1999834107496\n",
      "└ @ BayesianOptimization /home/frank/.julia/packages/BayesianOptimization/nq1HY/src/BayesianOptimization.jl:140\n",
      "\u001b[33mEvaluating over 5 folds: 100%[=========================] Time: 0:00:09\u001b[39m\u001b[K\n",
      "\u001b[33mEvaluating over 5 folds: 100%[=========================] Time: 0:00:09\u001b[39m\u001b[K\n",
      "\u001b[33mEvaluating over 5 folds: 100%[=========================] Time: 0:00:09\u001b[39m\u001b[K\n",
      "┌ Info: 2025-07-19T11:34:57.410\titeration: 43\tcurrent optimum: -2680.1999834107496\n",
      "└ @ BayesianOptimization /home/frank/.julia/packages/BayesianOptimization/nq1HY/src/BayesianOptimization.jl:140\n",
      "\u001b[33mEvaluating over 5 folds: 100%[=========================] Time: 0:00:03\u001b[39m\u001b[K\n",
      "\u001b[33mEvaluating over 5 folds: 100%[=========================] Time: 0:00:03\u001b[39m\u001b[K\n",
      "\u001b[33mEvaluating over 5 folds: 100%[=========================] Time: 0:00:03\u001b[39m\u001b[K\n",
      "┌ Info: 2025-07-19T11:35:07.527\titeration: 44\tcurrent optimum: -2680.1999834107496\n",
      "└ @ BayesianOptimization /home/frank/.julia/packages/BayesianOptimization/nq1HY/src/BayesianOptimization.jl:140\n",
      "\u001b[33mEvaluating over 5 folds: 100%[=========================] Time: 0:00:10\u001b[39m\u001b[K\n",
      "\u001b[33mEvaluating over 5 folds: 100%[=========================] Time: 0:00:09\u001b[39m\u001b[K\n",
      "\u001b[33mEvaluating over 5 folds: 100%[=========================] Time: 0:00:10\u001b[39m\u001b[K\n",
      "┌ Info: 2025-07-19T11:35:37.564\titeration: 45\tcurrent optimum: -2680.1999834107496\n",
      "└ @ BayesianOptimization /home/frank/.julia/packages/BayesianOptimization/nq1HY/src/BayesianOptimization.jl:140\n",
      "\u001b[33mEvaluating over 5 folds: 100%[=========================] Time: 0:00:24\u001b[39m\u001b[K\n",
      "\u001b[33mEvaluating over 5 folds: 100%[=========================] Time: 0:00:24\u001b[39m\u001b[K\n",
      "\u001b[33mEvaluating over 5 folds: 100%[=========================] Time: 0:00:24\u001b[39m\u001b[K\n",
      "┌ Info: 2025-07-19T11:36:50.132\titeration: 46\tcurrent optimum: -2680.1999834107496\n",
      "└ @ BayesianOptimization /home/frank/.julia/packages/BayesianOptimization/nq1HY/src/BayesianOptimization.jl:140\n",
      "\u001b[33mEvaluating over 5 folds: 100%[=========================] Time: 0:01:02\u001b[39m\u001b[K\n",
      "\u001b[33mEvaluating over 5 folds: 100%[=========================] Time: 0:01:02\u001b[39m\u001b[K\n",
      "\u001b[33mEvaluating over 5 folds: 100%[=========================] Time: 0:01:02\u001b[39m\u001b[K\n",
      "┌ Info: 2025-07-19T11:39:57.923\titeration: 47\tcurrent optimum: -2680.1999834107496\n",
      "└ @ BayesianOptimization /home/frank/.julia/packages/BayesianOptimization/nq1HY/src/BayesianOptimization.jl:140\n",
      "\u001b[33mEvaluating over 5 folds: 100%[=========================] Time: 0:00:18\u001b[39m\u001b[K\n",
      "\u001b[33mEvaluating over 5 folds: 100%[=========================] Time: 0:00:18\u001b[39m\u001b[K\n",
      "\u001b[33mEvaluating over 5 folds: 100%[=========================] Time: 0:00:18\u001b[39m\u001b[K\n",
      "┌ Info: 2025-07-19T11:40:53.386\titeration: 48\tcurrent optimum: -2680.1999834107496\n",
      "└ @ BayesianOptimization /home/frank/.julia/packages/BayesianOptimization/nq1HY/src/BayesianOptimization.jl:140\n",
      "\u001b[33mEvaluating over 5 folds: 100%[=========================] Time: 0:00:27\u001b[39m\u001b[K\n",
      "\u001b[33mEvaluating over 5 folds: 100%[=========================] Time: 0:00:27\u001b[39m\u001b[K\n",
      "\u001b[33mEvaluating over 5 folds: 100%[=========================] Time: 0:00:27\u001b[39m\u001b[K\n",
      "┌ Info: 2025-07-19T11:42:15.370\titeration: 49\tcurrent optimum: -2680.1999834107496\n",
      "└ @ BayesianOptimization /home/frank/.julia/packages/BayesianOptimization/nq1HY/src/BayesianOptimization.jl:140\n",
      "\u001b[33mEvaluating over 5 folds: 100%[=========================] Time: 0:01:08\u001b[39m\u001b[K\n",
      "\u001b[33mEvaluating over 5 folds: 100%[=========================] Time: 0:01:08\u001b[39m\u001b[K\n",
      "\u001b[33mEvaluating over 5 folds: 100%[=========================] Time: 0:01:08\u001b[39m\u001b[K\n",
      "┌ Info: ──────────────────────────────────────────────────────────────────────────────────────────────\n",
      "│                                                      Time                    Allocations      \n",
      "│                                             ───────────────────────   ────────────────────────\n",
      "│              Tot / % measured:                   3151s / 100.0%           1.38TiB / 100.0%    \n",
      "│ \n",
      "│ Section                             ncalls     time    %tot     avg     alloc    %tot      avg\n",
      "│ ──────────────────────────────────────────────────────────────────────────────────────────────\n",
      "│ function evaluation                    150    3146s   99.8%   21.0s   1.38TiB   99.9%  9.40GiB\n",
      "│ acquisition                             26    4.07s    0.1%   156ms   1.04GiB    0.1%  40.9MiB\n",
      "│ model update                            26    686ms    0.0%  26.4ms   79.3MiB    0.0%  3.05MiB\n",
      "│ model hyperparameter optimization       26    479ms    0.0%  18.4ms   94.6MiB    0.0%  3.64MiB\n",
      "│ ──────────────────────────────────────────────────────────────────────────────────────────────\n",
      "└ @ BayesianOptimization /home/frank/.julia/packages/BayesianOptimization/nq1HY/src/BayesianOptimization.jl:154\n"
     ]
    },
    {
     "data": {
      "text/plain": [
       "(observed_optimum = -2680.1999834107496,\n",
       " observed_optimizer = [397.43027116457426, 42.861192065031716, 4.493575091102045, 2.719869024451256, 0.722865842042675],\n",
       " model_optimum = -1.1100046699869173e-12,\n",
       " model_optimizer = [121.50348727887089, 45.3043103767943, 3.4175885458248185, 19.983088909816075, 0.6411708460922412],)"
      ]
     },
     "metadata": {},
     "output_type": "display_data"
    }
   ],
   "source": [
    "using GaussianProcesses  # Required for MeanConst and SEArd\n",
    "\n",
    "# Define search space\n",
    "lowerbounds = [10.0, 2.0, 1.0, 2.0, 0.1]  # min values for each param\n",
    "upperbounds = [400.0, 50.0, 10.0, 20.0, 1.0]  # max values\n",
    "\n",
    "# Define GP model\n",
    "model = ElasticGPE(\n",
    "    5,\n",
    "    mean = MeanConst(0.0),\n",
    "    kernel = SEArd(ones(5), 5.0),\n",
    "    logNoise = log(1e-4),\n",
    "    capacity = 3000\n",
    ")\n",
    "\n",
    "\n",
    "# Kernel has 6 parameters: 5 ARD + 1 scale:\n",
    "\n",
    "kernbounds_s = kernbounds_s = [[-2,-2,-2, -2, -2, -5],  # lower bounds for each parameter\n",
    "                               [2, 2, 2, 2, 2, 5] ] # upper bounds for each parameter\n",
    "                                 \n",
    "\n",
    "modeloptimizer = MAPGPOptimizer(\n",
    "    every = 30,\n",
    "\n",
    "    noisebounds = [-10, 3],\n",
    "    kernbounds = kernbounds_s,  # lower and upper bounds for 6 params + mean param\n",
    "    method = :LN_BOBYQA,  # Local, derivative-free optimizer\n",
    "    domean = false,  # Do not optimize the mean parameter\n",
    "    restarts = 5,        # Number of optimization restarts\n",
    "    maxeval = 100\n",
    ")\n",
    "\n",
    "acquisition = ExpectedImprovement()\n",
    "\n",
    "rf_objective = make_objective(X_train, y_train)\n",
    "\n",
    "# Build optimizer\n",
    "opt = BOpt(\n",
    "    rf_objective,\n",
    "    model,\n",
    "    acquisition,\n",
    "    modeloptimizer,\n",
    "    lowerbounds,\n",
    "    upperbounds;\n",
    "    sense = Max,               \n",
    "    maxiterations = 50,                \n",
    "    verbosity = Progress,\n",
    "    repetitions = 3\n",
    ")\n",
    "\n",
    "# Run optimization\n",
    "result = boptimize!(opt)\n",
    "\n"
   ]
  },
  {
   "cell_type": "markdown",
   "id": "481d2ab6",
   "metadata": {},
   "source": [
    "#### Fit optimized model"
   ]
  },
  {
   "cell_type": "code",
   "execution_count": 25,
   "id": "dca1e0b2",
   "metadata": {},
   "outputs": [
    {
     "name": "stderr",
     "output_type": "stream",
     "text": [
      "┌ Info: Training machine(RandomForestClassifier(max_depth = 43, …), …).\n",
      "└ @ MLJBase /home/frank/.julia/packages/MLJBase/7nGJF/src/machines.jl:499\n"
     ]
    },
    {
     "data": {
      "text/plain": [
       "9042-element CategoricalArray{Float64,1,UInt32}:\n",
       " 0.0\n",
       " 0.0\n",
       " 1.0\n",
       " 0.0\n",
       " 0.0\n",
       " 0.0\n",
       " 0.0\n",
       " 0.0\n",
       " 0.0\n",
       " 0.0\n",
       " ⋮\n",
       " 0.0\n",
       " 0.0\n",
       " 0.0\n",
       " 0.0\n",
       " 0.0\n",
       " 0.0\n",
       " 0.0\n",
       " 0.0\n",
       " 0.0"
      ]
     },
     "metadata": {},
     "output_type": "display_data"
    }
   ],
   "source": [
    "params = result.observed_optimizer\n",
    "\n",
    "\n",
    "n_estimators     = Int(round(params[1]))\n",
    "max_depth        = Int(round(params[2]))\n",
    "min_samples_leaf = Int(round(params[3]))\n",
    "min_samples_split = Int(round(params[4]))\n",
    "sampling_fraction = params[5]  # already Float64\n",
    "\n",
    "modelopt = RandomForestClassifier(\n",
    "    n_trees = n_estimators,\n",
    "    max_depth = max_depth,\n",
    "    min_samples_leaf = min_samples_leaf,\n",
    "    min_samples_split = min_samples_split,\n",
    "    sampling_fraction = sampling_fraction\n",
    ")\n",
    "\n",
    "rf_mach_opt = machine(modelopt, X_train, y_train)\n",
    "\n",
    "# Train (fit) the model.\n",
    "MLJ.fit!(rf_mach_opt)\n",
    "\n",
    "# Make predictions on the test data.\n",
    "y_pred_opt = MLJ.predict(rf_mach_opt, X_test)\n",
    "\n",
    "# If you're interested in the predicted labels (instead of probability distributions),\n",
    "# you can convert them with `mode.`\n",
    "opt_labels = mode.(y_pred_opt)"
   ]
  },
  {
   "cell_type": "markdown",
   "id": "d0656d60",
   "metadata": {},
   "source": [
    "#### Optimized metrics"
   ]
  },
  {
   "cell_type": "code",
   "execution_count": 26,
   "id": "c93568ef",
   "metadata": {},
   "outputs": [
    {
     "name": "stdout",
     "output_type": "stream",
     "text": [
      "Accuracy: 0.9111922141119222\n",
      "F1 Score: 0.5323238206173558\n",
      "Recall for class 1: 0.4323557237464522\n"
     ]
    },
    {
     "name": "stderr",
     "output_type": "stream",
     "text": [
      "┌ Warning: Levels not explicitly ordered. Using the order CategoricalValue{Float64, UInt32}[0.0, 1.0]. The \"positive\" level is 1.0. \n",
      "└ @ StatisticalMeasures.ConfusionMatrices /home/frank/.julia/packages/StatisticalMeasures/UTtxb/src/confusion_matrices.jl:339\n",
      "┌ Warning: Levels not explicitly ordered. Using the order CategoricalValue{Float64, UInt32}[0.0, 1.0]. The \"positive\" level is 1.0. \n",
      "└ @ StatisticalMeasures.ConfusionMatrices /home/frank/.julia/packages/StatisticalMeasures/UTtxb/src/confusion_matrices.jl:339\n"
     ]
    }
   ],
   "source": [
    "# Compute Accuracy\n",
    "acc = accuracy(opt_labels, y_test)\n",
    "println(\"Accuracy: \", acc)\n",
    "\n",
    "# Compute the Confusion Matrix\n",
    "conf_m_opt = confusion_matrix(opt_labels, y_test);\n",
    "\n",
    "# Compute F1 Score\n",
    "f1 = f1score(opt_labels, y_test)\n",
    "println(\"F1 Score: \", f1)\n",
    "\n",
    "# Compute Recall\n",
    "rec = recall(opt_labels, y_test)\n",
    "println(\"Recall for class 1: \", rec[1]) # rec[1] is the recall for class 1"
   ]
  },
  {
   "cell_type": "code",
   "execution_count": 27,
   "id": "1c279c70",
   "metadata": {},
   "outputs": [
    {
     "data": {
      "text/plain": [
       "          ┌─────────────┐\n",
       "          │Ground Truth │\n",
       "┌─────────┼──────┬──────┤\n",
       "│Predicted│ 0.0  │ 1.0  │\n",
       "├─────────┼──────┼──────┤\n",
       "│   0.0   │ 7782 │ 600  │\n",
       "├─────────┼──────┼──────┤\n",
       "│   1.0   │ 203  │ 457  │\n",
       "└─────────┴──────┴──────┘\n"
      ]
     },
     "metadata": {},
     "output_type": "display_data"
    }
   ],
   "source": [
    "conf_m_opt"
   ]
  },
  {
   "cell_type": "code",
   "execution_count": 28,
   "id": "a511a4a4",
   "metadata": {},
   "outputs": [
    {
     "data": {
      "text/plain": [
       "3203.0"
      ]
     },
     "metadata": {},
     "output_type": "display_data"
    }
   ],
   "source": [
    "# Cost\n",
    "\n",
    "custom_cost(opt_labels, y_test)"
   ]
  }
 ],
 "metadata": {
  "kernelspec": {
   "display_name": "Julia 1.11.3",
   "language": "julia",
   "name": "julia-1.11"
  },
  "language_info": {
   "file_extension": ".jl",
   "mimetype": "application/julia",
   "name": "julia",
   "version": "1.11.3"
  }
 },
 "nbformat": 4,
 "nbformat_minor": 5
}
